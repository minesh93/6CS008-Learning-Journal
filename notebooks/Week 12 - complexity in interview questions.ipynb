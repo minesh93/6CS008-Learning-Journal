{
 "metadata": {
  "name": "",
  "signature": "sha256:6fcc7b8ece7a153242d5ad45dd1b33e80160dfdf4cf53517dc0abeadc912c8e9"
 },
 "nbformat": 3,
 "nbformat_minor": 0,
 "worksheets": [
  {
   "cells": [
    {
     "cell_type": "heading",
     "level": 1,
     "metadata": {},
     "source": [
      "Interview"
     ]
    },
    {
     "cell_type": "markdown",
     "metadata": {},
     "source": [
      "Some software development companies ask job candidates to design and / or implement programs as part of an interview process. The interviewer is not necessarily looking for you to produce a completely correct answer, they are looking to see how good your problem solving skills are. You can use what you have learned in 6CS008 to help you in this situation!\n",
      "\n",
      "Let's look at some interview questions that people have been asked in the past. Use the Big-O Complexity Cheat Sheet on WOLF to help. \n",
      "\n",
      "**Workshop task:**\n",
      "Write up your answers to these questions for your learning journal."
     ]
    },
    {
     "cell_type": "heading",
     "level": 2,
     "metadata": {},
     "source": [
      "Question 0: Fizz Buzz"
     ]
    },
    {
     "cell_type": "markdown",
     "metadata": {},
     "source": [
      "This is an easy question, but it has become quite famous in the blog-o-sphere. I've included it here because it is asked quite frequently.\n",
      "\n",
      "Write a program that prints the numbers from 1 to 100. But for multiples of three print \"Fizz\" instead of the number and for the multiples of five print \"Buzz\". For numbers which are multiples of both three and five print \"FizzBuzz\"."
     ]
    },
    {
     "cell_type": "raw",
     "metadata": {},
     "source": [
      "# FOR int i 1 to 100\n",
      "    #if i % 3 == 0\n",
      "        #printOnSameLine \"Buzz\"\n",
      "    #if i % 5 == 0\n",
      "        #printOnSameLine \"Fizz\"\n",
      "    #gotoNewLine"
     ]
    },
    {
     "cell_type": "heading",
     "level": 2,
     "metadata": {},
     "source": [
      "Question 1: Find all valid anagrams of a word"
     ]
    },
    {
     "cell_type": "markdown",
     "metadata": {},
     "source": [
      "Given an English word in the form of a string, how can you quickly find all valid anagrams for that string (all valid rearrangements of the letters that form valid English words)? You are allowed to pre\u2010compute whatever you want to and store whatever you optionally pre\u2010compute on disk.\n",
      "\n",
      "What is the Big-O complexity of your solution?"
     ]
    },
    {
     "cell_type": "markdown",
     "metadata": {},
     "source": [
      "**ANSWER**\n",
      "\n",
      "Pre-computed hash table containing the different anagrams of a word when it is sorted i.e anagrams of cat would be act,tac,cat.\n",
      "But that would stored under the key 'act' as they would only need to be sorted which would be if quicksort was used **o(n log(n))**\n",
      "\n",
      "From there when a word's possible anagrams needs to be found it will be sorted **which will be o(n)** and then look up will be done for that key.\n",
      "Which means the **complexity is going to be o(1) since that is the big-o complexity of a hash table**"
     ]
    },
    {
     "cell_type": "heading",
     "level": 2,
     "metadata": {},
     "source": [
      "Question 2: Nearest neighbours"
     ]
    },
    {
     "cell_type": "markdown",
     "metadata": {},
     "source": [
      "Say you have an array containing information regarding *n* people. Each person is described using a string (their name) a number (their position along a number \n",
      "line). Each person has three friends, which are the three people whose number is\n",
      "nearest their own. Describe an algorithm to identify each person's three friends. What is the Big-O complexity of your algorithm?"
     ]
    },
    {
     "cell_type": "markdown",
     "metadata": {},
     "source": [
      "** ANSWER **\n",
      "Assuming that the storage could be made into an array of tuples so the format could be represent as:\n",
      "[ (\"Oli\",4), (\"Ben\",10), (\"James\",7), (\"Jon\",3)]\n",
      "The first task would be sort that list based of their numbers using the quicksort which would have a complexity of **O(n log(n))**\n",
      "Which would result in\n",
      "[ (\"Jon\",3), (\"Oli\",4), (\"James\",7), (\"Ben\",10)]\n",
      "From there we could look up a number with binary search which would be **O(n log(n))** and from there look at the neighbouring numbers to see who the friends of the searched person is with 3 binary searches\n"
     ]
    },
    {
     "cell_type": "heading",
     "level": 2,
     "metadata": {},
     "source": [
      "Question 3: Reversing a string (or words in a string)"
     ]
    },
    {
     "cell_type": "markdown",
     "metadata": {},
     "source": [
      "Design an algorithm to reverse a string *in place* (i.e. without creating another string or allocating another buffer). What is the Big-O complexity of your algorithm?"
     ]
    },
    {
     "cell_type": "markdown",
     "metadata": {},
     "source": [
      "**ANSWER**\n",
      "\n",
      "Store the length of the string variable \n",
      "Take the last character of the string and append it to the end of the string \n",
      "From there do same for all the characters on the left until the start of the string has been reached \n",
      "\n",
      "**This would have a complexity of O(n) as this would depend on the size of the string **\n",
      "\n",
      "table would become tableelbat\n",
      "\n",
      "Once the length of this string has reached 2x the stored value  start deleting all the characters from the left until the length matches the stored value \n",
      "**Which would result in a complexity of O(n) which is the size of the original string**\n",
      "\n",
      "**Overall complexity would be O(2n)** \n",
      "\n",
      "End result is elbat"
     ]
    },
    {
     "cell_type": "heading",
     "level": 2,
     "metadata": {},
     "source": [
      "Question 4: Breaking the unbreakable"
     ]
    },
    {
     "cell_type": "markdown",
     "metadata": {},
     "source": [
      "You work for a company that manufactures unbreakable light bulbs. The company headquarters is in a one hundred floor building. Each floor in the building is 3 metres high. \n",
      "\n",
      "You have been hired to find out just how unbreakable the unbreakable light bulbs are and you are allowed to test the bulbs by dropping them out of the windows of the building. Your result should be something like \"The light bulbs can withstand a fall from a height of *n* metres (plus or minus *m* metres)\".\n",
      "\n",
      "How many light bulbs do you have to throw out of the building to reach a conclusion?\n",
      "\n",
      "**Hint:** think about an *equivalent* problem in software."
     ]
    },
    {
     "cell_type": "markdown",
     "metadata": {},
     "source": [
      "** ANSWER **\n",
      "\n",
      "** This problem can be approach by using a binary search algorithm ** \n",
      "\n",
      "** Based on the assumption that there are 33 floors but only 32 of those floors are droppable floors (the ground floor being the \n",
      "\n",
      "So starting off the first thing that would be done is to start from the **16th** foor and from there if it breaks go down to the **8th** floor otherwise go to the **24th** floor\n",
      "\n",
      "If it breaks from the **8th** floor go down to the **4th** floor \n",
      "If it does not break on the 4th floor then the answer may lay between the 5th floor and the 7th so go to the **6th** floor\n",
      "\n",
      "The idea of using a mid point between every throw based on the result is how this idea would replicate the binary search alogirthm.\n",
      "\n",
      "**The worst case scenario could be throwing 5 light bulbs as that would mean going to the 1st floor or the 32nd floor.**\n",
      "\n",
      "**From whatever floor has been as the threshold to break. (Plus or minus 3 metres as that would be the height of that current floor)**\n",
      "\n"
     ]
    },
    {
     "cell_type": "heading",
     "level": 2,
     "metadata": {},
     "source": [
      "Question 5: Duplicate numbers"
     ]
    },
    {
     "cell_type": "markdown",
     "metadata": {},
     "source": [
      "You have a list of *n+1* integers between *1* and *n*. You know there is at least one duplicated number, but there might be more. For example, if *n=3*, your list might be *3, 1, 1, 3* or it might be *1, 3, 2, 2*. Print out all numbers that appears in the list more than once. What is the Big-O complexity of your solution?"
     ]
    },
    {
     "cell_type": "markdown",
     "metadata": {},
     "source": [
      "**ANSWER**\n",
      "\n",
      "The first step would be to iterate over the list of integers, that would have a **complexity of O(n)**\n",
      "\n",
      "Assuming each list is an array search for items would have a complexity of **O(n)** \n",
      "\n",
      "Inside each iteration look through every number in the list\n",
      "\n",
      "Along with that store each number into a temporary array **This array is empty everytime a new list is being checked** which should have a complexity of **O(n) where n is the number of items in the array currently** \n",
      "\n",
      "But before that check to see if that number exists in the array **Which will have a complexity of O(n), if number already exists print out the list and move to the next iteration of the loop otherwise carry on checking the rest of the numbers** \n",
      "\n",
      "\n",
      "**\n",
      "Iterating through each loop and every item in that loop should result in a complexity of O(n^2) \n",
      "Add the searching and checking that should result in O(2n)\n",
      "**\n",
      "\n",
      "\n",
      "\n"
     ]
    },
    {
     "cell_type": "code",
     "collapsed": false,
     "input": [
      "#- Rough pseudocode to justify the answer\n",
      "#- For each list \n",
      "    #- Temp array =[]\n",
      "    #- For all numbers in list \n",
      "        #- Does that number exist in temp array \n",
      "            #- No (Then Add it)\n",
      "            \n",
      "            #- Yes (Duplicate number found, Print list and continue to next iteration)\n",
      "        #\n",
      "    #"
     ],
     "language": "python",
     "metadata": {},
     "outputs": [],
     "prompt_number": 1
    },
    {
     "cell_type": "heading",
     "level": 2,
     "metadata": {},
     "source": [
      "Question 6: Solving Hangman"
     ]
    },
    {
     "cell_type": "markdown",
     "metadata": {},
     "source": [
      "You are working for a company which writes small games for the web and mobile platforms. You have joined a team which is just about to start work on a game of Hangman for the web. Your role in the team will be to design and implement an AI player for Hangman. Given that the game will have a dictionary of words to work from, what data structures and algorithms would you use to design your Hangman player? Justify your answer with reference to the Big-O complexity of your choices?\n",
      "\n"
     ]
    },
    {
     "cell_type": "markdown",
     "metadata": {},
     "source": [
      "**ANSWER**\n",
      "\n",
      "Assuming there is one word and that is stored as an array (each letter being an element) same as the hidden word.\n",
      "\n",
      "Have a precomputed list of words in an array where each word would just be a single element.\n",
      "After the array has been built a quicksort (**O(n log(n))**) could be done to ensure the words are in alphabetical order.\n",
      "\n",
      "The AI will also have an two arrays of possible choices one array to store all the letters that it has not tried and one empty array to contain all the word choices it could possibly try (Is a copy of the dictionary). \n",
      "\n",
      "\n",
      "\n",
      "The first task the AI player would do is iterate through all the words in the array that do not have the same length as the word the AI is trying to guess. AKA if word is 4 letters remove all words that do not have a length of 4. **This would result in going through each word and checking its length then removing it if is not the same length as the word to be guessed which results in the complexity being O(n)**\n",
      "\n",
      "The AI player would then begin placing a random vowel to begin with which would involve doing a binary search for a random vowel.\n",
      "\n",
      "\n",
      "After that vowel has been attempted it will be removed from the array of unused letters which will have **complexity of O(n)** \n",
      "\n",
      "The vowel is then checked against the word using a linear search to see if a match for that vowel can be found. **Complexity of O(n) where N is the number of letters in the word \n",
      "CHECKING PROCESS WILL BE KNOWN AS CHECK_LETTER\n",
      "** \n",
      "\n",
      "If that vowel is NOT found in the word then the AI will look through the the possible choices and remove any words that use that vowel. This process have a complexity of **O(n^2) ** as for every word in the possible choices, the AI will have to iterate through every letter in a linear fashion to see it can be found. \n",
      "\n",
      "**THIS PROCESS WILL BE KNOWN AS REMOVE_BY_LETTER - COMPLEXITY OF O(n^2)**.\n",
      "\n",
      "\n",
      "However if the vowel IS found it is placed in the correct location in the hidden array where a linear search is conducted and the position of each letter is checked. If the letter is meant to be in this position it will be placed in the hidden word array. \n",
      "\n",
      "**The iteration and insertion will result in a Complexity of O(2n) as O(n) for the iteration and O(n) for the insertion of letter **\n",
      "\n",
      "**THIS PROCESS WILL BE KNOWN AS SEARCH_AND_ADD - COMPLEXITY OF O(2n)**\n",
      "\n",
      "\n",
      "The AI will then go through the possible choices array and remove all the words that do not match the structure of found letters i.e. If the vowel O had a match and the current status of found letters represented _OO_ it would remove all words that would not match that structure using Regular Expressions. Which means iterating through the list of current choices and removing words that did not match which would result in a complexity of **O(n) where number of words**\n",
      "\n",
      "** THIS PROCESS WILL BE KNOWN AS REMOVE_BY_REGEX**\n",
      "\n",
      "\n",
      "Once that has been done the AI can then pick a random word from the list of current choices (This could be done be generating a random ID and picking that out via binary search ** Complexity of O(log(n)) WE SHALL NAME THIS PROCESS GUESS_LETTER** The processes of:\n",
      "\n",
      "1.**CHECK_LETTER**\n",
      "\n",
      "2.**IF FOUND SEARCH_AND_ADD THEN REMOVE_BY_REGEX**\n",
      "\n",
      "3.**ELSE REMOVE_BY_LETTER**\n",
      "\n",
      "4.**GUESS_LETTER AND GO BACK TO STEP ONE** \n",
      "\n",
      "This is done until the word has been found by the AI by the process of elimination.\n",
      "\n",
      "**Complexities are listed throughout this answer.**\n"
     ]
    },
    {
     "cell_type": "heading",
     "level": 2,
     "metadata": {},
     "source": [
      "Question 7: Spell checker"
     ]
    },
    {
     "cell_type": "markdown",
     "metadata": {},
     "source": [
      "What algorithms and data structures would you use to implement a spell checker for Microsoft Word, and why?"
     ]
    },
    {
     "cell_type": "markdown",
     "metadata": {},
     "source": [
      "**ANSWER**\n",
      "\n",
      "**STRUCTURES** \n",
      "\n",
      "List of stored words would be hash table as searching items would be fast since the big-o complexity is O(1)\n",
      "The keys would be quicksorted versions of words such as tab,bat would be sorted as abt since that is unique to those two words. O(n log(n))\n",
      "All the incorrect/unfinished words will be stored in an array since it will fast to search through.\n",
      "\n",
      "**ALGORITHM**\n",
      "\n",
      "Every time a user types a key there will be a check done on all the words present:\n",
      "\n",
      "For every word check if that is word exists in the sorted list of words\n",
      "\n",
      "This involves sorting that word with quicksort so it is in alphabetical format, then looking for any keys that match the hash table. \n",
      "Complexity for this operation would be **O(n log(n)) + O(1)**\n",
      "\n",
      "Then go through the list of words with a linear search relating to that key trying to find a match.\n",
      "        \n",
      "**IF A MATCH IS FOUND**\n",
      "Check inside the array of incorrect words where the index of this word is the key to be searched for. If that cannot be found in the incorrect words then the loop checking every work carries on otherwise it s removed. **O(n) - For linear searching and O(1) setting the found index to null so that program will later know that this word is correct.**\n",
      "\n",
      "** IF NO MATCH IS FOUND**\n",
      "Add the index of the current word to the incorrect words array.\n",
      "\n",
      "\n",
      "**EXPLAINING THE INCORRECT WORDS ARRAY**\n",
      "\n",
      "[1]=>'a' [2]=>'dog' [3]=>'mangaes' [4]=>'to' [5]=>'code' [6]=>'pthyon'\n",
      "\n",
      "This is the array containing all the words typed out. When the check is done the content of the incorrect words would be (3,6)\n",
      "\n",
      "**FOR ALL THE INCORRECT WORDS** \n",
      "Go through each quicksorted key check if it exists if it does list the all the words related to that key as word suggestions\n",
      "\n",
      "If there is no existing key for the words typed try do a linear search through the dictionary where any words that form the same pattern of characters as the incorrect word as lissted as suggestions **THIS MAY BE EXHAUSTIVE AS THIS MAY HAVE A COMPLEXITY OF O(N^2) AS IT WILL ITERATE OVER EVERY WORD IN THE DICTIONARY WHICH MEANS ITERATING OVER EVERY KEY THEN OVER EVERY ITEM RELATIVE TO THAT KEY** \n",
      "\n",
      "This solution was chosen because it will allow dynamic checking to exist so that it will constantly check the users spelling just as microsoft word does. The use of a hash table will mean fast results for suggestions but the last exhaustive case may take up some computing power as it will look through the entire dictionary"
     ]
    },
    {
     "cell_type": "code",
     "collapsed": false,
     "input": [],
     "language": "python",
     "metadata": {},
     "outputs": []
    },
    {
     "cell_type": "code",
     "collapsed": false,
     "input": [],
     "language": "python",
     "metadata": {},
     "outputs": []
    }
   ],
   "metadata": {}
  }
 ]
}