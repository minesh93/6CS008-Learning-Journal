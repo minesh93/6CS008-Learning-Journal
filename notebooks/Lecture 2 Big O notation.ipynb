{
 "metadata": {
  "name": "",
  "signature": "sha256:e655cdd9aa790ddb481733798cc9ce658612f60cfaa458aafcb645ec3b302486"
 },
 "nbformat": 3,
 "nbformat_minor": 0,
 "worksheets": [
  {
   "cells": [
    {
     "cell_type": "heading",
     "level": 1,
     "metadata": {},
     "source": [
      "Lecture 2 Algorithm analysis"
     ]
    },
    {
     "cell_type": "heading",
     "level": 2,
     "metadata": {},
     "source": [
      "Benchmark analysis"
     ]
    },
    {
     "cell_type": "markdown",
     "metadata": {},
     "source": [
      "Last week we had a look at the <b>range</b> function we are going to begin this session by implementing our own version.<br>\n",
      "Write version of the range function call it myRange that takes 1 parameter n and returns a list of integers from 0 to n-1."
     ]
    },
    {
     "cell_type": "markdown",
     "metadata": {},
     "source": [
      "Note: use a <b>while</b> loop to manage the iteration and the <b>append</b> method for the list.<br>"
     ]
    },
    {
     "cell_type": "code",
     "collapsed": false,
     "input": [
      "def myRange(n):\n",
      "    returnList = [0]\n",
      "    counter = 0\n",
      "    while n != counter:\n",
      "        counter += 1\n",
      "        returnList.append(counter)\n",
      "    return returnList\n",
      "\n",
      "\n",
      "print myRange(5)"
     ],
     "language": "python",
     "metadata": {},
     "outputs": [
      {
       "output_type": "stream",
       "stream": "stdout",
       "text": [
        "[0, 1, 2, 3, 4, 5]\n"
       ]
      }
     ],
     "prompt_number": 8
    },
    {
     "cell_type": "markdown",
     "metadata": {},
     "source": [
      "We are going to run some timing tests (Benchmarking) of the operation for our function against different sizes of range requests.<br><b>Benchmarking</b> is the process of assessment of the relative performance of software.<br><br>\n",
      "Run your completed myRange function above and then benchmarking program below."
     ]
    },
    {
     "cell_type": "code",
     "collapsed": false,
     "input": [
      "import time\n",
      "intervals = [20,50,100,200,500,1000,2000,5000]\n",
      "start = 0\n",
      "for test in intervals:\n",
      "    start = time.clock()\n",
      "    for i in xrange(100):\n",
      "        myRange(test)    ### <--- the fuction under test\n",
      "    print 'duration for %d is %f' % (test, (time.clock() - start)*1000) # * 1000 to scale to integers"
     ],
     "language": "python",
     "metadata": {},
     "outputs": [
      {
       "output_type": "stream",
       "stream": "stdout",
       "text": [
        "duration for 20 is 0.546084\n",
        "duration for 50 is 1.211050\n",
        "duration for 100 is 2.618811\n",
        "duration for 200 is 4.725748\n",
        "duration for 500 is 11.579386\n",
        "duration for 1000 is 21.973807\n",
        "duration for 2000 is 42.628373"
       ]
      },
      {
       "output_type": "stream",
       "stream": "stdout",
       "text": [
        "\n",
        "duration for 5000 is 107.135618"
       ]
      },
      {
       "output_type": "stream",
       "stream": "stdout",
       "text": [
        "\n"
       ]
      }
     ],
     "prompt_number": 12
    },
    {
     "cell_type": "markdown",
     "metadata": {},
     "source": [
      "Python has a library to plot graphs called pyplot (part of matplotlib).<br>\n",
      "The method <b>plot</b> draws the graph to a view it takes the following arguments<br>\n",
      "plot(sequence-of-x-axis, sequence-of-y-values, format-string [, sequence-of-y-values, format-string ...])<br> \n",
      "The <b>show</b> method displays the plot.<br>\n",
      "Run the benchmarking program below the plot may open in a different window.  "
     ]
    },
    {
     "cell_type": "markdown",
     "metadata": {},
     "source": [
      "We can see that the iterative solutions seem to be doing more work since some program steps are being repeated.<br> This is likely the reason it is taking longer. Also, the time required for the iterative solution seems to increase as we increase the value of n.<br> However, there is a problem. If we ran the same function on a different computer or used a different programming language, we would likely get different results. It could take even longer to perform myRange if the computer were older."
     ]
    },
    {
     "cell_type": "code",
     "collapsed": false,
     "input": [
      "import time\n",
      "import matplotlib.pyplot as plt\n",
      "intervals = [20,50,100,200,500,1000,2000,5000]\n",
      "rangeTimes = []\n",
      "start = 0\n",
      "for test in intervals:\n",
      "    start = time.clock()\n",
      "    for i in xrange(100):\n",
      "        myRange(test)\n",
      "    rangeTimes.append((time.clock() - start)*1000)\n",
      "plt.plot(intervals, rangeTimes, 'b--') ##, xrangeTimes, 'r--')\n",
      "plt.show()"
     ],
     "language": "python",
     "metadata": {},
     "outputs": [
      {
       "ename": "ImportError",
       "evalue": "No module named numpy",
       "output_type": "pyerr",
       "traceback": [
        "\u001b[1;31m---------------------------------------------------------------------------\u001b[0m\n\u001b[1;31mImportError\u001b[0m                               Traceback (most recent call last)",
        "\u001b[1;32m<ipython-input-5-3d7cee031d34>\u001b[0m in \u001b[0;36m<module>\u001b[1;34m()\u001b[0m\n\u001b[0;32m      1\u001b[0m \u001b[1;32mimport\u001b[0m \u001b[0mtime\u001b[0m\u001b[1;33m\u001b[0m\u001b[0m\n\u001b[1;32m----> 2\u001b[1;33m \u001b[1;32mimport\u001b[0m \u001b[0mmatplotlib\u001b[0m\u001b[1;33m.\u001b[0m\u001b[0mpyplot\u001b[0m \u001b[1;32mas\u001b[0m \u001b[0mplt\u001b[0m\u001b[1;33m\u001b[0m\u001b[0m\n\u001b[0m\u001b[0;32m      3\u001b[0m \u001b[0mintervals\u001b[0m \u001b[1;33m=\u001b[0m \u001b[1;33m[\u001b[0m\u001b[1;36m20\u001b[0m\u001b[1;33m,\u001b[0m\u001b[1;36m50\u001b[0m\u001b[1;33m,\u001b[0m\u001b[1;36m100\u001b[0m\u001b[1;33m,\u001b[0m\u001b[1;36m200\u001b[0m\u001b[1;33m,\u001b[0m\u001b[1;36m500\u001b[0m\u001b[1;33m,\u001b[0m\u001b[1;36m1000\u001b[0m\u001b[1;33m,\u001b[0m\u001b[1;36m2000\u001b[0m\u001b[1;33m,\u001b[0m\u001b[1;36m5000\u001b[0m\u001b[1;33m]\u001b[0m\u001b[1;33m\u001b[0m\u001b[0m\n\u001b[0;32m      4\u001b[0m \u001b[0mrangeTimes\u001b[0m \u001b[1;33m=\u001b[0m \u001b[1;33m[\u001b[0m\u001b[1;33m]\u001b[0m\u001b[1;33m\u001b[0m\u001b[0m\n\u001b[0;32m      5\u001b[0m \u001b[0mstart\u001b[0m \u001b[1;33m=\u001b[0m \u001b[1;36m0\u001b[0m\u001b[1;33m\u001b[0m\u001b[0m\n",
        "\u001b[1;32mC:\\Python27\\lib\\site-packages\\matplotlib\\__init__.py\u001b[0m in \u001b[0;36m<module>\u001b[1;34m()\u001b[0m\n\u001b[0;32m    178\u001b[0m \u001b[1;31m# cbook must import matplotlib only within function\u001b[0m\u001b[1;33m\u001b[0m\u001b[1;33m\u001b[0m\u001b[0m\n\u001b[0;32m    179\u001b[0m \u001b[1;31m# definitions, so it is safe to import from it here.\u001b[0m\u001b[1;33m\u001b[0m\u001b[1;33m\u001b[0m\u001b[0m\n\u001b[1;32m--> 180\u001b[1;33m \u001b[1;32mfrom\u001b[0m \u001b[0mmatplotlib\u001b[0m\u001b[1;33m.\u001b[0m\u001b[0mcbook\u001b[0m \u001b[1;32mimport\u001b[0m \u001b[0mis_string_like\u001b[0m\u001b[1;33m\u001b[0m\u001b[0m\n\u001b[0m\u001b[0;32m    181\u001b[0m \u001b[1;32mfrom\u001b[0m \u001b[0mmatplotlib\u001b[0m\u001b[1;33m.\u001b[0m\u001b[0mcompat\u001b[0m \u001b[1;32mimport\u001b[0m \u001b[0msubprocess\u001b[0m\u001b[1;33m\u001b[0m\u001b[0m\n\u001b[0;32m    182\u001b[0m \u001b[1;33m\u001b[0m\u001b[0m\n",
        "\u001b[1;32mC:\\Python27\\lib\\site-packages\\matplotlib\\cbook.py\u001b[0m in \u001b[0;36m<module>\u001b[1;34m()\u001b[0m\n\u001b[0;32m     31\u001b[0m \u001b[1;32mfrom\u001b[0m \u001b[0mweakref\u001b[0m \u001b[1;32mimport\u001b[0m \u001b[0mref\u001b[0m\u001b[1;33m,\u001b[0m \u001b[0mWeakKeyDictionary\u001b[0m\u001b[1;33m\u001b[0m\u001b[0m\n\u001b[0;32m     32\u001b[0m \u001b[1;33m\u001b[0m\u001b[0m\n\u001b[1;32m---> 33\u001b[1;33m \u001b[1;32mimport\u001b[0m \u001b[0mnumpy\u001b[0m \u001b[1;32mas\u001b[0m \u001b[0mnp\u001b[0m\u001b[1;33m\u001b[0m\u001b[0m\n\u001b[0m\u001b[0;32m     34\u001b[0m \u001b[1;32mimport\u001b[0m \u001b[0mnumpy\u001b[0m\u001b[1;33m.\u001b[0m\u001b[0mma\u001b[0m \u001b[1;32mas\u001b[0m \u001b[0mma\u001b[0m\u001b[1;33m\u001b[0m\u001b[0m\n\u001b[0;32m     35\u001b[0m \u001b[1;33m\u001b[0m\u001b[0m\n",
        "\u001b[1;31mImportError\u001b[0m: No module named numpy"
       ]
      }
     ],
     "prompt_number": 5
    },
    {
     "cell_type": "markdown",
     "metadata": {},
     "source": [
      "As we examined last week with range we have to build the entire list before returning the result and ending the function.<br>\n",
      "Python provides another type function called a generator that is able to return a value via a <b>yield</b> statement but the function persists so when it is called again the function resumes on the statement following the yield.\n",
      "<br><br>The xrange function might therefore be implemented as below. "
     ]
    },
    {
     "cell_type": "code",
     "collapsed": false,
     "input": [
      "def myXRange(n):\n",
      "    counter = 0\n",
      "    while n != counter:\n",
      "        yield counter\n"
     ],
     "language": "python",
     "metadata": {},
     "outputs": [],
     "prompt_number": 13
    },
    {
     "cell_type": "code",
     "collapsed": false,
     "input": [
      "import time\n",
      "intervals = [20,50,100,200,500,1000,2000,5000]\n",
      "start = 0\n",
      "for test in intervals:\n",
      "    start = time.clock()\n",
      "    for i in xrange(100):\n",
      "        myXRange(test)\n",
      "    print 'duration for %d is %f' % (test, (time.clock() - start)*1000)"
     ],
     "language": "python",
     "metadata": {},
     "outputs": [
      {
       "output_type": "stream",
       "stream": "stdout",
       "text": [
        "duration for 20 is 0.061151\n",
        "duration for 50 is 0.059441\n",
        "duration for 100 is 0.058158\n",
        "duration for 200 is 0.058585\n",
        "duration for 500 is 0.057730\n",
        "duration for 1000 is 0.058585\n",
        "duration for 2000 is 0.057730\n",
        "duration for 5000 is 0.057730\n"
       ]
      }
     ],
     "prompt_number": 14
    },
    {
     "cell_type": "markdown",
     "metadata": {},
     "source": [
      "We need a better way to characterize these algorithms with respect to execution time. The benchmark technique computes the actual time to execute.<br> It does not really provide us with a useful measurement, because it is dependent on a particular machine, program, time of day, compiler, and programming language.<br> Instead, we would like to have a characterization that is independent of the program or computer being used. This measure would then be useful for judging the algorithm alone and could be used to compare algorithms across implementations."
     ]
    },
    {
     "cell_type": "heading",
     "level": 2,
     "metadata": {},
     "source": [
      "Big O notation"
     ]
    },
    {
     "cell_type": "raw",
     "metadata": {},
     "source": [
      "What do we want to know when comparing algorithms? \n",
      "The most important thing is how quickly the time requirements increase with input size \n",
      "e.g. If we double the input size how much longer does an algorithm take? "
     ]
    },
    {
     "cell_type": "markdown",
     "metadata": {},
     "source": [
      "Benchmarking gives an indication of the speed of execution of a function but it is subject the implementation language, the underlying hardware and the Operating System. \n",
      "Another way to categorise code is in terms the efficiency of the code."
     ]
    },
    {
     "cell_type": "markdown",
     "metadata": {},
     "source": [
      "Algorithm analysis is concerned with comparing algorithms based upon the amount of computing resources that each algorithm uses. We want to be able to consider two algorithms and say that one is better than the other because it is more efficient in its use of those resources or perhaps because it simply uses fewer."
     ]
    },
    {
     "cell_type": "markdown",
     "metadata": {},
     "source": [
      "What do we really mean by computing resources. There are two different ways to look at this. One way is to consider the amount of space or memory an algorithm requires to solve the problem. The amount of space required by a problem solution is typically dictated by the problem instance itself."
     ]
    },
    {
     "cell_type": "markdown",
     "metadata": {},
     "source": [
      "The other resource is the amount of time they require to execute. This measure is sometimes referred to as the \"execution time\" or \"running time\" of the algorithm. As we have seen we can measure the execution time for the function by performing a benchmark analysis."
     ]
    },
    {
     "cell_type": "markdown",
     "metadata": {},
     "source": [
      "When trying to characterize an algorithm\u2019s efficiency in terms of execution time, independent of any particular program or computer, it is important to quantify the number of operations or steps that the algorithm will require.  If each of these steps is considered to be a basic unit of computation, then the execution time for an algorithm can be expressed as the number of steps required to solve the problem.  Deciding on an appropriate basic unit of computation can be a complicated problem and will depend on how the algorithm is implemented.<br><br>"
     ]
    },
    {
     "cell_type": "markdown",
     "metadata": {},
     "source": [
      "A good basic unit of computation for comparing the summationmyRange algorithms shown earlier might be to count the number of assignment statements performed to compute the result. In the myRange function, the number of assignment statements is 2 (result = [] and count = 0) plus the value of 2 * n (the number of times we perform result.append(count) and count += 1).  We can denote this by a function, call it T, where T(n)=2+2*n.  The parameter n is often referred to as the \"size of the problem\" and we can read this as: <i>\"T(n) is the time it takes to solve a problem of size n, namely 2+2n steps.\"</i><br><br>"
     ]
    },
    {
     "cell_type": "markdown",
     "metadata": {},
     "source": [
      "It makes sense to use the number of terms in myRange to denote the size of the problem. We can then say that the generation of the first 100,000 integers is a bigger instance of the myRange problem than the generation of the first 1,000. Because of this, it might seem reasonable that the time required to solve the larger case would be greater than for the smaller case. Our goal then is to show how the algorithm\u2019s execution time changes with respect to the size of the problem.<br><br>"
     ]
    },
    {
     "cell_type": "markdown",
     "metadata": {},
     "source": [
      "In computer science we take this analysis technique one step further. It turns out that the exact number of operations is not as important as determining the most dominant part of the T(n) function. In other words, as the problem gets larger, some portion of the T(n) function tends to overpower the rest. This dominant term is what, in the end, is used for comparison. The order of magnitude function describes the part of T(n) that increases the fastest as the value of n increases. Order of magnitude is often called <b>Big-O notation</b> (for \"order\") and written as <b>O(f(n))</b>. It is also called <b>Asymptotic</b> notation to give it it's mathematical name. Big-O notation provides a useful approximation to the actual number of steps in the computation. The function f(n) provides a simple representation of the dominant part of the original T(n).<br><br>"
     ]
    },
    {
     "cell_type": "markdown",
     "metadata": {},
     "source": [
      "In the above example, T(n)=2+2n. As n gets large, the constant 2 will become less and less significant to the final result. If we are looking for an approximation for T(n), then we can drop the 1 and simply say that the running time is O(n). It is important to note that the 2 is certainly significant for T(n). However, as n gets large, our approximation will be just as accurate without it.<br><br>"
     ]
    },
    {
     "cell_type": "markdown",
     "metadata": {},
     "source": [
      "Although we do not see this in the myRange example, sometimes the performance of an algorithm depends on the exact values of the data rather than simply the size of the problem eg a tree search. For these kinds of algorithms we need to characterize their performance in terms of <b>best case</b>, <b>worst case</b>, or <b>average case</b> performance. The worst case performance refers to a particular data set where the algorithm performs especially poorly. Whereas a different data set for the exact same algorithm might have extraordinarily good performance. However, in most cases the algorithm performs somewhere in between these two extremes (average case). It is important for a computer scientist to understand these distinctions so they are not misled by one particular case.<br><br>"
     ]
    },
    {
     "cell_type": "markdown",
     "metadata": {},
     "source": [
      "A number of very common order of magnitude functions will come up over and over as you study algorithms. These are shown in Table 1. In order to decide which of these functions is the dominant part of any T(n) function, we must see how they compare with one another as n gets large..<br><br>"
     ]
    },
    {
     "cell_type": "markdown",
     "metadata": {},
     "source": [
      "O(1) \u2013 constant time<br> \n",
      "<i>The time is independent of n, e.g. list look-up</i><br> \n",
      "O(log n) \u2013 logarithmic time<br> \n",
      "<i>Usually the log is to the base 2, e.g. binary search</i><br> \n",
      "O(n) \u2013 linear time, e.g. linear search<br> \n",
      "O(n*logn) \u2013 e.g. Qquicksort, Mergesort<br> \n",
      "O(n^2) \u2013 quadratic time, e.g. selection sort<br> \n",
      "O(n^k) \u2013 polynomial (where k is some constant)<br> \n",
      "O(2^n) \u2013 exponential time, very slow!<br><br>"
     ]
    },
    {
     "cell_type": "markdown",
     "metadata": {},
     "source": [
      "<b>Exercise</b><br>\n",
      "Write two Python functions to find the minimum number in a list. The first function should compare each number to every other number on the list. O(n2). The second function should be linear O(n)."
     ]
    },
    {
     "cell_type": "code",
     "collapsed": false,
     "input": [
      "def findSmallestNumQuadratic(list):\n",
      "    returnVal = list[0]\n",
      "    \n",
      "    for item in list:\n",
      "        for subItem in list:\n",
      "            if item < returnVal:\n",
      "                returnVal = subItem\n",
      "            \n",
      "    return returnVal\n",
      "            \n",
      "numList = [5,7,3,9,4,2,6,1]\n",
      "\n",
      "findSmallestNum(numList)\n",
      "\n",
      "#-- Quadractic as everytime the list iterates it goes into another for loop so if there were 10 items\n"
     ],
     "language": "python",
     "metadata": {},
     "outputs": [
      {
       "metadata": {},
       "output_type": "pyout",
       "prompt_number": 21,
       "text": [
        "1"
       ]
      }
     ],
     "prompt_number": 21
    },
    {
     "cell_type": "code",
     "collapsed": false,
     "input": [
      "def findSmallestNumLinear(list):\n",
      "    returnVal = list[0]\n",
      "    \n",
      "    for item in list:\n",
      "        if item < returnVal:\n",
      "            returnVal = item\n",
      "            \n",
      "    return returnVal\n",
      "\n",
      "findSmallestNumLinear(numList)\n",
      "\n",
      "#-- Linear as it does not compare to everyitem on the list "
     ],
     "language": "python",
     "metadata": {},
     "outputs": [
      {
       "metadata": {},
       "output_type": "pyout",
       "prompt_number": 20,
       "text": [
        "1"
       ]
      }
     ],
     "prompt_number": 20
    },
    {
     "cell_type": "markdown",
     "metadata": {},
     "source": [
      "<b>Exercise<br>\n",
      "Q-1:</b> Given the following code fragment, what is its Big-O running time?"
     ]
    },
    {
     "cell_type": "code",
     "collapsed": false,
     "input": [
      "test = 0\n",
      "for i in range(n):\n",
      "   for j in range(n):\n",
      "      test = test + i * j\n",
      "        \n",
      "#-- b O(n^2)"
     ],
     "language": "python",
     "metadata": {},
     "outputs": []
    },
    {
     "cell_type": "markdown",
     "metadata": {},
     "source": [
      " a) O(n)\n",
      " b) O(n^2)\n",
      " c) O(log n)\n",
      " d) O(n^3)"
     ]
    },
    {
     "cell_type": "markdown",
     "metadata": {},
     "source": [
      "<b>Q-2:</b> Given the following code fragment what is its Big-O running time?"
     ]
    },
    {
     "cell_type": "code",
     "collapsed": false,
     "input": [
      "test = 0\n",
      "for i in range(n):\n",
      "   test = test + 1\n",
      "\n",
      "for j in range(n):\n",
      "   test = test - 1\n",
      "        \n",
      "        "
     ],
     "language": "python",
     "metadata": {},
     "outputs": []
    },
    {
     "cell_type": "code",
     "collapsed": false,
     "input": [
      " a) O(n)\n",
      " b) O(n^2)\n",
      " c) O(log n)\n",
      " d) O(n^3)"
     ],
     "language": "python",
     "metadata": {},
     "outputs": []
    },
    {
     "cell_type": "markdown",
     "metadata": {},
     "source": [
      "<b>Q-3:</b> Given the following code fragment what is its Big-O running time?"
     ]
    },
    {
     "cell_type": "code",
     "collapsed": false,
     "input": [
      "i = n\n",
      "while i > 0:\n",
      "   k = 2 + 2\n",
      "   i = i // 2"
     ],
     "language": "python",
     "metadata": {},
     "outputs": []
    },
    {
     "cell_type": "code",
     "collapsed": false,
     "input": [
      " a) O(n)\n",
      " b) O(n^2)\n",
      " c) O(log n)\n",
      " d) O(n^3)"
     ],
     "language": "python",
     "metadata": {},
     "outputs": []
    },
    {
     "cell_type": "heading",
     "level": 2,
     "metadata": {},
     "source": [
      "List comprehension"
     ]
    },
    {
     "cell_type": "markdown",
     "metadata": {},
     "source": [
      "Python supports a concept called \"list comprehensions\". It can be used to construct lists in a very natural, easy way and more similar to a mathematical notation.<br><br>"
     ]
    },
    {
     "cell_type": "markdown",
     "metadata": {},
     "source": [
      "A mathematician might use something like the following to describe lists (or sets, or tuples, or vectors) in mathematics.<br>"
     ]
    },
    {
     "cell_type": "markdown",
     "metadata": {},
     "source": [
      "S = {x\u00b2 : x in {0 ... 9}}\n",
      "V = (1, 2, 4, 8, ..., 2\u00b9\u00b2)\n",
      "M = {x | x in S and x even}"
     ]
    },
    {
     "cell_type": "markdown",
     "metadata": {},
     "source": [
      "For the first example, the list of squared values, the basic way to construct lists in python to compute the square of each element might be:<br>"
     ]
    },
    {
     "cell_type": "code",
     "collapsed": false,
     "input": [
      "S = []\n",
      "for x in range(10):\n",
      "    S.append(x**2)\n",
      "print S"
     ],
     "language": "python",
     "metadata": {},
     "outputs": [
      {
       "output_type": "stream",
       "stream": "stdout",
       "text": [
        "[0, 1, 4, 9, 16, 25, 36, 49, 64, 81]\n"
       ]
      }
     ],
     "prompt_number": 1
    },
    {
     "cell_type": "markdown",
     "metadata": {},
     "source": [
      "This pattern is so common in Python that a more concise syntax is supported called <b>list comprehension.</b>"
     ]
    },
    {
     "cell_type": "markdown",
     "metadata": {},
     "source": [
      "In Python, you can write these expression almost exactly like a mathematician, without having to remember any special syntax.<br><br>\n",
      "Here is what it looks like:<br>"
     ]
    },
    {
     "cell_type": "code",
     "collapsed": false,
     "input": [
      "S = [x**2 for x in range(10)]"
     ],
     "language": "python",
     "metadata": {},
     "outputs": [],
     "prompt_number": 2
    },
    {
     "cell_type": "markdown",
     "metadata": {},
     "source": [
      "And the second example:<br>"
     ]
    },
    {
     "cell_type": "code",
     "collapsed": false,
     "input": [
      "V = [2**i for i in range(13)]"
     ],
     "language": "python",
     "metadata": {},
     "outputs": [],
     "prompt_number": 3
    },
    {
     "cell_type": "markdown",
     "metadata": {},
     "source": [
      "Note: for the third example we have to decide whether the x is even or not. List comprehension can include an if clause that selects a subset of the item.<br>So example 3 looks like:<br> \n"
     ]
    },
    {
     "cell_type": "code",
     "collapsed": false,
     "input": [
      "M = [x for x in S if x % 2 == 0]"
     ],
     "language": "python",
     "metadata": {},
     "outputs": [],
     "prompt_number": 4
    },
    {
     "cell_type": "markdown",
     "metadata": {},
     "source": [
      "The results are just the same as if the lists were constructed using a standard Python loop.  List comprehension tends to be faster because the loop is executed in C rather than Python. However they can be more difficult to debug.<br>"
     ]
    },
    {
     "cell_type": "code",
     "collapsed": false,
     "input": [
      "print S; print V; print M"
     ],
     "language": "python",
     "metadata": {},
     "outputs": [
      {
       "output_type": "stream",
       "stream": "stdout",
       "text": [
        "[0, 1, 4, 9, 16, 25, 36, 49, 64, 81]\n",
        "[1, 2, 4, 8, 16, 32, 64, 128, 256, 512, 1024, 2048, 4096]\n",
        "[0, 4, 16, 36, 64]\n"
       ]
      }
     ],
     "prompt_number": 5
    },
    {
     "cell_type": "markdown",
     "metadata": {},
     "source": [
      "<b>Another example:</b><br>\n",
      "The following is yet another way to compute prime numbers. The interesting thing is that we first build a list of non-prime numbers, using a single list comprehension, then use another list comprehension to get the \"inverse\" of the list, which are prime numbers.<br>\n"
     ]
    },
    {
     "cell_type": "code",
     "collapsed": false,
     "input": [
      "noprimes = [j for i in range(2, 8) for j in range(i*2, 50, i)]\n",
      "primes = [x for x in range(2, 50) if x not in noprimes]\n",
      "\n",
      "print primes;print noprimes;"
     ],
     "language": "python",
     "metadata": {},
     "outputs": [
      {
       "output_type": "stream",
       "stream": "stdout",
       "text": [
        "[2, 3, 5, 7, 11, 13, 17, 19, 23, 29, 31, 37, 41, 43, 47]\n",
        "[4, 6, 8, 10, 12, 14, 16, 18, 20, 22, 24, 26, 28, 30, 32, 34, 36, 38, 40, 42, 44, 46, 48, 6, 9, 12, 15, 18, 21, 24, 27, 30, 33, 36, 39, 42, 45, 48, 8, 12, 16, 20, 24, 28, 32, 36, 40, 44, 48, 10, 15, 20, 25, 30, 35, 40, 45, 12, 18, 24, 30, 36, 42, 48, 14, 21, 28, 35, 42, 49]\n"
       ]
      }
     ],
     "prompt_number": 7
    },
    {
     "cell_type": "markdown",
     "metadata": {},
     "source": [
      "Note: You can nest list comprehensions inside of each other, so you could write the above example with a single statement (without the need for the temporary variable \"noprimes\"). However, such lines tend to get long and less readable, so this is not recommended.<br>"
     ]
    },
    {
     "cell_type": "markdown",
     "metadata": {},
     "source": [
      "List comprehensions don't only work for numbers. Lists can contain any type of elements, including strings, nested lists and functions. You can even mix different types within a list.<br><br>\n"
     ]
    },
    {
     "cell_type": "code",
     "collapsed": false,
     "input": [
      "words = 'The quick brown fox jumps over the lazy dog'.split()\n",
      "print words"
     ],
     "language": "python",
     "metadata": {},
     "outputs": [
      {
       "output_type": "stream",
       "stream": "stdout",
       "text": [
        "['The', 'quick', 'brown', 'fox', 'jumps', 'over', 'the', 'lazy', 'dog']\n"
       ]
      }
     ],
     "prompt_number": 8
    },
    {
     "cell_type": "markdown",
     "metadata": {},
     "source": [
      "<b>Exercise</b><br>Use list comprehension to select all of the 3 letter words from the words list above<br>"
     ]
    },
    {
     "cell_type": "code",
     "collapsed": false,
     "input": [
      "wordsSelector = [word for word in words if len(word) == 3]\n",
      "print wordsSelector"
     ],
     "language": "python",
     "metadata": {},
     "outputs": [
      {
       "output_type": "stream",
       "stream": "stdout",
       "text": [
        "['The', 'fox', 'the', 'dog']\n"
       ]
      }
     ],
     "prompt_number": 10
    },
    {
     "cell_type": "code",
     "collapsed": false,
     "input": [],
     "language": "python",
     "metadata": {},
     "outputs": []
    }
   ],
   "metadata": {}
  }
 ]
}