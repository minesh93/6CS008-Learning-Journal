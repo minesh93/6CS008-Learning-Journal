{
 "metadata": {
  "name": "",
  "signature": "sha256:f4b94ae5972596100ce2feb3e51a1bb7f3337bc70e0d98a00feb005f56ba0a99"
 },
 "nbformat": 3,
 "nbformat_minor": 0,
 "worksheets": [
  {
   "cells": [
    {
     "cell_type": "heading",
     "level": 1,
     "metadata": {},
     "source": [
      "Asssignment 2"
     ]
    },
    {
     "cell_type": "heading",
     "level": 5,
     "metadata": {},
     "source": [
      "When you have finished download this page as a IP Notebook file (File -> Download as -> IPython Notebook (.ipynb) ) and then upload to WOLF"
     ]
    },
    {
     "cell_type": "heading",
     "level": 4,
     "metadata": {},
     "source": [
      "1) In terms of asymptotic time (big-O notation) what is the running time of the code fragments below?"
     ]
    },
    {
     "cell_type": "code",
     "collapsed": false,
     "input": [
      "def foo(x):\n",
      "    y = x*77.3\n",
      "    return x/8.2"
     ],
     "language": "python",
     "metadata": {},
     "outputs": []
    },
    {
     "cell_type": "code",
     "collapsed": false,
     "input": [],
     "language": "python",
     "metadata": {},
     "outputs": []
    },
    {
     "cell_type": "code",
     "collapsed": false,
     "input": [
      "result = 0\n",
      "for i in range(z):\n",
      "    for j in range(z):\n",
      "        result += (i*j)"
     ],
     "language": "python",
     "metadata": {},
     "outputs": []
    },
    {
     "cell_type": "code",
     "collapsed": false,
     "input": [],
     "language": "python",
     "metadata": {},
     "outputs": []
    },
    {
     "cell_type": "code",
     "collapsed": false,
     "input": [
      "def isSubset(L1, L2):\n",
      "     for e1 in L1:\n",
      "          matched = False\n",
      "               for e2 in L2:\n",
      "                    if e1 == e2:\n",
      "                         matched = True\n",
      "                         break\n",
      "               if not matched:\n",
      "                    return False\n",
      "     return True"
     ],
     "language": "python",
     "metadata": {},
     "outputs": []
    },
    {
     "cell_type": "code",
     "collapsed": false,
     "input": [],
     "language": "python",
     "metadata": {},
     "outputs": []
    },
    {
     "cell_type": "heading",
     "level": 4,
     "metadata": {},
     "source": [
      "2) Does O(100n^2)= O(n^2)?"
     ]
    },
    {
     "cell_type": "code",
     "collapsed": false,
     "input": [],
     "language": "python",
     "metadata": {},
     "outputs": []
    },
    {
     "cell_type": "heading",
     "level": 4,
     "metadata": {},
     "source": [
      "3) Optimise the code below using list comprehension"
     ]
    },
    {
     "cell_type": "code",
     "collapsed": false,
     "input": [
      "new_list = []\n",
      "for i in old_list:\n",
      "    new_list.append(i * 2)"
     ],
     "language": "python",
     "metadata": {},
     "outputs": []
    },
    {
     "cell_type": "code",
     "collapsed": false,
     "input": [],
     "language": "python",
     "metadata": {},
     "outputs": []
    },
    {
     "cell_type": "code",
     "collapsed": false,
     "input": [
      "new_list = []\n",
      "for i in old_list:\n",
      "    if i % 2 == 0:\n",
      "        new_list.append(i)"
     ],
     "language": "python",
     "metadata": {},
     "outputs": []
    },
    {
     "cell_type": "code",
     "collapsed": false,
     "input": [],
     "language": "python",
     "metadata": {},
     "outputs": []
    },
    {
     "cell_type": "code",
     "collapsed": false,
     "input": [
      "new_list = []\n",
      "for i in old_list:\n",
      "    if i not in old_list:\n",
      "        new_list.append(i)"
     ],
     "language": "python",
     "metadata": {},
     "outputs": []
    },
    {
     "cell_type": "code",
     "collapsed": false,
     "input": [],
     "language": "python",
     "metadata": {},
     "outputs": []
    },
    {
     "cell_type": "heading",
     "level": 4,
     "metadata": {},
     "source": [
      "4) Show your understanding of  list comprehension by refactor the following code into normal Python"
     ]
    },
    {
     "cell_type": "code",
     "collapsed": false,
     "input": [
      "primes = [x for x in range(2, 50) if x not in noprimes]"
     ],
     "language": "python",
     "metadata": {},
     "outputs": []
    },
    {
     "cell_type": "code",
     "collapsed": false,
     "input": [],
     "language": "python",
     "metadata": {},
     "outputs": []
    },
    {
     "cell_type": "code",
     "collapsed": false,
     "input": [
      "noprimes = [j for i in range(2, 8) for j in range(i*2, 50, i)]"
     ],
     "language": "python",
     "metadata": {},
     "outputs": []
    },
    {
     "cell_type": "code",
     "collapsed": false,
     "input": [],
     "language": "python",
     "metadata": {},
     "outputs": []
    },
    {
     "cell_type": "heading",
     "level": 4,
     "metadata": {},
     "source": [
      "5) Write a Python application that compares the times of operation of various sorting routines.  It should then plot on a single pyplot graph the duration of each sort against the length of the data to be sorted. "
     ]
    },
    {
     "cell_type": "heading",
     "level": 4,
     "metadata": {},
     "source": [
      "Give the plots for at least 4 different sorting routines.  Choose a series of data lengths that are large enough to produce differential timings but will fit on a single plot. All the sorting, timing and plotting should be performed in a single program.   "
     ]
    },
    {
     "cell_type": "heading",
     "level": 5,
     "metadata": {},
     "source": [
      "Below is code to generate an array of random numbers, how pass that array to a sorting routine and how to time the duration  "
     ]
    },
    {
     "cell_type": "code",
     "collapsed": false,
     "input": [
      "import random\n",
      "import time\n",
      "\n",
      "random_items = [random.randint(-50, 100) for c in range(32)] # How can we change this to get arrays \n",
      "                                                             # of different lengths?\n",
      "start = time.clock()\n",
      "insertion_sort(random_items[:])  # [:] makes a copy of the original array for the sort\n",
      "duration = time.clock() - start\n"
     ],
     "language": "python",
     "metadata": {},
     "outputs": []
    },
    {
     "cell_type": "heading",
     "level": 5,
     "metadata": {},
     "source": [
      "Here is example code for plotting 3 different traces to a pyplot graph"
     ]
    },
    {
     "cell_type": "code",
     "collapsed": false,
     "input": [
      "%matplotlib inline\n",
      "\n",
      "import numpy as np\n",
      "import matplotlib.pyplot as plt\n",
      "# evenly sampled time at 200ms intervals\n",
      "t = np.arange(0., 5., 0.2)\n",
      "# red dashes, blue squares and green triangles\n",
      "plt.plot(t, t, 'r--', t, t**2, 'bs', t, t**3, 'g^')\n",
      "plt.show()"
     ],
     "language": "python",
     "metadata": {},
     "outputs": []
    },
    {
     "cell_type": "heading",
     "level": 5,
     "metadata": {},
     "source": [
      "Below are some sorting routines - there should be no reason to alter the code given here"
     ]
    },
    {
     "cell_type": "code",
     "collapsed": false,
     "input": [
      "def bubble_sort(items):\n",
      "    \"\"\" Implementation of bubble sort \"\"\"\n",
      "    for i in range(len(items)):\n",
      "        for j in range(len(items)-1-i):\n",
      "            if items[j] > items[j+1]:\n",
      "                items[j], items[j+1] = items[j+1], items[j]     # Swap!\n",
      "\n",
      "def insertion_sort(items):\n",
      "    \"\"\" Implementation of insertion sort \"\"\"\n",
      "    for i in range(1, len(items)):\n",
      "        j = i\n",
      "        while j > 0 and items[j] < items[j-1]:\n",
      "            items[j], items[j-1] = items[j-1], items[j]\n",
      "            j -= 1\n",
      "\n",
      "def merge_sort(items):\n",
      "    \"\"\" Implementation of mergesort \"\"\"\n",
      "    if len(items) > 1:\n",
      "\n",
      "        mid = len(items) / 2        # Determine the midpoint and split\n",
      "        left = items[0:mid]\n",
      "        right = items[mid:]\n",
      "\n",
      "        merge_sort(left)            # Sort left list in-place\n",
      "        merge_sort(right)           # Sort right list in-place\n",
      "\n",
      "        l, r = 0, 0\n",
      "        for i in range(len(items)):     # Merging the left and right list\n",
      "\n",
      "            lval = left[l] if l < len(left) else None\n",
      "            rval = right[r] if r < len(right) else None\n",
      "\n",
      "            if (lval and rval and lval < rval) or rval is None:\n",
      "                items[i] = lval\n",
      "                l += 1\n",
      "            elif (lval and rval and lval >= rval) or lval is None:\n",
      "                items[i] = rval\n",
      "                r += 1\n",
      "            else:\n",
      "                raise Exception('Could not merge, sub arrays sizes do not match the main array')\n",
      "\n",
      "def quick_sort(items):\n",
      "    \"\"\" Implementation of quick sort \"\"\"\n",
      "    if len(items) > 1:\n",
      "        pivot_index = len(items) / 2\n",
      "        smaller_items = []\n",
      "        larger_items = []\n",
      "\n",
      "        for i, val in enumerate(items):\n",
      "            if i != pivot_index:\n",
      "                if val < items[pivot_index]:\n",
      "                    smaller_items.append(val)\n",
      "                else:\n",
      "                    larger_items.append(val)\n",
      "\n",
      "        quick_sort(smaller_items)\n",
      "        quick_sort(larger_items)\n",
      "        items[:] = smaller_items + [items[pivot_index]] + larger_items\n",
      "\n",
      "import heapq\n",
      "\n",
      "def heap_sort(items):\n",
      "    \"\"\" Implementation of heap sort \"\"\"\n",
      "    heapq.heapify(items)\n",
      "    items[:] = [heapq.heappop(items) for i in range(len(items))]"
     ],
     "language": "python",
     "metadata": {},
     "outputs": []
    }
   ],
   "metadata": {}
  }
 ]
}