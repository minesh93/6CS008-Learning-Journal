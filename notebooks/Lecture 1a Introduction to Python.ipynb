{
 "metadata": {
  "name": "",
  "signature": "sha256:ecc2fbf435608105bb900c7ce10a86faa7097558349e9e0a42766c099f546801"
 },
 "nbformat": 3,
 "nbformat_minor": 0,
 "worksheets": [
  {
   "cells": [
    {
     "cell_type": "heading",
     "level": 1,
     "metadata": {},
     "source": [
      "6CS008 \u2013 Computation and complexity"
     ]
    },
    {
     "cell_type": "raw",
     "metadata": {},
     "source": [
      "    Complexity science is an interdisciplinary field involving data structures and algorithms, \n",
      "        maths and computational modelling that deal with finding the solutions to \n",
      "        hard problems (those with many different options, components or factors) \n",
      "        such as TSP, cellular automata, fractals, Monte Carlo simulation, etc. "
     ]
    },
    {
     "cell_type": "heading",
     "level": 2,
     "metadata": {},
     "source": [
      "Introduction to Python\n"
     ]
    },
    {
     "cell_type": "heading",
     "level": 6,
     "metadata": {},
     "source": [
      "Or \"What have the Romans ever done for us?\u201d"
     ]
    },
    {
     "cell_type": "code",
     "collapsed": false,
     "input": [
      "from IPython.display import Image\n",
      "Image(url='http://python.org/images/python-logo.gif')"
     ],
     "language": "python",
     "metadata": {},
     "outputs": [
      {
       "html": [
        "<img src=\"http://python.org/images/python-logo.gif\"/>"
       ],
       "metadata": {},
       "output_type": "pyout",
       "prompt_number": 6,
       "text": [
        "<IPython.core.display.Image at 0x321f110>"
       ]
      }
     ],
     "prompt_number": 6
    },
    {
     "cell_type": "raw",
     "metadata": {},
     "source": [
      "Python is a High-level, general-purpose, dynamically typed, scripting language designed by Guido van Rossum in 1989 "
     ]
    },
    {
     "cell_type": "raw",
     "metadata": {},
     "source": [
      "It supports multiple programming paradigms, object-oriented, imperative, reflective and functional programming styles"
     ]
    },
    {
     "cell_type": "raw",
     "metadata": {},
     "source": [
      "Organizations using Python include Google, Yahoo!, CERN, NASA, and smaller ones like ILM and ITA (travel).  "
     ]
    },
    {
     "cell_type": "raw",
     "metadata": {},
     "source": [
      "The language is free and open-source and managed/licensed by the Python Software Foundation"
     ]
    },
    {
     "cell_type": "raw",
     "metadata": {},
     "source": [
      "We will be using iPython (interactive Python) notebook for this module "
     ]
    },
    {
     "cell_type": "heading",
     "level": 3,
     "metadata": {},
     "source": [
      "1 Python Data Types"
     ]
    },
    {
     "cell_type": "raw",
     "metadata": {},
     "source": [
      "Numbers: flt_num = 10.0 int_num = 25\n",
      "\n",
      "Strings: my_str = \"Dude, why are you using perl?\"\n",
      "\n",
      "Lists:my_list = [\"yo\", 24, \"blah\", \"go away\"]\n",
      "\n",
      "Tuples: my_tup = (1, 4, 32, \"yoyo\", ['fo', 'moog'])\n",
      "\n",
      "Dictionaries: my_dict = {'a': 24.5, 'mo': 'fo', 42: 'answer'}\n",
      "\n",
      "Objects: my_inst = MyClass('foo')\n",
      "\n",
      "Modules: import myfile"
     ]
    },
    {
     "cell_type": "heading",
     "level": 3,
     "metadata": {},
     "source": [
      "2 Numbers"
     ]
    },
    {
     "cell_type": "heading",
     "level": 6,
     "metadata": {},
     "source": [
      "Integers"
     ]
    },
    {
     "cell_type": "code",
     "collapsed": false,
     "input": [
      "my_int = 4\n",
      "my_int/3"
     ],
     "language": "python",
     "metadata": {},
     "outputs": [
      {
       "metadata": {},
       "output_type": "pyout",
       "prompt_number": 1,
       "text": [
        "1"
       ]
      }
     ],
     "prompt_number": 1
    },
    {
     "cell_type": "heading",
     "level": 6,
     "metadata": {},
     "source": [
      "Note: there is no need to declare variables or specify the type of data to be held"
     ]
    },
    {
     "cell_type": "heading",
     "level": 6,
     "metadata": {},
     "source": [
      "Floating Point"
     ]
    },
    {
     "cell_type": "code",
     "collapsed": false,
     "input": [
      "my_float = 5.5\n",
      "20/my_float"
     ],
     "language": "python",
     "metadata": {},
     "outputs": [
      {
       "metadata": {},
       "output_type": "pyout",
       "prompt_number": 1,
       "text": [
        "3.6363636363636362"
       ]
      }
     ],
     "prompt_number": 1
    },
    {
     "cell_type": "heading",
     "level": 6,
     "metadata": {},
     "source": [
      "Complex Numbers"
     ]
    },
    {
     "cell_type": "code",
     "collapsed": false,
     "input": [
      "4+3j"
     ],
     "language": "python",
     "metadata": {},
     "outputs": [
      {
       "metadata": {},
       "output_type": "pyout",
       "prompt_number": 7,
       "text": [
        "(4+3j)"
       ]
      }
     ],
     "prompt_number": 7
    },
    {
     "cell_type": "code",
     "collapsed": false,
     "input": [
      "_ - 3j"
     ],
     "language": "python",
     "metadata": {},
     "outputs": [
      {
       "metadata": {},
       "output_type": "pyout",
       "prompt_number": 8,
       "text": [
        "(4+0j)"
       ]
      }
     ],
     "prompt_number": 8
    },
    {
     "cell_type": "code",
     "collapsed": false,
     "input": [
      "my_complex = complex(10,3)"
     ],
     "language": "python",
     "metadata": {},
     "outputs": [],
     "prompt_number": 9
    },
    {
     "cell_type": "heading",
     "level": 3,
     "metadata": {},
     "source": [
      "3 Strings"
     ]
    },
    {
     "cell_type": "code",
     "collapsed": false,
     "input": [
      "msg = \"These are not the droids you're looking for ...\"\n",
      "msg.upper()"
     ],
     "language": "python",
     "metadata": {},
     "outputs": [
      {
       "metadata": {},
       "output_type": "pyout",
       "prompt_number": 10,
       "text": [
        "\"THESE ARE NOT THE DROIDS YOU'RE LOOKING FOR ...\""
       ]
      }
     ],
     "prompt_number": 10
    },
    {
     "cell_type": "code",
     "collapsed": false,
     "input": [
      "msg.index('my')"
     ],
     "language": "python",
     "metadata": {},
     "outputs": [
      {
       "ename": "ValueError",
       "evalue": "substring not found",
       "output_type": "pyerr",
       "traceback": [
        "\u001b[1;31m---------------------------------------------------------------------------\u001b[0m\n\u001b[1;31mValueError\u001b[0m                                Traceback (most recent call last)",
        "\u001b[1;32m<ipython-input-11-c25d25c98fae>\u001b[0m in \u001b[0;36m<module>\u001b[1;34m()\u001b[0m\n\u001b[1;32m----> 1\u001b[1;33m \u001b[0mmsg\u001b[0m\u001b[1;33m.\u001b[0m\u001b[0mindex\u001b[0m\u001b[1;33m(\u001b[0m\u001b[1;34m'my'\u001b[0m\u001b[1;33m)\u001b[0m\u001b[1;33m\u001b[0m\u001b[0m\n\u001b[0m",
        "\u001b[1;31mValueError\u001b[0m: substring not found"
       ]
      }
     ],
     "prompt_number": 11
    },
    {
     "cell_type": "code",
     "collapsed": false,
     "input": [
      "msg[0:5]"
     ],
     "language": "python",
     "metadata": {},
     "outputs": [
      {
       "metadata": {},
       "output_type": "pyout",
       "prompt_number": 12,
       "text": [
        "'These'"
       ]
      }
     ],
     "prompt_number": 12
    },
    {
     "cell_type": "code",
     "collapsed": false,
     "input": [
      "msg + \" you may proceed.\""
     ],
     "language": "python",
     "metadata": {},
     "outputs": [
      {
       "metadata": {},
       "output_type": "pyout",
       "prompt_number": 13,
       "text": [
        "\"These are not the droids you're looking for ... you may proceed.\""
       ]
      }
     ],
     "prompt_number": 13
    },
    {
     "cell_type": "heading",
     "level": 6,
     "metadata": {},
     "source": [
      "Strings in Python are immutable"
     ]
    },
    {
     "cell_type": "code",
     "collapsed": false,
     "input": [
      "print str(5) + \" + \" + str(3) + \" = \" + str(3+5)"
     ],
     "language": "python",
     "metadata": {},
     "outputs": [
      {
       "output_type": "stream",
       "stream": "stdout",
       "text": [
        "5 + 3 = 8\n"
       ]
      }
     ],
     "prompt_number": 1
    },
    {
     "cell_type": "code",
     "collapsed": false,
     "input": [
      "msg.count('e')"
     ],
     "language": "python",
     "metadata": {},
     "outputs": []
    },
    {
     "cell_type": "code",
     "collapsed": false,
     "input": [
      "len(msg)"
     ],
     "language": "python",
     "metadata": {},
     "outputs": []
    },
    {
     "cell_type": "heading",
     "level": 6,
     "metadata": {},
     "source": [
      "a) You now know about strings and the print statement in Python so write and run the \"hello world!\" in the space below."
     ]
    },
    {
     "cell_type": "code",
     "collapsed": false,
     "input": [
      "print 'hello world!'"
     ],
     "language": "python",
     "metadata": {},
     "outputs": [
      {
       "output_type": "stream",
       "stream": "stdout",
       "text": [
        "hello world!\n"
       ]
      }
     ],
     "prompt_number": 5
    },
    {
     "cell_type": "heading",
     "level": 3,
     "metadata": {},
     "source": [
      "4 Arrays in Python"
     ]
    },
    {
     "cell_type": "raw",
     "metadata": {},
     "source": [
      "An array in Python is an ordered group of items (or elements).\n",
      "In Python square brackets are used to delimit literal arrays eg."
     ]
    },
    {
     "cell_type": "raw",
     "metadata": {},
     "source": [
      "    nums =  [70, 60, 50, 40, 30, 20, 10]"
     ]
    },
    {
     "cell_type": "raw",
     "metadata": {},
     "source": [
      "However array elements don't have to be of the same type"
     ]
    },
    {
     "cell_type": "raw",
     "metadata": {},
     "source": [
      "For instance, you could put numbers, letters, strings and even other arrayss all on the same array."
     ]
    },
    {
     "cell_type": "raw",
     "metadata": {},
     "source": [
      "    test = [\"a\", \"list\", \"of\", [4, 'plus', 1], \"elements\"]"
     ]
    },
    {
     "cell_type": "heading",
     "level": 3,
     "metadata": {},
     "source": [
      "5 Array Indexing in Python"
     ]
    },
    {
     "cell_type": "raw",
     "metadata": {},
     "source": [
      "Each element a Python array has a notional position called the index"
     ]
    },
    {
     "cell_type": "code",
     "collapsed": false,
     "input": [
      "lst = ['3', 45, 'frogger', 2]\n",
      "lst[1]"
     ],
     "language": "python",
     "metadata": {},
     "outputs": [
      {
       "metadata": {},
       "output_type": "pyout",
       "prompt_number": 14,
       "text": [
        "45"
       ]
      }
     ],
     "prompt_number": 14
    },
    {
     "cell_type": "raw",
     "metadata": {},
     "source": [
      "arrays may also be indexed from the end by using a negative number for the index so"
     ]
    },
    {
     "cell_type": "code",
     "collapsed": false,
     "input": [
      "lst[-1]   ## the last element"
     ],
     "language": "python",
     "metadata": {},
     "outputs": [
      {
       "metadata": {},
       "output_type": "pyout",
       "prompt_number": 15,
       "text": [
        "2"
       ]
      }
     ],
     "prompt_number": 15
    },
    {
     "cell_type": "code",
     "collapsed": false,
     "input": [
      "lst[-2]   ## the last but one element"
     ],
     "language": "python",
     "metadata": {},
     "outputs": [
      {
       "metadata": {},
       "output_type": "pyout",
       "prompt_number": 16,
       "text": [
        "'frogger'"
       ]
      }
     ],
     "prompt_number": 16
    },
    {
     "cell_type": "heading",
     "level": 6,
     "metadata": {},
     "source": [
      "Removing an element from an array"
     ]
    },
    {
     "cell_type": "code",
     "collapsed": false,
     "input": [
      "del lst[2]\n",
      "lst"
     ],
     "language": "python",
     "metadata": {},
     "outputs": [
      {
       "metadata": {},
       "output_type": "pyout",
       "prompt_number": 17,
       "text": [
        "['3', 45, 2]"
       ]
      }
     ],
     "prompt_number": 17
    },
    {
     "cell_type": "heading",
     "level": 6,
     "metadata": {},
     "source": [
      "Adding an element to the array"
     ]
    },
    {
     "cell_type": "code",
     "collapsed": false,
     "input": [
      "lst.append('help')\n",
      "lst"
     ],
     "language": "python",
     "metadata": {},
     "outputs": [
      {
       "metadata": {},
       "output_type": "pyout",
       "prompt_number": 18,
       "text": [
        "['3', 45, 2, 'help']"
       ]
      }
     ],
     "prompt_number": 18
    },
    {
     "cell_type": "heading",
     "level": 6,
     "metadata": {},
     "source": [
      "Array/List Methods"
     ]
    },
    {
     "cell_type": "raw",
     "metadata": {},
     "source": [
      "    append(x) \u2013 add x to the end of the list\n",
      "    extend(L) \u2013 add all items in sequence L to end of list\n",
      "    insert(i,x) \u2013 insert x at a position i\n",
      "    remove(x) \u2013 remove first item equal to x\n",
      "    pop([i]) \u2013 remove item at position i or end of list\n",
      "    index(x) \u2013 return index of first item equal to x\n",
      "    count(x) \u2013 count occurrences of x\n",
      "    sort() \u2013 sort the list\n",
      "    reverse() \u2013 reverse the list"
     ]
    },
    {
     "cell_type": "heading",
     "level": 6,
     "metadata": {},
     "source": [
      "Note: In Python the array is also know as the List is much like the Vector in Java (Next week we will be doing more list based operations with the data structure) "
     ]
    },
    {
     "cell_type": "heading",
     "level": 3,
     "metadata": {},
     "source": [
      "6 Tuples (sequences)"
     ]
    },
    {
     "cell_type": "code",
     "collapsed": false,
     "input": [
      "from IPython.display import Image\n",
      "Image(filename=('logo/logo.png'))"
     ],
     "language": "python",
     "metadata": {},
     "outputs": [
      {
       "ename": "IOError",
       "evalue": "[Errno 2] No such file or directory: u'logo/logo.png'",
       "output_type": "pyerr",
       "traceback": [
        "\u001b[1;31m---------------------------------------------------------------------------\u001b[0m\n\u001b[1;31mIOError\u001b[0m                                   Traceback (most recent call last)",
        "\u001b[1;32m<ipython-input-19-c34ae21a4e9f>\u001b[0m in \u001b[0;36m<module>\u001b[1;34m()\u001b[0m\n\u001b[0;32m      1\u001b[0m \u001b[1;32mfrom\u001b[0m \u001b[0mIPython\u001b[0m\u001b[1;33m.\u001b[0m\u001b[0mdisplay\u001b[0m \u001b[1;32mimport\u001b[0m \u001b[0mImage\u001b[0m\u001b[1;33m\u001b[0m\u001b[0m\n\u001b[1;32m----> 2\u001b[1;33m \u001b[0mImage\u001b[0m\u001b[1;33m(\u001b[0m\u001b[0mfilename\u001b[0m\u001b[1;33m=\u001b[0m\u001b[1;33m(\u001b[0m\u001b[1;34m'logo/logo.png'\u001b[0m\u001b[1;33m)\u001b[0m\u001b[1;33m)\u001b[0m\u001b[1;33m\u001b[0m\u001b[0m\n\u001b[0m",
        "\u001b[1;32mC:\\Python27\\lib\\site-packages\\IPython\\core\\display.pyc\u001b[0m in \u001b[0;36m__init__\u001b[1;34m(self, data, url, filename, format, embed, width, height, retina)\u001b[0m\n\u001b[0;32m    644\u001b[0m         \u001b[0mself\u001b[0m\u001b[1;33m.\u001b[0m\u001b[0mheight\u001b[0m \u001b[1;33m=\u001b[0m \u001b[0mheight\u001b[0m\u001b[1;33m\u001b[0m\u001b[0m\n\u001b[0;32m    645\u001b[0m         \u001b[0mself\u001b[0m\u001b[1;33m.\u001b[0m\u001b[0mretina\u001b[0m \u001b[1;33m=\u001b[0m \u001b[0mretina\u001b[0m\u001b[1;33m\u001b[0m\u001b[0m\n\u001b[1;32m--> 646\u001b[1;33m         \u001b[0msuper\u001b[0m\u001b[1;33m(\u001b[0m\u001b[0mImage\u001b[0m\u001b[1;33m,\u001b[0m \u001b[0mself\u001b[0m\u001b[1;33m)\u001b[0m\u001b[1;33m.\u001b[0m\u001b[0m__init__\u001b[0m\u001b[1;33m(\u001b[0m\u001b[0mdata\u001b[0m\u001b[1;33m=\u001b[0m\u001b[0mdata\u001b[0m\u001b[1;33m,\u001b[0m \u001b[0murl\u001b[0m\u001b[1;33m=\u001b[0m\u001b[0murl\u001b[0m\u001b[1;33m,\u001b[0m \u001b[0mfilename\u001b[0m\u001b[1;33m=\u001b[0m\u001b[0mfilename\u001b[0m\u001b[1;33m)\u001b[0m\u001b[1;33m\u001b[0m\u001b[0m\n\u001b[0m\u001b[0;32m    647\u001b[0m \u001b[1;33m\u001b[0m\u001b[0m\n\u001b[0;32m    648\u001b[0m         \u001b[1;32mif\u001b[0m \u001b[0mretina\u001b[0m\u001b[1;33m:\u001b[0m\u001b[1;33m\u001b[0m\u001b[0m\n",
        "\u001b[1;32mC:\\Python27\\lib\\site-packages\\IPython\\core\\display.pyc\u001b[0m in \u001b[0;36m__init__\u001b[1;34m(self, data, url, filename)\u001b[0m\n\u001b[0;32m    334\u001b[0m         \u001b[0mself\u001b[0m\u001b[1;33m.\u001b[0m\u001b[0mfilename\u001b[0m \u001b[1;33m=\u001b[0m \u001b[0mNone\u001b[0m \u001b[1;32mif\u001b[0m \u001b[0mfilename\u001b[0m \u001b[1;32mis\u001b[0m \u001b[0mNone\u001b[0m \u001b[1;32melse\u001b[0m \u001b[0municode_type\u001b[0m\u001b[1;33m(\u001b[0m\u001b[0mfilename\u001b[0m\u001b[1;33m)\u001b[0m\u001b[1;33m\u001b[0m\u001b[0m\n\u001b[0;32m    335\u001b[0m \u001b[1;33m\u001b[0m\u001b[0m\n\u001b[1;32m--> 336\u001b[1;33m         \u001b[0mself\u001b[0m\u001b[1;33m.\u001b[0m\u001b[0mreload\u001b[0m\u001b[1;33m(\u001b[0m\u001b[1;33m)\u001b[0m\u001b[1;33m\u001b[0m\u001b[0m\n\u001b[0m\u001b[0;32m    337\u001b[0m         \u001b[0mself\u001b[0m\u001b[1;33m.\u001b[0m\u001b[0m_check_data\u001b[0m\u001b[1;33m(\u001b[0m\u001b[1;33m)\u001b[0m\u001b[1;33m\u001b[0m\u001b[0m\n\u001b[0;32m    338\u001b[0m \u001b[1;33m\u001b[0m\u001b[0m\n",
        "\u001b[1;32mC:\\Python27\\lib\\site-packages\\IPython\\core\\display.pyc\u001b[0m in \u001b[0;36mreload\u001b[1;34m(self)\u001b[0m\n\u001b[0;32m    666\u001b[0m         \u001b[1;34m\"\"\"Reload the raw data from file or URL.\"\"\"\u001b[0m\u001b[1;33m\u001b[0m\u001b[0m\n\u001b[0;32m    667\u001b[0m         \u001b[1;32mif\u001b[0m \u001b[0mself\u001b[0m\u001b[1;33m.\u001b[0m\u001b[0membed\u001b[0m\u001b[1;33m:\u001b[0m\u001b[1;33m\u001b[0m\u001b[0m\n\u001b[1;32m--> 668\u001b[1;33m             \u001b[0msuper\u001b[0m\u001b[1;33m(\u001b[0m\u001b[0mImage\u001b[0m\u001b[1;33m,\u001b[0m\u001b[0mself\u001b[0m\u001b[1;33m)\u001b[0m\u001b[1;33m.\u001b[0m\u001b[0mreload\u001b[0m\u001b[1;33m(\u001b[0m\u001b[1;33m)\u001b[0m\u001b[1;33m\u001b[0m\u001b[0m\n\u001b[0m\u001b[0;32m    669\u001b[0m             \u001b[1;32mif\u001b[0m \u001b[0mself\u001b[0m\u001b[1;33m.\u001b[0m\u001b[0mretina\u001b[0m\u001b[1;33m:\u001b[0m\u001b[1;33m\u001b[0m\u001b[0m\n\u001b[0;32m    670\u001b[0m                 \u001b[0mself\u001b[0m\u001b[1;33m.\u001b[0m\u001b[0m_retina_shape\u001b[0m\u001b[1;33m(\u001b[0m\u001b[1;33m)\u001b[0m\u001b[1;33m\u001b[0m\u001b[0m\n",
        "\u001b[1;32mC:\\Python27\\lib\\site-packages\\IPython\\core\\display.pyc\u001b[0m in \u001b[0;36mreload\u001b[1;34m(self)\u001b[0m\n\u001b[0;32m    344\u001b[0m         \u001b[1;34m\"\"\"Reload the raw data from file or URL.\"\"\"\u001b[0m\u001b[1;33m\u001b[0m\u001b[0m\n\u001b[0;32m    345\u001b[0m         \u001b[1;32mif\u001b[0m \u001b[0mself\u001b[0m\u001b[1;33m.\u001b[0m\u001b[0mfilename\u001b[0m \u001b[1;32mis\u001b[0m \u001b[1;32mnot\u001b[0m \u001b[0mNone\u001b[0m\u001b[1;33m:\u001b[0m\u001b[1;33m\u001b[0m\u001b[0m\n\u001b[1;32m--> 346\u001b[1;33m             \u001b[1;32mwith\u001b[0m \u001b[0mopen\u001b[0m\u001b[1;33m(\u001b[0m\u001b[0mself\u001b[0m\u001b[1;33m.\u001b[0m\u001b[0mfilename\u001b[0m\u001b[1;33m,\u001b[0m \u001b[0mself\u001b[0m\u001b[1;33m.\u001b[0m\u001b[0m_read_flags\u001b[0m\u001b[1;33m)\u001b[0m \u001b[1;32mas\u001b[0m \u001b[0mf\u001b[0m\u001b[1;33m:\u001b[0m\u001b[1;33m\u001b[0m\u001b[0m\n\u001b[0m\u001b[0;32m    347\u001b[0m                 \u001b[0mself\u001b[0m\u001b[1;33m.\u001b[0m\u001b[0mdata\u001b[0m \u001b[1;33m=\u001b[0m \u001b[0mf\u001b[0m\u001b[1;33m.\u001b[0m\u001b[0mread\u001b[0m\u001b[1;33m(\u001b[0m\u001b[1;33m)\u001b[0m\u001b[1;33m\u001b[0m\u001b[0m\n\u001b[0;32m    348\u001b[0m         \u001b[1;32melif\u001b[0m \u001b[0mself\u001b[0m\u001b[1;33m.\u001b[0m\u001b[0murl\u001b[0m \u001b[1;32mis\u001b[0m \u001b[1;32mnot\u001b[0m \u001b[0mNone\u001b[0m\u001b[1;33m:\u001b[0m\u001b[1;33m\u001b[0m\u001b[0m\n",
        "\u001b[1;31mIOError\u001b[0m: [Errno 2] No such file or directory: u'logo/logo.png'"
       ]
      }
     ],
     "prompt_number": 19
    },
    {
     "cell_type": "code",
     "collapsed": false,
     "input": [
      "dir"
     ],
     "language": "python",
     "metadata": {},
     "outputs": [
      {
       "metadata": {},
       "output_type": "pyout",
       "prompt_number": 20,
       "text": [
        "<function dir>"
       ]
      }
     ],
     "prompt_number": 20
    },
    {
     "cell_type": "code",
     "collapsed": false,
     "input": [
      "tup = (6, 7, 'forty-two', 'question?')\n",
      "tup[0]"
     ],
     "language": "python",
     "metadata": {},
     "outputs": [
      {
       "metadata": {},
       "output_type": "pyout",
       "prompt_number": 21,
       "text": [
        "6"
       ]
      }
     ],
     "prompt_number": 21
    },
    {
     "cell_type": "raw",
     "metadata": {},
     "source": [
      "Like strings Tuples are imutable so the following will fail"
     ]
    },
    {
     "cell_type": "code",
     "collapsed": false,
     "input": [
      "del tup[3]"
     ],
     "language": "python",
     "metadata": {},
     "outputs": [
      {
       "ename": "TypeError",
       "evalue": "'tuple' object doesn't support item deletion",
       "output_type": "pyerr",
       "traceback": [
        "\u001b[1;31m---------------------------------------------------------------------------\u001b[0m\n\u001b[1;31mTypeError\u001b[0m                                 Traceback (most recent call last)",
        "\u001b[1;32m<ipython-input-22-ddc2e2b2d719>\u001b[0m in \u001b[0;36m<module>\u001b[1;34m()\u001b[0m\n\u001b[1;32m----> 1\u001b[1;33m \u001b[1;32mdel\u001b[0m \u001b[0mtup\u001b[0m\u001b[1;33m[\u001b[0m\u001b[1;36m3\u001b[0m\u001b[1;33m]\u001b[0m\u001b[1;33m\u001b[0m\u001b[0m\n\u001b[0m",
        "\u001b[1;31mTypeError\u001b[0m: 'tuple' object doesn't support item deletion"
       ]
      }
     ],
     "prompt_number": 22
    },
    {
     "cell_type": "code",
     "collapsed": false,
     "input": [
      "tup2 = ((1,2,3),[4,5,6]); tup2"
     ],
     "language": "python",
     "metadata": {},
     "outputs": [
      {
       "metadata": {},
       "output_type": "pyout",
       "prompt_number": 23,
       "text": [
        "((1, 2, 3), [4, 5, 6])"
       ]
      }
     ],
     "prompt_number": 23
    },
    {
     "cell_type": "heading",
     "level": 6,
     "metadata": {},
     "source": [
      "Sequence Operations "
     ]
    },
    {
     "cell_type": "raw",
     "metadata": {},
     "source": [
      "    x in s \u2013 test if s contains x\n",
      "    x not in s \u2013 test if s does not contain x\n",
      "    s + t \u2013 sequence concatenation\n",
      "    s * n, n * s \u2013 n shallow copies of s\n",
      "    s[i] \u2013 ith element of s\n",
      "    s[i:j] \u2013 slice of s\n",
      "    len(s) \u2013 length of s (number of elements)\n",
      "    min(s) \u2013 minimal element of s\n",
      "    max(s) \u2013 maximal element of s"
     ]
    },
    {
     "cell_type": "heading",
     "level": 3,
     "metadata": {},
     "source": [
      "Slicing and dicing"
     ]
    },
    {
     "cell_type": "heading",
     "level": 6,
     "metadata": {},
     "source": [
      "Slicing is used to pull apart sections of a sequence (string, list or tuple) "
     ]
    },
    {
     "cell_type": "code",
     "collapsed": false,
     "input": [
      "seq = (0, 1, 2, 3, 4, 5, 6, 7, 8)\n",
      "seq[1:4]"
     ],
     "language": "python",
     "metadata": {},
     "outputs": [
      {
       "metadata": {},
       "output_type": "pyout",
       "prompt_number": 24,
       "text": [
        "(1, 2, 3)"
       ]
      }
     ],
     "prompt_number": 24
    },
    {
     "cell_type": "raw",
     "metadata": {},
     "source": [
      "If first or last slice number is missed it is taken to be the first or last character position respectively so:"
     ]
    },
    {
     "cell_type": "code",
     "collapsed": false,
     "input": [
      "seq[:4]\n",
      "seq[5:]"
     ],
     "language": "python",
     "metadata": {},
     "outputs": [
      {
       "metadata": {},
       "output_type": "pyout",
       "prompt_number": 25,
       "text": [
        "(5, 6, 7, 8)"
       ]
      }
     ],
     "prompt_number": 25
    },
    {
     "cell_type": "raw",
     "metadata": {},
     "source": [
      "In fact if both slices are missed a copy of the whole list is made E.g:"
     ]
    },
    {
     "cell_type": "code",
     "collapsed": false,
     "input": [
      "myCopy = seq[:]"
     ],
     "language": "python",
     "metadata": {},
     "outputs": [],
     "prompt_number": 26
    },
    {
     "cell_type": "heading",
     "level": 3,
     "metadata": {},
     "source": [
      "7 Dictionaries (mapping types)"
     ]
    },
    {
     "cell_type": "code",
     "collapsed": false,
     "input": [
      "dict = {42: 'forty-two', 'naomi': 'person', 3: [1,2]}\n",
      "dict[42]"
     ],
     "language": "python",
     "metadata": {},
     "outputs": [
      {
       "metadata": {},
       "output_type": "pyout",
       "prompt_number": 27,
       "text": [
        "'forty-two'"
       ]
      }
     ],
     "prompt_number": 27
    },
    {
     "cell_type": "code",
     "collapsed": false,
     "input": [
      "dict['naomi'] #-- This had a typo"
     ],
     "language": "python",
     "metadata": {},
     "outputs": [
      {
       "metadata": {},
       "output_type": "pyout",
       "prompt_number": 33,
       "text": [
        "'person'"
       ]
      }
     ],
     "prompt_number": 33
    },
    {
     "cell_type": "code",
     "collapsed": false,
     "input": [
      "del dict[42]; dict"
     ],
     "language": "python",
     "metadata": {},
     "outputs": [
      {
       "metadata": {},
       "output_type": "pyout",
       "prompt_number": 34,
       "text": [
        "{3: [1, 2], 'naomi': 'person'}"
       ]
      }
     ],
     "prompt_number": 34
    },
    {
     "cell_type": "code",
     "collapsed": false,
     "input": [
      "dict.keys()"
     ],
     "language": "python",
     "metadata": {},
     "outputs": [
      {
       "metadata": {},
       "output_type": "pyout",
       "prompt_number": 35,
       "text": [
        "['naomi', 3]"
       ]
      }
     ],
     "prompt_number": 35
    },
    {
     "cell_type": "heading",
     "level": 6,
     "metadata": {},
     "source": [
      "Mapping Operations "
     ]
    },
    {
     "cell_type": "raw",
     "metadata": {},
     "source": [
      "    len(d) \u2013 number of items in d\n",
      "    d[k] \u2013 item of d with key k\n",
      "    d[k] = x \u2013 associate key k with value x\n",
      "    del d[k] \u2013 delete item with key k\n",
      "    k in d \u2013 test if d has an item with key k\n",
      "    d.items() \u2013 a copy of the (key, value) pairs in d\n",
      "    d.keys() \u2013 a copy of the list of keys in d\n",
      "    d.values() \u2013 a copy of the list of values in d"
     ]
    },
    {
     "cell_type": "heading",
     "level": 6,
     "metadata": {},
     "source": [
      "b) Write a program to assign two numbers to two different variables, add the two variables placing the result in third variable and then print the value in the third variable."
     ]
    },
    {
     "cell_type": "code",
     "collapsed": false,
     "input": [
      "numOne = 1\n",
      "numTwo = 2\n",
      "numThree = numOne + numTwo\n",
      "print numThree"
     ],
     "language": "python",
     "metadata": {},
     "outputs": [
      {
       "output_type": "stream",
       "stream": "stdout",
       "text": [
        "3\n"
       ]
      }
     ],
     "prompt_number": 36
    },
    {
     "cell_type": "heading",
     "level": 3,
     "metadata": {},
     "source": [
      "8 Control Flow Statements"
     ]
    },
    {
     "cell_type": "heading",
     "level": 6,
     "metadata": {},
     "source": [
      "If Conditionals:"
     ]
    },
    {
     "cell_type": "code",
     "collapsed": false,
     "input": [
      "x = 2\n",
      "if x < 4:\n",
      "    print \"x is so small\\n\"\n",
      "else:\n",
      "    print \"x is big, yup!\\n\""
     ],
     "language": "python",
     "metadata": {},
     "outputs": [
      {
       "output_type": "stream",
       "stream": "stdout",
       "text": [
        "x is so small\n",
        "\n"
       ]
      }
     ],
     "prompt_number": 37
    },
    {
     "cell_type": "heading",
     "level": 6,
     "metadata": {},
     "source": [
      "For Loops:"
     ]
    },
    {
     "cell_type": "code",
     "collapsed": false,
     "input": [
      "for x in [1,2]:\n",
      "    print x"
     ],
     "language": "python",
     "metadata": {},
     "outputs": [
      {
       "output_type": "stream",
       "stream": "stdout",
       "text": [
        "1\n",
        "2\n"
       ]
      }
     ],
     "prompt_number": 38
    },
    {
     "cell_type": "heading",
     "level": 6,
     "metadata": {},
     "source": [
      "While Loops:"
     ]
    },
    {
     "cell_type": "code",
     "collapsed": false,
     "input": [
      "while x < 4: x += 1\n",
      "x"
     ],
     "language": "python",
     "metadata": {},
     "outputs": [
      {
       "metadata": {},
       "output_type": "pyout",
       "prompt_number": 39,
       "text": [
        "4"
       ]
      }
     ],
     "prompt_number": 39
    },
    {
     "cell_type": "heading",
     "level": 6,
     "metadata": {},
     "source": [
      "Whitespace"
     ]
    },
    {
     "cell_type": "heading",
     "level": 6,
     "metadata": {},
     "source": [
      "In Python Whitespace is meaningful: especially indentation and placement of newlines."
     ]
    },
    {
     "cell_type": "code",
     "collapsed": false,
     "input": [
      "from IPython.display import Image\n",
      "Image(url='http://www.desktopexchange.net/plog-content/images/nature-pictures/winter-wallpapers/ice-bear-sleeping.jpg')"
     ],
     "language": "python",
     "metadata": {},
     "outputs": [
      {
       "html": [
        "<img src=\"http://www.desktopexchange.net/plog-content/images/nature-pictures/winter-wallpapers/ice-bear-sleeping.jpg\"/>"
       ],
       "metadata": {},
       "output_type": "pyout",
       "prompt_number": 40,
       "text": [
        "<IPython.core.display.Image at 0x3b4ba70>"
       ]
      }
     ],
     "prompt_number": 40
    },
    {
     "cell_type": "heading",
     "level": 6,
     "metadata": {},
     "source": [
      "No braces { } to mark blocks of code in Python\u2026 Use consistent indentation instead."
     ]
    },
    {
     "cell_type": "raw",
     "metadata": {},
     "source": [
      "The first line with more indentation starts a nested block"
     ]
    },
    {
     "cell_type": "raw",
     "metadata": {},
     "source": [
      "The first line with less indentation is outside of the block"
     ]
    },
    {
     "cell_type": "raw",
     "metadata": {},
     "source": [
      "Use a newline to end a line of code"
     ]
    },
    {
     "cell_type": "heading",
     "level": 6,
     "metadata": {},
     "source": [
      "Often a colon appears at the start of a new block"
     ]
    },
    {
     "cell_type": "raw",
     "metadata": {},
     "source": [
      "E.g. for control statements, functions and class definitions"
     ]
    },
    {
     "cell_type": "raw",
     "metadata": {},
     "source": [
      "Use \\ when must go to next line prematurely"
     ]
    },
    {
     "cell_type": "heading",
     "level": 3,
     "metadata": {},
     "source": [
      "9 If Conditionals"
     ]
    },
    {
     "cell_type": "raw",
     "metadata": {},
     "source": [
      "if conditional1:\n",
      "    statement1\n",
      "    ...\n",
      "    statementn\n",
      "elif conditional2:\n",
      "    statements\n",
      "else:\n",
      "    statements"
     ]
    },
    {
     "cell_type": "heading",
     "level": 6,
     "metadata": {},
     "source": [
      "c) Write a program to assign two numbers to two different variables, subtract one value from another placing the result in a third variable. Your program should then print the message \"he's the the messiah he's a very naughty boy\" if the result is less than or \"Yes we are all individuals\" if it is greater than zero."
     ]
    },
    {
     "cell_type": "code",
     "collapsed": false,
     "input": [],
     "language": "python",
     "metadata": {},
     "outputs": [],
     "prompt_number": 40
    },
    {
     "cell_type": "heading",
     "level": 3,
     "metadata": {},
     "source": [
      "10 While Loops"
     ]
    },
    {
     "cell_type": "raw",
     "metadata": {},
     "source": [
      "while conditional:\n",
      "    statement1\n",
      "    statement2\n",
      "    ...\n",
      "    statement n"
     ]
    },
    {
     "cell_type": "heading",
     "level": 6,
     "metadata": {},
     "source": [
      "Example"
     ]
    },
    {
     "cell_type": "code",
     "collapsed": false,
     "input": [
      "each = 0\n",
      "while each < 20:\n",
      "     print each\n",
      "     each += 1 # or each = each + 1"
     ],
     "language": "python",
     "metadata": {},
     "outputs": [
      {
       "output_type": "stream",
       "stream": "stdout",
       "text": [
        "0\n",
        "1\n",
        "2\n",
        "3\n",
        "4\n",
        "5\n",
        "6\n",
        "7\n",
        "8\n",
        "9\n",
        "10\n",
        "11\n",
        "12\n",
        "13\n",
        "14\n",
        "15\n",
        "16\n",
        "17\n",
        "18\n",
        "19\n"
       ]
      }
     ],
     "prompt_number": 41
    },
    {
     "cell_type": "heading",
     "level": 6,
     "metadata": {},
     "source": [
      "Looping through a collection data structue"
     ]
    },
    {
     "cell_type": "code",
     "collapsed": false,
     "input": [
      "collection = [110,250,301,486,]\n",
      "each = 0\n",
      "while each < len(collection):\n",
      "     print collection[each]\n",
      "     each += 1 "
     ],
     "language": "python",
     "metadata": {},
     "outputs": [
      {
       "output_type": "stream",
       "stream": "stdout",
       "text": [
        "110\n",
        "250\n",
        "301\n",
        "486\n"
       ]
      }
     ],
     "prompt_number": 42
    },
    {
     "cell_type": "heading",
     "level": 6,
     "metadata": {},
     "source": [
      "d) Is it possible to use a string as the collection for program above? Use a string (say \"forty-two\") to test this below  "
     ]
    },
    {
     "cell_type": "code",
     "collapsed": false,
     "input": [],
     "language": "python",
     "metadata": {},
     "outputs": [],
     "prompt_number": 42
    },
    {
     "cell_type": "raw",
     "metadata": {},
     "source": [
      "For the loop above we (the programmer) have to maintain the index variable \n",
      "i.e. each = 0 and each += 1"
     ]
    },
    {
     "cell_type": "raw",
     "metadata": {},
     "source": [
      "And maintain the access to the element of the in our collection data structure\n",
      "collection[each]"
     ]
    },
    {
     "cell_type": "raw",
     "metadata": {},
     "source": [
      "Wouldn\u2019t it better if python were to maintain all those issues\n",
      "Well we can using a for-loop "
     ]
    },
    {
     "cell_type": "raw",
     "metadata": {},
     "source": [
      "A for-loop allows the program to visit each element in a collection then do what we want with it"
     ]
    },
    {
     "cell_type": "raw",
     "metadata": {},
     "source": [
      "With a for-loop there is no need to maintain our each variable \n",
      "ie. initialise it or explicitly increment it "
     ]
    },
    {
     "cell_type": "heading",
     "level": 3,
     "metadata": {},
     "source": [
      "11 For Statements"
     ]
    },
    {
     "cell_type": "raw",
     "metadata": {},
     "source": [
      "for name in list:\n",
      "    statement1\n",
      "    statement2\n",
      "    ...\n",
      "    statement n"
     ]
    },
    {
     "cell_type": "heading",
     "level": 6,
     "metadata": {},
     "source": [
      "While-loops vs for-loops"
     ]
    },
    {
     "cell_type": "code",
     "collapsed": false,
     "input": [
      "collection = [10,20,30,40,50]\n",
      "each = 0\n",
      "while each < len(collection):\n",
      "     print collection[each]\n",
      "     each += 1"
     ],
     "language": "python",
     "metadata": {},
     "outputs": [
      {
       "output_type": "stream",
       "stream": "stdout",
       "text": [
        "10\n",
        "20\n",
        "30\n",
        "40\n",
        "50\n"
       ]
      }
     ],
     "prompt_number": 43
    },
    {
     "cell_type": "code",
     "collapsed": false,
     "input": [
      "collection = [10,20,30,40,50]\n",
      "for each in collection:\n",
      "    print each"
     ],
     "language": "python",
     "metadata": {},
     "outputs": [
      {
       "output_type": "stream",
       "stream": "stdout",
       "text": [
        "10\n",
        "20\n",
        "30\n",
        "40\n",
        "50\n"
       ]
      }
     ],
     "prompt_number": 44
    },
    {
     "cell_type": "raw",
     "metadata": {},
     "source": [
      "Both programs produce the same output\n",
      "But the for-loop is much more simple\n",
      "Simple is better than complex (The Zen of Python)\n",
      "Whenever stepping through a data structure for-loops are a better bet "
     ]
    },
    {
     "cell_type": "heading",
     "level": 6,
     "metadata": {},
     "source": [
      "Counting with for loops"
     ]
    },
    {
     "cell_type": "raw",
     "metadata": {},
     "source": [
      "Note that as well as visiting each item in the list we are also counting\n",
      "The loop is iterating a fixed number of times  \n",
      "for each in [10,20,30,40,50]:\n",
      "    print each"
     ]
    },
    {
     "cell_type": "raw",
     "metadata": {},
     "source": [
      "We can use a list to control how many we loop\n",
      "However if we wish to iterate many tens, hundreds or even thousands of times writing a whole list will be impractical\n",
      "So python provides a function to generate large lists for us"
     ]
    },
    {
     "cell_type": "heading",
     "level": 3,
     "metadata": {},
     "source": [
      "12 Home on the range"
     ]
    },
    {
     "cell_type": "raw",
     "metadata": {},
     "source": [
      "Python provides a built-in function called range to make creating sequential lists easier\n",
      "    nums = range(4) \n",
      "If used on its own range will return a sequence list"
     ]
    },
    {
     "cell_type": "code",
     "collapsed": false,
     "input": [
      "range(20)"
     ],
     "language": "python",
     "metadata": {},
     "outputs": [
      {
       "metadata": {},
       "output_type": "pyout",
       "prompt_number": 45,
       "text": [
        "[0, 1, 2, 3, 4, 5, 6, 7, 8, 9, 10, 11, 12, 13, 14, 15, 16, 17, 18, 19]"
       ]
      }
     ],
     "prompt_number": 45
    },
    {
     "cell_type": "raw",
     "metadata": {},
     "source": [
      "Range can therefore be used in a for-loop to provide the collection used to index the loop"
     ]
    },
    {
     "cell_type": "code",
     "collapsed": false,
     "input": [
      "for each in range(20):\n",
      "    print each"
     ],
     "language": "python",
     "metadata": {},
     "outputs": [
      {
       "output_type": "stream",
       "stream": "stdout",
       "text": [
        "0\n",
        "1\n",
        "2\n",
        "3\n",
        "4\n",
        "5\n",
        "6\n",
        "7\n",
        "8\n",
        "9\n",
        "10\n",
        "11\n",
        "12\n",
        "13\n",
        "14\n",
        "15\n",
        "16\n",
        "17\n",
        "18\n",
        "19\n"
       ]
      }
     ],
     "prompt_number": 46
    },
    {
     "cell_type": "heading",
     "level": 6,
     "metadata": {},
     "source": [
      "How can range be used to produce more \"exotic\" sequences?"
     ]
    },
    {
     "cell_type": "raw",
     "metadata": {},
     "source": [
      "As we have seen with 1 argument range(n) will produce a sequence from zero to n-1"
     ]
    },
    {
     "cell_type": "raw",
     "metadata": {},
     "source": [
      "With 2 arguments range(m,n) will produce a sequence from m to n-1 "
     ]
    },
    {
     "cell_type": "code",
     "collapsed": false,
     "input": [
      "range(2, 6)"
     ],
     "language": "python",
     "metadata": {},
     "outputs": [
      {
       "metadata": {},
       "output_type": "pyout",
       "prompt_number": 47,
       "text": [
        "[2, 3, 4, 5]"
       ]
      }
     ],
     "prompt_number": 47
    },
    {
     "cell_type": "raw",
     "metadata": {},
     "source": [
      "Both of the examples above count up in ones with argument c, range(m,n,c) will count from m to n-c in steps of c "
     ]
    },
    {
     "cell_type": "code",
     "collapsed": false,
     "input": [
      "range(10, 0, -1)"
     ],
     "language": "python",
     "metadata": {},
     "outputs": [
      {
       "metadata": {},
       "output_type": "pyout",
       "prompt_number": 48,
       "text": [
        "[10, 9, 8, 7, 6, 5, 4, 3, 2, 1]"
       ]
      }
     ],
     "prompt_number": 48
    },
    {
     "cell_type": "code",
     "collapsed": false,
     "input": [
      "range(0, 20, 2)"
     ],
     "language": "python",
     "metadata": {},
     "outputs": [
      {
       "metadata": {},
       "output_type": "pyout",
       "prompt_number": 49,
       "text": [
        "[0, 2, 4, 6, 8, 10, 12, 14, 16, 18]"
       ]
      }
     ],
     "prompt_number": 49
    },
    {
     "cell_type": "heading",
     "level": 6,
     "metadata": {},
     "source": [
      "e) What range command produces the sequence [100,200,300,400,500]?"
     ]
    },
    {
     "cell_type": "code",
     "collapsed": false,
     "input": [
      "range(100,600,100)"
     ],
     "language": "python",
     "metadata": {},
     "outputs": [
      {
       "metadata": {},
       "output_type": "pyout",
       "prompt_number": 51,
       "text": [
        "[100, 200, 300, 400, 500]"
       ]
      }
     ],
     "prompt_number": 51
    },
    {
     "cell_type": "heading",
     "level": 6,
     "metadata": {},
     "source": [
      "f) What range command produces the sequence [0, -2, -4, -6 -8, -10]?"
     ]
    },
    {
     "cell_type": "code",
     "collapsed": false,
     "input": [
      "range(0,-12,-2)"
     ],
     "language": "python",
     "metadata": {},
     "outputs": [
      {
       "metadata": {},
       "output_type": "pyout",
       "prompt_number": 54,
       "text": [
        "[0, -2, -4, -6, -8, -10]"
       ]
      }
     ],
     "prompt_number": 54
    },
    {
     "cell_type": "heading",
     "level": 6,
     "metadata": {},
     "source": [
      "g) Use a for-loop to print out each element of a list on a different line"
     ]
    },
    {
     "cell_type": "code",
     "collapsed": false,
     "input": [
      "someList = [5,4,3,2,1,6,7,8,9,0]\n",
      "for item in someList:\n",
      "    print item"
     ],
     "language": "python",
     "metadata": {},
     "outputs": [
      {
       "output_type": "stream",
       "stream": "stdout",
       "text": [
        "5\n",
        "4\n",
        "3\n",
        "2\n",
        "1\n",
        "6\n",
        "7\n",
        "8\n",
        "9\n",
        "0\n"
       ]
      }
     ],
     "prompt_number": 56
    },
    {
     "cell_type": "heading",
     "level": 6,
     "metadata": {},
     "source": [
      "h) Write the Python code to produce the follow output"
     ]
    },
    {
     "cell_type": "raw",
     "metadata": {},
     "source": [
      "10\n",
      "9\n",
      "8\n",
      "7\n",
      "6\n",
      "5\n",
      "4\n",
      "3\n",
      "2\n",
      "1\n",
      "0\n",
      "We have lift off!"
     ]
    },
    {
     "cell_type": "code",
     "collapsed": false,
     "input": [
      "for item in range(10,-1,-1):\n",
      "    print item\n",
      "print 'We have lift off!'\n",
      "#-- Another method could have been making an array of items and then adding the 'we have lift off!' Just to save one line!"
     ],
     "language": "python",
     "metadata": {},
     "outputs": [
      {
       "output_type": "stream",
       "stream": "stdout",
       "text": [
        "10\n",
        "9\n",
        "8\n",
        "7\n",
        "6\n",
        "5\n",
        "4\n",
        "3\n",
        "2\n",
        "1\n",
        "0\n",
        "We have lift off!\n"
       ]
      }
     ],
     "prompt_number": 60
    },
    {
     "cell_type": "heading",
     "level": 6,
     "metadata": {},
     "source": [
      "Note:"
     ]
    },
    {
     "cell_type": "raw",
     "metadata": {},
     "source": [
      "It may be inefficient for a large collection to exit in memory all at once just for a loop so Python provides an alternative for of the range called xrange, that produces one index at a time (a generator) when used in a loop"
     ]
    },
    {
     "cell_type": "code",
     "collapsed": false,
     "input": [
      "for each in xrange(20):\n",
      "    print each"
     ],
     "language": "python",
     "metadata": {},
     "outputs": []
    },
    {
     "cell_type": "heading",
     "level": 3,
     "metadata": {},
     "source": [
      "13 Functions"
     ]
    },
    {
     "cell_type": "raw",
     "metadata": {},
     "source": [
      "def bar():\n",
      "    print \"The QuuxBox if foobarred!\"\n",
      "\n",
      "def baz():\n",
      "    print \"No it's not!\"\n",
      "\n",
      "def foo(fun):\n",
      "    fun()\n",
      "\n",
      "foo(bar)\n",
      "The QuuxBox is foobarred!\n",
      "foo(baz)\n",
      "No it's not!\n",
      "def docfoo():\n",
      "    \"This foo is documented!\""
     ]
    },
    {
     "cell_type": "raw",
     "metadata": {},
     "source": [
      "Note: Functions are first-class objects in Python"
     ]
    },
    {
     "cell_type": "heading",
     "level": 6,
     "metadata": {},
     "source": [
      "Function statements"
     ]
    },
    {
     "cell_type": "raw",
     "metadata": {},
     "source": [
      "def name([arg1, arg2, ...]):\n",
      "    statement1\n",
      "    ...\n",
      "    statement n\n",
      "    [return [expression]]"
     ]
    },
    {
     "cell_type": "raw",
     "metadata": {},
     "source": [
      "return [expression] exit the function, optionally returning the result of expression to the one who invoked the function"
     ]
    },
    {
     "cell_type": "heading",
     "level": 6,
     "metadata": {},
     "source": [
      "i) rewrite the for answer b) as a Python function that take the values to add as parameters and returns the result of the addition.  Remember to call your function to verify that it works."
     ]
    },
    {
     "cell_type": "code",
     "collapsed": false,
     "input": [],
     "language": "python",
     "metadata": {},
     "outputs": []
    },
    {
     "cell_type": "heading",
     "level": 6,
     "metadata": {},
     "source": [
      "Function Namespace"
     ]
    },
    {
     "cell_type": "raw",
     "metadata": {},
     "source": [
      "bullets = 10;\n",
      "def fire():\n",
      "    print \"BANG!\\n\"\n",
      "    bullets -= 1 # error \u2013 bullets not defined\n",
      "\n",
      "def truefire():\n",
      "    global bullets # make bullets global\n",
      "    print \"BANG!\\n\"\n",
      "    bullets -= 1 # good \u2013 bullets is global"
     ]
    },
    {
     "cell_type": "heading",
     "level": 6,
     "metadata": {},
     "source": [
      "Global Variable Access"
     ]
    },
    {
     "cell_type": "raw",
     "metadata": {},
     "source": [
      "global name [...]\n",
      "    tells python to interpret name as a global variable. \n",
      "    Multiple names may be globalized by listing the all separated by commas."
     ]
    },
    {
     "cell_type": "heading",
     "level": 6,
     "metadata": {},
     "source": [
      "The Argument List"
     ]
    },
    {
     "cell_type": "code",
     "collapsed": false,
     "input": [
      "def name(arg[=defval], ...):\n",
      "     function-body"
     ],
     "language": "python",
     "metadata": {},
     "outputs": []
    },
    {
     "cell_type": "heading",
     "level": 6,
     "metadata": {},
     "source": [
      "Default Arguments"
     ]
    },
    {
     "cell_type": "raw",
     "metadata": {},
     "source": [
      "def charIndex(string, char, start=0, len=-1):\n",
      "    if len<0:\n",
      "        len=len(string)"
     ]
    },
    {
     "cell_type": "heading",
     "level": 6,
     "metadata": {},
     "source": [
      "Keyword Arguments"
     ]
    },
    {
     "cell_type": "raw",
     "metadata": {},
     "source": [
      "charAt(\"MakeMyDay\", \"M\", len=4)"
     ]
    },
    {
     "cell_type": "heading",
     "level": 6,
     "metadata": {},
     "source": [
      "Lamba Forms"
     ]
    },
    {
     "cell_type": "code",
     "collapsed": false,
     "input": [
      "def subtractor(x, y): \n",
      "    return x-y\n",
      "sub = subtractor\n",
      "add = lambda(x, y): x+y"
     ],
     "language": "python",
     "metadata": {},
     "outputs": [],
     "prompt_number": 3
    },
    {
     "cell_type": "code",
     "collapsed": false,
     "input": [
      "sub(5, 7)"
     ],
     "language": "python",
     "metadata": {},
     "outputs": []
    },
    {
     "cell_type": "code",
     "collapsed": false,
     "input": [
      "add(5, 7)"
     ],
     "language": "python",
     "metadata": {},
     "outputs": []
    },
    {
     "cell_type": "heading",
     "level": 6,
     "metadata": {},
     "source": [
      "Syntax"
     ]
    },
    {
     "cell_type": "raw",
     "metadata": {},
     "source": [
      "    lambda arglist: expression"
     ]
    },
    {
     "cell_type": "heading",
     "level": 3,
     "metadata": {},
     "source": [
      "14 Modules"
     ]
    },
    {
     "cell_type": "heading",
     "level": 6,
     "metadata": {},
     "source": [
      "Importing Modules"
     ]
    },
    {
     "cell_type": "code",
     "collapsed": false,
     "input": [
      "import sys\n",
      "print sys.version"
     ],
     "language": "python",
     "metadata": {},
     "outputs": []
    },
    {
     "cell_type": "code",
     "collapsed": false,
     "input": [
      "from math import *\n",
      "sin(pi/2)"
     ],
     "language": "python",
     "metadata": {},
     "outputs": []
    },
    {
     "cell_type": "heading",
     "level": 6,
     "metadata": {},
     "source": [
      "The import Statement"
     ]
    },
    {
     "cell_type": "raw",
     "metadata": {},
     "source": [
      "import module\n",
      "from module import name[, ...]\n",
      "from module import *\n",
      "from package import module"
     ]
    },
    {
     "cell_type": "heading",
     "level": 6,
     "metadata": {},
     "source": [
      "Standard Modules"
     ]
    },
    {
     "cell_type": "raw",
     "metadata": {},
     "source": [
      "    sys \u2013 python system variables, including argv\n",
      "    os \u2013 generic system interface (cross-platform)\n",
      "    os.path \u2013 generic filesystem interface (cross-platform)\n",
      "    re \u2013 regular expressions\n",
      "    time \u2013 time query and conversion\n",
      "    math \u2013 basic floating-point math functions (C libm)"
     ]
    },
    {
     "cell_type": "heading",
     "level": 3,
     "metadata": {},
     "source": [
      "15 Object-orientation in Python"
     ]
    },
    {
     "cell_type": "heading",
     "level": 6,
     "metadata": {},
     "source": [
      "Classes"
     ]
    },
    {
     "cell_type": "code",
     "collapsed": false,
     "input": [
      "class Namespace(UserDict):\n",
      "    def __init__(self, basedicts):\n",
      "        self.basedicts = basedicts\n",
      "    def __getitem__(self, key):\n",
      "        if key in self.data:\n",
      "            return self.data[key]\n",
      "        for dict in basedicts:\n",
      "            if key in dict:\n",
      "                return dict[key]\n",
      "            raise NameError, key\n",
      "    def __contains__(self, key):\n",
      "        if key in self.data:\n",
      "            return True\n",
      "        for dict in basedicts:\n",
      "            if key in dict:\n",
      "                return True\n",
      "        return False"
     ],
     "language": "python",
     "metadata": {},
     "outputs": []
    },
    {
     "cell_type": "heading",
     "level": 6,
     "metadata": {},
     "source": [
      "Basic Syntax"
     ]
    },
    {
     "cell_type": "raw",
     "metadata": {},
     "source": [
      "class name(bases):\n",
      "    statements"
     ]
    },
    {
     "cell_type": "heading",
     "level": 6,
     "metadata": {},
     "source": [
      "Class Instances"
     ]
    },
    {
     "cell_type": "code",
     "collapsed": false,
     "input": [
      "class Area:\n",
      "    def __init__(self, x=0.0, y=0.0, w=0.0, h=0.0):\n",
      "        self.x = x\n",
      "        self.y = y\n",
      "        self.w = w\n",
      "        self.h = h\n",
      "    def pointIn(self, x, y):\n",
      "        return (self.x <= x <= self.x + self.w && \n",
      "                self.y <= y <= self.y + self.h)\n",
      "    def move(self, dx, dy):\n",
      "        self.x += dx\n",
      "        self.y += dy\n",
      "\n",
      "inst = Area(1.0, 1.0, 4.0, 4.0)"
     ],
     "language": "python",
     "metadata": {},
     "outputs": []
    },
    {
     "cell_type": "heading",
     "level": 6,
     "metadata": {},
     "source": [
      "Initializer Method"
     ]
    },
    {
     "cell_type": "raw",
     "metadata": {},
     "source": [
      "__init__(self[, args])\n",
      "    method called to initialize a new instance of the class"
     ]
    },
    {
     "cell_type": "heading",
     "level": 6,
     "metadata": {},
     "source": [
      "Class Inheritance"
     ]
    },
    {
     "cell_type": "code",
     "collapsed": false,
     "input": [
      "class Rect(Area):\n",
      "    pass \n",
      "class Circle(Area):\n",
      "    def __init__(self, x=0.0, y=0.0, r=0.0):\n",
      "        self.x = x\n",
      "        self.y = y\n",
      "        self.r = r\n",
      "    def pointIn(self, x, y):\n",
      "        return (x-self.x)**2 + (y-self.y)**2 < self.r**2"
     ],
     "language": "python",
     "metadata": {},
     "outputs": []
    },
    {
     "cell_type": "heading",
     "level": 3,
     "metadata": {},
     "source": [
      "16 The Zen of Python"
     ]
    },
    {
     "cell_type": "raw",
     "metadata": {},
     "source": [
      "    Beautiful is better than ugly\n",
      "    Explicit is better than implicit\n",
      "    Simple is better than complex\n",
      "    Complex is better than complicated\n",
      "    Readability counts"
     ]
    },
    {
     "cell_type": "heading",
     "level": 6,
     "metadata": {},
     "source": [
      "Exercise"
     ]
    },
    {
     "cell_type": "heading",
     "level": 6,
     "metadata": {},
     "source": [
      "Rewrite the code above, a bubble sort, as a Python function (call it bubble) in the space below. The function should take an unsorted list and return a sorted one.  You are allowed to add and remove parts of the code as required."
     ]
    },
    {
     "cell_type": "raw",
     "metadata": {},
     "source": [
      "nums = [70,60,50,40,30,20,10]\n",
      "size = len(nums)\n",
      "time2stop = False\n",
      "while time2stop == False:\n",
      "     noSwaps = True\n",
      "     i = 0\n",
      "     while i < (size - 1):\n",
      "         if nums[i] > nums[i+1]:\n",
      "              nums[i], nums[i+1] = nums[i+1], nums[i]\n",
      "              noSwaps = False\n",
      "              print nums\n",
      "     i = i + 1\n",
      "     if noSwaps == True:\n",
      "          time2stop = True"
     ]
    },
    {
     "cell_type": "raw",
     "metadata": {},
     "source": [
      "Test that the function works with a call such as: \n",
      "    print bubble([70,60,50,40,30,20,10])\n",
      "and verify that the output is as expected"
     ]
    },
    {
     "cell_type": "code",
     "collapsed": false,
     "input": [],
     "language": "python",
     "metadata": {},
     "outputs": []
    }
   ],
   "metadata": {}
  }
 ]
}