{
 "metadata": {
  "name": "",
  "signature": "sha256:705c9157c609836570fc2ea44047b9a0db1ceb72a9357530b3c18679a066d211"
 },
 "nbformat": 3,
 "nbformat_minor": 0,
 "worksheets": [
  {
   "cells": [
    {
     "cell_type": "heading",
     "level": 1,
     "metadata": {},
     "source": [
      "Lecture 4 Heaps"
     ]
    },
    {
     "cell_type": "markdown",
     "metadata": {},
     "source": [
      "Lists in Python can be used to emulate other data structures used for solving various types of complex problem.  In this session we will examine some of them."
     ]
    },
    {
     "cell_type": "heading",
     "level": 3,
     "metadata": {},
     "source": [
      "Stacks"
     ]
    },
    {
     "cell_type": "markdown",
     "metadata": {},
     "source": [
      "A stack (or \u201cpush-down stack\u201d) is an ordered collection of items where the addition of new items and the removal of existing items always takes place at the same end. This end is commonly referred to as the \u201ctop. This ordering principle is sometimes called LIFO, last-in first-out. It provides an ordering based on length of time in the collection. Newer items are near the top, while older items are near the base."
     ]
    },
    {
     "cell_type": "markdown",
     "metadata": {},
     "source": [
      "The list methods make it very easy to use a list as a stack, where the last element added is the first element retrieved (\u201clast-in, first-out\u201d). To add an item to the top of the stack, use append(). To retrieve an item from the top of the stack, use pop() without an explicit index. For example:"
     ]
    },
    {
     "cell_type": "code",
     "collapsed": false,
     "input": [
      "stack = [3, 4, 5]\n",
      "stack.append(6)\n",
      "stack.append(7)\n",
      "stack"
     ],
     "language": "python",
     "metadata": {},
     "outputs": [
      {
       "metadata": {},
       "output_type": "pyout",
       "prompt_number": 1,
       "text": [
        "[3, 4, 5, 6, 7]"
       ]
      }
     ],
     "prompt_number": 1
    },
    {
     "cell_type": "markdown",
     "metadata": {},
     "source": [
      "The pop method removes an element from the end of the list"
     ]
    },
    {
     "cell_type": "code",
     "collapsed": false,
     "input": [
      "stack.pop()"
     ],
     "language": "python",
     "metadata": {},
     "outputs": [
      {
       "metadata": {},
       "output_type": "pyout",
       "prompt_number": 2,
       "text": [
        "7"
       ]
      }
     ],
     "prompt_number": 2
    },
    {
     "cell_type": "markdown",
     "metadata": {},
     "source": [
      "To then print the current state of the stack"
     ]
    },
    {
     "cell_type": "code",
     "collapsed": false,
     "input": [
      "stack"
     ],
     "language": "python",
     "metadata": {},
     "outputs": [
      {
       "metadata": {},
       "output_type": "pyout",
       "prompt_number": 3,
       "text": [
        "[3, 4, 5, 6]"
       ]
      }
     ],
     "prompt_number": 3
    },
    {
     "cell_type": "markdown",
     "metadata": {},
     "source": [
      "Write the code to remove the next 2 elements from the stack and then push 42 onto the top"
     ]
    },
    {
     "cell_type": "code",
     "collapsed": false,
     "input": [
      "stack.pop()\n",
      "stack.pop()\n",
      "stack.append(42)"
     ],
     "language": "python",
     "metadata": {},
     "outputs": [],
     "prompt_number": 4
    },
    {
     "cell_type": "code",
     "collapsed": false,
     "input": [
      "stack"
     ],
     "language": "python",
     "metadata": {},
     "outputs": [
      {
       "metadata": {},
       "output_type": "pyout",
       "prompt_number": 5,
       "text": [
        "[3, 4, 42]"
       ]
      }
     ],
     "prompt_number": 5
    },
    {
     "cell_type": "heading",
     "level": 3,
     "metadata": {},
     "source": [
      "Queues"
     ]
    },
    {
     "cell_type": "markdown",
     "metadata": {},
     "source": [
      "A queue is an ordered collection of items where the addition of new items happens at one end, called the \u201crear,\u201d and the removal of existing items occurs at the other end, commonly called the \u201cfront.\u201d"
     ]
    },
    {
     "cell_type": "markdown",
     "metadata": {},
     "source": [
      "It is also possible to use a list as a queue, where the first element added is the first element retrieved (\u201cfirst-in, first-out\u201d); however, lists are not efficient for this purpose. While appends and pops from the end of list are fast, doing inserts or pops from the beginning of a list is slow (because all of the other elements have to be shifted by one)."
     ]
    },
    {
     "cell_type": "markdown",
     "metadata": {},
     "source": [
      "To implement a queue, use <font color=\"blue\">collections.deque</font> which was designed to have fast appends and pops from both ends. For example:"
     ]
    },
    {
     "cell_type": "code",
     "collapsed": false,
     "input": [
      "from collections import deque\n",
      "queue = deque([\"Eric\", \"John\", \"Michael\"])\n",
      "queue.append(\"Terry\")           # Terry arrives\n",
      "queue.append(\"Graham\")          # Graham arrives\n",
      "queue.popleft()                 # The first to arrive now leaves"
     ],
     "language": "python",
     "metadata": {},
     "outputs": [
      {
       "metadata": {},
       "output_type": "pyout",
       "prompt_number": 11,
       "text": [
        "'Eric'"
       ]
      },
      {
       "output_type": "stream",
       "stream": "stdout",
       "text": [
        "\n"
       ]
      }
     ],
     "prompt_number": 11
    },
    {
     "cell_type": "markdown",
     "metadata": {},
     "source": [
      "<font color=\"blue\">Popleft</font> removes an element from the head of the queue"
     ]
    },
    {
     "cell_type": "code",
     "collapsed": false,
     "input": [
      "queue.popleft()"
     ],
     "language": "python",
     "metadata": {},
     "outputs": [
      {
       "metadata": {},
       "output_type": "pyout",
       "prompt_number": 7,
       "text": [
        "'John'"
       ]
      }
     ],
     "prompt_number": 7
    },
    {
     "cell_type": "markdown",
     "metadata": {},
     "source": [
      "To then print the current state of the queue"
     ]
    },
    {
     "cell_type": "code",
     "collapsed": false,
     "input": [
      "test = [10]\n",
      "test= test + [1]\n",
      "\n",
      "print test"
     ],
     "language": "python",
     "metadata": {},
     "outputs": [
      {
       "output_type": "stream",
       "stream": "stdout",
       "text": [
        "[10, 1]\n"
       ]
      }
     ],
     "prompt_number": 3
    },
    {
     "cell_type": "markdown",
     "metadata": {},
     "source": [
      "Write the code to add your name to the end of the queue"
     ]
    },
    {
     "cell_type": "code",
     "collapsed": false,
     "input": [
      "queue.append(\"Minesh\")"
     ],
     "language": "python",
     "metadata": {},
     "outputs": [],
     "prompt_number": 11
    },
    {
     "cell_type": "markdown",
     "metadata": {},
     "source": [
      "Then to remove elements until you emerge from the front of the queue (You don't have to use a loop here)"
     ]
    },
    {
     "cell_type": "code",
     "collapsed": false,
     "input": [
      "queue.popleft()\n",
      "queue.popleft()\n",
      "queue.popleft()"
     ],
     "language": "python",
     "metadata": {},
     "outputs": [
      {
       "metadata": {},
       "output_type": "pyout",
       "prompt_number": 12,
       "text": [
        "'Graham'"
       ]
      }
     ],
     "prompt_number": 12
    },
    {
     "cell_type": "heading",
     "level": 4,
     "metadata": {},
     "source": [
      "Exercise"
     ]
    },
    {
     "cell_type": "markdown",
     "metadata": {},
     "source": [
      "Below are some badly written search programs, they work but the use of the stack and the queue could be clearer.  Modify the functions to use the stack and queue as described above and verify each works: "
     ]
    },
    {
     "cell_type": "code",
     "collapsed": false,
     "input": [
      "'''\n",
      "   +---- A\n",
      "   |   /   \\\n",
      "   |  B--D--C\n",
      "   |   \\ | /\n",
      "   +---- E\n",
      "'''\n",
      "graph = {'A':['B','C'],'B':['D','E'],'C':['D','E'],'D':['E'],'E':['A']}"
     ],
     "language": "python",
     "metadata": {},
     "outputs": [
      {
       "output_type": "stream",
       "stream": "stdout",
       "text": [
        "\n"
       ]
      }
     ],
     "prompt_number": 6
    },
    {
     "cell_type": "code",
     "collapsed": false,
     "input": [
      "def iterative_dfs(graph, start):\n",
      "    '''iterative depth first search from start'''\n",
      "    path=[]\n",
      "    q=[start]\n",
      "    while q:\n",
      "        v=q.pop(0)\n",
      "        if v not in path:\n",
      "            path=path+[v]\n",
      "            q=graph[v]+q   # <- ??\n",
      "    return path\n",
      "\n",
      "def iterative_bfs(graph, start):\n",
      "    '''iterative breadth first search from start'''\n",
      "    path=[]\n",
      "    q=[start]\n",
      "    while q:\n",
      "        v=q.pop(0)\n",
      "        if not v in path:\n",
      "            path=path+[v]\n",
      "            q=q+graph[v]   # <- ??\n",
      "    return path"
     ],
     "language": "python",
     "metadata": {},
     "outputs": [],
     "prompt_number": 7
    },
    {
     "cell_type": "code",
     "collapsed": false,
     "input": [
      "print 'iterative dfs ', iterative_dfs(graph, 'A')\n",
      "print 'iterative bfs ', iterative_bfs(graph, 'A')"
     ],
     "language": "python",
     "metadata": {},
     "outputs": [
      {
       "output_type": "stream",
       "stream": "stdout",
       "text": [
        "iterative dfs  ['A', 'B', 'D', 'E', 'C']\n",
        "iterative bfs  ['A', 'B', 'C', 'D', 'E']\n"
       ]
      }
     ],
     "prompt_number": 8
    },
    {
     "cell_type": "markdown",
     "metadata": {},
     "source": [
      "Write your modified functions below "
     ]
    },
    {
     "cell_type": "code",
     "collapsed": false,
     "input": [
      "\n",
      "#-- Uses Stacks\n",
      "def iterative_dfs(graph, start):\n",
      "    '''iterative depth first search from start'''\n",
      "    \n",
      "    path=[]\n",
      "    q=[start]\n",
      "    while q:\n",
      "        v=q.pop(0)\n",
      "        if v not in path:\n",
      "            path.append(v)\n",
      "            q.append(v)\n",
      "    return path\n",
      "\n",
      "#-- Users Queues\n",
      "def iterative_bfs(graph, start):\n",
      "    '''iterative breadth first search from start'''\n",
      "    path=[]\n",
      "    q=deque([start])\n",
      "    while q:\n",
      "        v=q.popleft()\n",
      "        if not v in path:\n",
      "            path.append(v)\n",
      "            q.append(v)   # <- ??\n",
      "    return path\n"
     ],
     "language": "python",
     "metadata": {},
     "outputs": [],
     "prompt_number": 25
    },
    {
     "cell_type": "code",
     "collapsed": false,
     "input": [
      "print 'iterative dfs ', iterative_dfs(graph, 'A')\n",
      "print 'iterative bfs ', iterative_bfs(graph, 'A')"
     ],
     "language": "python",
     "metadata": {},
     "outputs": [
      {
       "output_type": "stream",
       "stream": "stdout",
       "text": [
        "iterative dfs  ['A']\n",
        "iterative bfs  ['A']\n"
       ]
      }
     ],
     "prompt_number": 23
    },
    {
     "cell_type": "heading",
     "level": 3,
     "metadata": {},
     "source": [
      "Priority queue"
     ]
    },
    {
     "cell_type": "heading",
     "level": 4,
     "metadata": {},
     "source": [
      "problem"
     ]
    },
    {
     "cell_type": "markdown",
     "metadata": {},
     "source": [
      "You're running a hospital casualty department where patients with different complaints may enter in a random order. There is only one doctor on staff. The first man walks in - and he's served immediately. Next, a man with a cold comes in and requires assistance. You add him to the queue and he waits in line for the doctor to become available. Next, a man with an axe in his head comes through the door. He is assigned a higher priority because he is a higher medical liability. So the man with the cold is bumped down in line. Next, someone comes in with breathing problems. So, once again, the man with the cold is bumped down in priority."
     ]
    },
    {
     "cell_type": "markdown",
     "metadata": {},
     "source": [
      "In this example, clinical care, this type of operation is called triaging - but how there are different activities that require this type of dynamic sorting and queuing.\n"
     ]
    },
    {
     "cell_type": "markdown",
     "metadata": {},
     "source": [
      "Implementing this in code would use a priority queue and a worker thread (the doctor) to perform work on the consumable / units of work (the patients)\n"
     ]
    },
    {
     "cell_type": "markdown",
     "metadata": {},
     "source": [
      "It is possible (and probably much easier) to implement a priority queue using lists and the sorting functions=. However, inserting into a list is O(n) and sorting a list is O(n log n). We can do better. The classic way to implement a priority queue is using a data structure called a binary heap. A binary heap will allow us both enqueue and dequeue items in O(log n) time."
     ]
    },
    {
     "cell_type": "markdown",
     "metadata": {},
     "source": [
      "A heap is a tree-like data structure where the child nodes have a sort-order relationship with the parents. A heap is a specialized tree-based data structure that satisfies the heap property"
     ]
    },
    {
     "cell_type": "markdown",
     "metadata": {},
     "source": [
      "<i>A heap data structure should not be confused with the heap which is a common name for the pool of memory from which dynamically allocated memory is allocated</i>"
     ]
    },
    {
     "cell_type": "markdown",
     "metadata": {},
     "source": [
      "In a heap the highest (or lowest) priority element is always stored at the root, hence the name heap."
     ]
    },
    {
     "cell_type": "markdown",
     "metadata": {},
     "source": [
      "A heap is not a sorted structure and can be regarded as partially ordered"
     ]
    },
    {
     "cell_type": "markdown",
     "metadata": {},
     "source": [
      "When a heap is a complete binary tree, it has a smallest possible height\u2014a heap with N nodes always has O(log N) height."
     ]
    },
    {
     "cell_type": "markdown",
     "metadata": {},
     "source": [
      "The heap is one maximally efficient implementation of an abstract data type called a priority queue, and in fact priority queues are often referred to as \"heaps\","
     ]
    },
    {
     "cell_type": "markdown",
     "metadata": {},
     "source": [
      "The binary heap is an interesting data structure to study because when it is drawn it looks a lot like a tree, but when it is implement it uses only a single list as an internal representation. The binary heap has two common variations: the min heap, in which the smallest key is always at the front, and the max heap, in which the largest key value is always at the front. In this section we will implement the min heap."
     ]
    },
    {
     "cell_type": "raw",
     "metadata": {},
     "source": [
      "                               0\n",
      "\n",
      "              1                                 2\n",
      "\n",
      "      3               4                5               6\n",
      "\n",
      "  7       8       9       10      11      12      13      14\n",
      "\n",
      "15 16   17 18   19 20   21 22   23 24   25 26   27 28   29 30"
     ]
    },
    {
     "cell_type": "heading",
     "level": 4,
     "metadata": {},
     "source": [
      "priority queue example:"
     ]
    },
    {
     "cell_type": "code",
     "collapsed": false,
     "input": [
      "import math\n",
      "from cStringIO import StringIO\n",
      "\n",
      "# This is used to display the content of the tree.\n",
      "def show_tree(tree, total_width=36, fill=' '):\n",
      "    \"\"\"Pretty-print a tree.\"\"\"\n",
      "    output = StringIO()\n",
      "    last_row = -1\n",
      "    for i, n in enumerate(tree):\n",
      "        if i:\n",
      "            row = int(math.floor(math.log(i+1, 2)))\n",
      "        else:\n",
      "            row = 0\n",
      "        if row != last_row:\n",
      "            output.write('\\n')\n",
      "        columns = 2**row\n",
      "        col_width = int(math.floor((total_width * 1.0) / columns))\n",
      "        output.write(str(n).center(col_width, fill))\n",
      "        last_row = row\n",
      "    print output.getvalue()\n",
      "    print '-' * total_width\n",
      "    print\n",
      "    return"
     ],
     "language": "python",
     "metadata": {},
     "outputs": [],
     "prompt_number": 26
    },
    {
     "cell_type": "code",
     "collapsed": false,
     "input": [
      "import heapq\n",
      "\n",
      "# This data was generated with the random module.\n",
      "\n",
      "data = [19, 9, 4, 10, 11, 8, 2]\n"
     ],
     "language": "python",
     "metadata": {},
     "outputs": [],
     "prompt_number": 27
    },
    {
     "cell_type": "code",
     "collapsed": false,
     "input": [
      "import heapq\n",
      "\n",
      "heap = []\n",
      "print 'random :', data\n",
      "print\n",
      "\n",
      "for n in data:\n",
      "    print 'add %3d:' % n\n",
      "    heapq.heappush(heap, n)\n",
      "    show_tree(heap)"
     ],
     "language": "python",
     "metadata": {},
     "outputs": [
      {
       "output_type": "stream",
       "stream": "stdout",
       "text": [
        "random : [19, 9, 4, 10, 11, 8, 2]\n",
        "\n",
        "add  19:\n",
        "\n",
        "                 19                 \n",
        "------------------------------------\n",
        "\n",
        "add   9:\n",
        "\n",
        "                 9                  \n",
        "        19        \n",
        "------------------------------------\n",
        "\n",
        "add   4:\n",
        "\n",
        "                 4                  \n",
        "        19                9         \n",
        "------------------------------------\n",
        "\n",
        "add  10:\n",
        "\n",
        "                 4                  \n",
        "        10                9         \n",
        "    19   \n",
        "------------------------------------\n",
        "\n",
        "add  11:\n",
        "\n",
        "                 4                  \n",
        "        10                9         \n",
        "    19       11   \n",
        "------------------------------------\n",
        "\n",
        "add   8:\n",
        "\n",
        "                 4                  \n",
        "        10                8         \n",
        "    19       11       9    \n",
        "------------------------------------\n",
        "\n",
        "add   2:\n",
        "\n",
        "                 2                  \n",
        "        10                4         \n",
        "    19       11       9        8    \n",
        "------------------------------------\n",
        "\n"
       ]
      }
     ],
     "prompt_number": 28
    },
    {
     "cell_type": "markdown",
     "metadata": {},
     "source": [
      "Note we can add the whole of a sequence to a heap in a single step (rather than heappush) if we use the heapify() method"
     ]
    },
    {
     "cell_type": "code",
     "collapsed": false,
     "input": [
      "import heapq\n",
      "\n",
      "print 'random    :', data\n",
      "heapq.heapify(data)\n",
      "print 'heapified :'\n",
      "show_tree(data)"
     ],
     "language": "python",
     "metadata": {},
     "outputs": []
    },
    {
     "cell_type": "heading",
     "level": 3,
     "metadata": {},
     "source": [
      "Accessing Contents of a Heap"
     ]
    },
    {
     "cell_type": "code",
     "collapsed": false,
     "input": [
      "Once the heap is organized correctly, use heappop() to remove the element with the lowest value."
     ],
     "language": "python",
     "metadata": {},
     "outputs": []
    },
    {
     "cell_type": "code",
     "collapsed": false,
     "input": [
      "import heapq\n",
      "\n",
      "print 'random    :', data\n",
      "heapq.heapify(data)\n",
      "print 'heapified :'\n",
      "show_tree(data)\n",
      "print\n",
      "\n",
      "inorder = []\n",
      "while data:\n",
      "    smallest = heapq.heappop(data)\n",
      "    print 'pop    %3d:' % smallest\n",
      "    show_tree(data)\n",
      "    inorder.append(smallest)\n",
      "print 'inorder   :', inorder"
     ],
     "language": "python",
     "metadata": {},
     "outputs": [
      {
       "output_type": "stream",
       "stream": "stdout",
       "text": [
        "random    : [19, 9, 4, 10, 11, 8, 2]\n",
        "heapified :\n",
        "\n",
        "                 2                  \n",
        "        9                 4         \n",
        "    10       11       8        19   \n",
        "------------------------------------\n",
        "\n",
        "\n",
        "pop      2:\n",
        "\n",
        "                 4                  \n",
        "        9                 8         \n",
        "    10       11       19   \n",
        "------------------------------------\n",
        "\n",
        "pop      4:\n",
        "\n",
        "                 8                  \n",
        "        9                 19        \n",
        "    10       11   \n",
        "------------------------------------\n",
        "\n",
        "pop      8:\n",
        "\n",
        "                 9                  \n",
        "        10                19        \n",
        "    11   \n",
        "------------------------------------\n",
        "\n",
        "pop      9:\n",
        "\n",
        "                 10                 \n",
        "        11                19        \n",
        "------------------------------------\n",
        "\n",
        "pop     10:\n",
        "\n",
        "                 11                 \n",
        "        19        \n",
        "------------------------------------\n",
        "\n",
        "pop     11:\n",
        "\n",
        "                 19                 \n",
        "------------------------------------\n",
        "\n",
        "pop     19:\n",
        "\n",
        "------------------------------------\n",
        "\n",
        "inorder   : [2, 4, 8, 9, 10, 11, 19]\n"
       ]
      }
     ],
     "prompt_number": 30
    },
    {
     "cell_type": "heading",
     "level": 3,
     "metadata": {},
     "source": [
      "Exercise: The lizard-spock expansion"
     ]
    },
    {
     "cell_type": "markdown",
     "metadata": {},
     "source": [
      "This will be the end of my part of the module so like the final day of a school term we can games in.  In this case Rock-Paper-Scissors Python.  The only thing is your lecturer is a real nerd and would rather play it with the lizard-Spock expansion as postulated by his hero Dr Sheldon Cooper."
     ]
    },
    {
     "cell_type": "code",
     "collapsed": false,
     "input": [
      "from IPython.display import YouTubeVideo\n",
      "YouTubeVideo('iSHPVCBsnLw')\n"
     ],
     "language": "python",
     "metadata": {},
     "outputs": [
      {
       "html": [
        "\n",
        "        <iframe\n",
        "            width=\"400\"\n",
        "            height=300\"\n",
        "            src=\"https://www.youtube.com/embed/iSHPVCBsnLw\"\n",
        "            frameborder=\"0\"\n",
        "            allowfullscreen\n",
        "        ></iframe>\n",
        "        "
       ],
       "metadata": {},
       "output_type": "pyout",
       "prompt_number": 29,
       "text": [
        "<IPython.lib.display.YouTubeVideo at 0x3956770>"
       ]
      }
     ],
     "prompt_number": 29
    },
    {
     "cell_type": "code",
     "collapsed": false,
     "input": [
      "from IPython.display import Image\n",
      "Image(url=\"http://img1.wikia.nocookie.net/__cb20120120152555/nonciclopedia/images/1/1b/Carta%2C_Sasso%2C_Forbice%2C_Lizard_e_Spock.jpg\")"
     ],
     "language": "python",
     "metadata": {},
     "outputs": [
      {
       "html": [
        "<img src=\"http://img1.wikia.nocookie.net/__cb20120120152555/nonciclopedia/images/1/1b/Carta%2C_Sasso%2C_Forbice%2C_Lizard_e_Spock.jpg\"/>"
       ],
       "metadata": {},
       "output_type": "pyout",
       "prompt_number": 22,
       "text": [
        "<IPython.core.display.Image at 0x3515690>"
       ]
      }
     ],
     "prompt_number": 22
    },
    {
     "cell_type": "markdown",
     "metadata": {},
     "source": [
      "Examine the code below and modify it to play the full version of Rock-Paper-Scissors-Lizard-Spock!"
     ]
    },
    {
     "cell_type": "code",
     "collapsed": false,
     "input": [
      "import random\n",
      "\n",
      "userScore = 0\n",
      "compScore = 0\n",
      "\n",
      "lookup = {}\n",
      "lookup = {}\n",
      "lookup['rock'] = {'rock':'draw', 'paper':'lose', 'scissors':'win','lizard':'win','spock':'lose'}\n",
      "lookup['paper'] = {'rock':'win', 'paper':'draw', 'scissors':'lose','lizard':'lose','spock':'win'}\n",
      "lookup['scissors'] = {'rock':'lose', 'paper':'win', 'scissors':'draw','lizard':'win','spock':'lose'}\n",
      "lookup['lizard'] = {'rock':'lose', 'paper':'win', 'scissors':'lose', 'lizard':'draw','spock':'win'}\n",
      "lookup['spock'] = {'rock':'win', 'paper':'lose', 'scissors':'win', 'lizard':'lose','spock':'draw'}\n",
      "def getAIMove():\n",
      "    return random.choice(['rock', 'paper', 'scissors','lizard','spock'])\n",
      "\n",
      "def evaluateTheGuesser(userGuess, compGuess):\n",
      "    global userScore, compScore\n",
      "    print \"user guess: %s, computer guess: %s\" % (userGuess, compGuess)\n",
      "    if lookup[userGuess][compGuess] == 'win':\n",
      "        print 'You win the round'\n",
      "        userScore += 1\n",
      "    elif lookup[userGuess][compGuess] == 'lose':\n",
      "        print 'Computer wins the round'\n",
      "        compScore += 1\n",
      "    else:\n",
      "        print 'Draw'\n",
      "\n",
      "def main():\n",
      "    print 'Enter q to quit'\n",
      "    while True:\n",
      "        print \"user score: %s, computer score: %s\" % (userScore, compScore)\n",
      "        user = raw_input('?').lower()\n",
      "        if user == 'q':\n",
      "            break\n",
      "        elif user in 'rpslk':\n",
      "            comp = getAIMove()\n",
      "            evaluateTheGuesser({'r':'rock', 'p':'paper', 's':'scissors','l':'lizard','k':'spock'}[user], comp)\n",
      "\n",
      "if __name__ == '__main__':\n",
      "    main()"
     ],
     "language": "python",
     "metadata": {},
     "outputs": [
      {
       "output_type": "stream",
       "stream": "stdout",
       "text": [
        "Enter q to quit\n",
        "user score: 0, computer score: 0\n"
       ]
      },
      {
       "name": "stdout",
       "output_type": "stream",
       "stream": "stdout",
       "text": [
        "?s\n"
       ]
      },
      {
       "output_type": "stream",
       "stream": "stdout",
       "text": [
        "user guess: scissors, computer guess: spock\n",
        "Computer wins the round\n",
        "user score: 0, computer score: 1\n"
       ]
      },
      {
       "name": "stdout",
       "output_type": "stream",
       "stream": "stdout",
       "text": [
        "?s\n"
       ]
      },
      {
       "output_type": "stream",
       "stream": "stdout",
       "text": [
        "user guess: scissors, computer guess: scissors\n",
        "Draw\n",
        "user score: 0, computer score: 1\n"
       ]
      },
      {
       "name": "stdout",
       "output_type": "stream",
       "stream": "stdout",
       "text": [
        "?s\n"
       ]
      },
      {
       "output_type": "stream",
       "stream": "stdout",
       "text": [
        "user guess: scissors, computer guess: lizard\n",
        "You win the round\n",
        "user score: 1, computer score: 1\n"
       ]
      },
      {
       "name": "stdout",
       "output_type": "stream",
       "stream": "stdout",
       "text": [
        "?q\n"
       ]
      }
     ],
     "prompt_number": 2
    },
    {
     "cell_type": "code",
     "collapsed": false,
     "input": [
      "print test"
     ],
     "language": "python",
     "metadata": {},
     "outputs": []
    },
    {
     "cell_type": "code",
     "collapsed": false,
     "input": [],
     "language": "python",
     "metadata": {},
     "outputs": []
    }
   ],
   "metadata": {}
  }
 ]
}