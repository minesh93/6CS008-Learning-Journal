{
 "metadata": {
  "name": "",
  "signature": "sha256:fc1dc74203bee22860c5a16a98a0831a9719419d2814d9dad20d651cd53bdc70"
 },
 "nbformat": 3,
 "nbformat_minor": 0,
 "worksheets": [
  {
   "cells": [
    {
     "cell_type": "heading",
     "level": 1,
     "metadata": {},
     "source": [
      "1. Introduction - Why vectorise operations?"
     ]
    },
    {
     "cell_type": "heading",
     "level": 3,
     "metadata": {},
     "source": [
      "Example 1"
     ]
    },
    {
     "cell_type": "markdown",
     "metadata": {},
     "source": [
      "Assume we have a large list of numbers and we want to calculate their <b>sum</b>. In mathematical jargon, let's define vector $a = [0,1,2,3,..., n]$ and want to calculate the sum: $0+1+2+3+...+n$, where $n$ can be any number (e.g., $n=10000$). \n",
      "\n",
      "More generally, we can write this as:\n",
      "$a_0 + a_1 + a_2 + .... + a_{n} = \\sum_{i=0}^{n}a_i$ (this is called <em>Sigma notation</em>).\n",
      "\n",
      "Let's try this with $n=1000000$."
     ]
    },
    {
     "cell_type": "code",
     "collapsed": false,
     "input": [
      "a = range(10000000)\n",
      "print 'List \\'a\\' has %d elements' % len(a)\n",
      "print 'The first 10 elements of a:', a[:10]"
     ],
     "language": "python",
     "metadata": {},
     "outputs": [
      {
       "output_type": "stream",
       "stream": "stdout",
       "text": [
        "List 'a' has 10000000 elements\n",
        "The first 10 elements of a: [0, 1, 2, 3, 4, 5, 6, 7, 8, 9]\n"
       ]
      }
     ],
     "prompt_number": 5
    },
    {
     "cell_type": "markdown",
     "metadata": {},
     "source": [
      "First, let's try the standard (unvectorised) version of this:"
     ]
    },
    {
     "cell_type": "code",
     "collapsed": false,
     "input": [
      "def sum_unvectorised(to_be_summed):\n",
      "    result = 0\n",
      "    for i in to_be_summed:\n",
      "        result += i\n",
      "        \n",
      "    return result\n",
      "\n",
      "print 'Summation result is:',sum_unvectorised(a)"
     ],
     "language": "python",
     "metadata": {},
     "outputs": [
      {
       "output_type": "stream",
       "stream": "stdout",
       "text": [
        "Summation result is: "
       ]
      },
      {
       "output_type": "stream",
       "stream": "stdout",
       "text": [
        "49999995000000\n"
       ]
      }
     ],
     "prompt_number": 6
    },
    {
     "cell_type": "code",
     "collapsed": false,
     "input": [
      "print 'Timing the calcuation with timit'\n",
      "%timeit -n 10 sum_unvectorised(a)"
     ],
     "language": "python",
     "metadata": {},
     "outputs": [
      {
       "output_type": "stream",
       "stream": "stdout",
       "text": [
        "Timing the calcuation with timit\n",
        "10 loops, best of 3: 4.79 s per loop"
       ]
      },
      {
       "output_type": "stream",
       "stream": "stdout",
       "text": [
        "\n"
       ]
      }
     ],
     "prompt_number": 7
    },
    {
     "cell_type": "markdown",
     "metadata": {},
     "source": [
      "Now let's try the vectorised version. We'll use the  <em>numpy.sum()</em> function. We discuss NumPy in more detail below."
     ]
    },
    {
     "cell_type": "code",
     "collapsed": false,
     "input": [
      "import numpy as np\n",
      "\n",
      "def sum_vectorised(to_be_summed):\n",
      "    return np.sum(to_be_summed,dtype=float)             # we use the dtype=float to avoid overflow.\n",
      "\n",
      "a_numpy_format = np.array(a)                            # we convert the original array to an numpy format. More below\n",
      "print 'Summation result is:',sum_vectorised(a_numpy_format)"
     ],
     "language": "python",
     "metadata": {},
     "outputs": [
      {
       "output_type": "stream",
       "stream": "stdout",
       "text": [
        "Summation result is: "
       ]
      },
      {
       "output_type": "stream",
       "stream": "stdout",
       "text": [
        "4.9999995e+13\n"
       ]
      }
     ],
     "prompt_number": 8
    },
    {
     "cell_type": "code",
     "collapsed": false,
     "input": [
      "print 'Timing the calcuation with timit'\n",
      "%timeit -n 10 sum_vectorised(a_numpy_format)"
     ],
     "language": "python",
     "metadata": {},
     "outputs": [
      {
       "output_type": "stream",
       "stream": "stdout",
       "text": [
        "Timing the calcuation with timit\n",
        "10 loops, best of 3: 69 ms per loop"
       ]
      },
      {
       "output_type": "stream",
       "stream": "stdout",
       "text": [
        "\n"
       ]
      }
     ],
     "prompt_number": 9
    },
    {
     "cell_type": "markdown",
     "metadata": {},
     "source": [
      "<b>Conclusion:</b> Apart from the fact that our code is now much cleaner (1 line!!) and much less error-prone, we also have a gain in speed. In my machine, <em>sum_unvectorised</em> has a best of 88.9ms while <em>sum_vectorised</em>, 1.94ms. That's an increase of approx. $98\\%$."
     ]
    },
    {
     "cell_type": "heading",
     "level": 4,
     "metadata": {},
     "source": [
      "Exercise 1:"
     ]
    },
    {
     "cell_type": "markdown",
     "metadata": {},
     "source": [
      "Try the above with higher values of $n$ and see if the differences persist or not. Try $n=5\\times10^6$ and $10^7$."
     ]
    },
    {
     "cell_type": "heading",
     "level": 3,
     "metadata": {},
     "source": [
      "Example 2"
     ]
    },
    {
     "cell_type": "markdown",
     "metadata": {},
     "source": [
      "In this example, let's try the same idea, but now we want to calculate the <b>average</b> of values in a list: $average = \\frac{1}{n+1} \\times \\sum_{i=0}^{n}a_i$. To make this slightly more interesting let's generate random numbers for list a, using a list comprehension:"
     ]
    },
    {
     "cell_type": "code",
     "collapsed": false,
     "input": [
      "import random\n",
      "\n",
      "a = [random.randint(0,10) for r in xrange(1000000)]\n",
      "print a[:10]\n",
      "\n",
      "def average_unvectorised(a):\n",
      "    average = 0.0\n",
      "    for i in a:\n",
      "        average += i\n",
      "    \n",
      "    average = average / len(a)\n",
      "    \n",
      "    return average\n",
      "\n",
      "print 'Average of list \\'a\\' is: %.3f' % average_unvectorised(a)\n",
      "%timeit -n 10 average_unvectorised(a)"
     ],
     "language": "python",
     "metadata": {},
     "outputs": [
      {
       "output_type": "stream",
       "stream": "stdout",
       "text": [
        "[1, 1, 8, 1, 4, 2, 7, 1, 8, 2]\n",
        "Average of list 'a' is: 4.998"
       ]
      },
      {
       "output_type": "stream",
       "stream": "stdout",
       "text": [
        "\n",
        "10 loops, best of 3: 269 ms per loop"
       ]
      },
      {
       "output_type": "stream",
       "stream": "stdout",
       "text": [
        "\n"
       ]
      }
     ],
     "prompt_number": 10
    },
    {
     "cell_type": "code",
     "collapsed": false,
     "input": [
      "import numpy as np\n",
      "\n",
      "def average_vectorised(a):\n",
      "   return np.average(a)\n",
      "\n",
      "\n",
      "# We are using the numpy package to do this. More about it below!\n",
      "a_new = np.array(a)\n",
      "print 'Average of list \\'a\\' is: %.3f' % average_vectorised(a_new)\n",
      "%timeit -n 10 average_vectorised(a_new)"
     ],
     "language": "python",
     "metadata": {},
     "outputs": [
      {
       "output_type": "stream",
       "stream": "stdout",
       "text": [
        "Average of list 'a' is: 4.998\n",
        "10 loops, best of 3: 6.42 ms per loop"
       ]
      },
      {
       "output_type": "stream",
       "stream": "stdout",
       "text": [
        "\n"
       ]
      }
     ],
     "prompt_number": 11
    },
    {
     "cell_type": "markdown",
     "metadata": {},
     "source": [
      "In my machine, the first version has a best of 62.9ms while the latter a best of 1.97ms, a $97\\%$ increase in efficiency!!"
     ]
    },
    {
     "cell_type": "heading",
     "level": 2,
     "metadata": {},
     "source": [
      "1.1 Brief discussion of computer architecture"
     ]
    },
    {
     "cell_type": "markdown",
     "metadata": {},
     "source": [
      "So, why are even these very simple vectorised operations so much faster? To understand this, we need to remind ourselves of the standard computer architecture."
     ]
    },
    {
     "cell_type": "markdown",
     "metadata": {},
     "source": [
      "Generally, computer architecture can be broken down into three basic units:\n",
      "<ul>\n",
      "<li> computing units (e.g., CPU, GPU)\n",
      "<li> memory units (e.g., hard drives, RAM)\n",
      "<ul> <li> and also L1, L2, L3, L4 caches on the CPUs </ul>\n",
      "<li> connections between them\n",
      "</ul>\n",
      "\n",
      "We measure how good computing units are by <em> the number of operations </em> they can perform in a second and we measure how good memory units are by <em> their capacity and how fast they can read and write data</em>. Lastly, we measure connections on how fast they can move data from one place to the other."
     ]
    },
    {
     "cell_type": "heading",
     "level": 4,
     "metadata": {},
     "source": [
      "Computing Units"
     ]
    },
    {
     "cell_type": "markdown",
     "metadata": {},
     "source": [
      "\n",
      "The main properties of interest in a computing unit are the number of operations it can\n",
      "do in one cycle and how many cycles it can do in one second. The first value is measured\n",
      "by its <b>Instructions Per Cycle (IPC)</b>, while the latter value is measured by its <b>clock speed</b>.\n",
      "\n",
      "Increasing clock speed almost immediately speeds up all programs\n",
      "running on that computational unit (because they are able to do more calculations per\n",
      "second), having higher IPC\u2019s can also drastically effect computing by changing the level\n",
      "of vectorization that is possible. <b>Vectorization</b> is when a CPU is provided with multiple\n",
      "pieces of data at a time and is able to operate on all of them at once.\n",
      "\n",
      "As an example, imagine you want to survey 100 people. If you survey them one at a time, and assuming they take 1 minute each, you'll be finished in 100 minutes. Even if they take only 0.5 minutes each, you will still take 50 minutes. \n",
      "\n",
      "Now imagine that it's 10 of you conducting the survey of 100 people: even if people  take 1 minute each, you'll be done in 10 minutes! That's the difference between high IPC (more surveyers) and high clock speeds (people take less time to complete the survey)."
     ]
    },
    {
     "cell_type": "heading",
     "level": 4,
     "metadata": {},
     "source": [
      "Memory Units"
     ]
    },
    {
     "cell_type": "markdown",
     "metadata": {},
     "source": [
      "<img src=\"https://dl.dropboxusercontent.com/u/63073/memory.png\">\n",
      "Credit: Gorelick, M., & Ozsvald, I. (2014). High Performance Python."
     ]
    },
    {
     "cell_type": "heading",
     "level": 4,
     "metadata": {},
     "source": [
      "Communication Units"
     ]
    },
    {
     "cell_type": "markdown",
     "metadata": {},
     "source": [
      "<img src=\"http://upload.wikimedia.org/wikipedia/commons/thumb/c/c3/Speeds_of_common_interfaces.svg/1200px-Speeds_of_common_interfaces.svg.png\">\n",
      "\n",
      "Credit and full analysis: http://en.wikipedia.org/wiki/List_of_device_bit_rates"
     ]
    },
    {
     "cell_type": "heading",
     "level": 2,
     "metadata": {},
     "source": [
      "1.2 Bringing it all together for high-performance computing"
     ]
    },
    {
     "cell_type": "markdown",
     "metadata": {},
     "source": [
      "In the examples we saw above, in both cases we have the lists $a$ and $b$ stored in RAM. From there, the for loop in the unvectorised versions sends the elements of the list one-by-one to the CPU, which then does its calculation.\n",
      "\n",
      "<em>Ideally</em>,  we would like to send <b> multiple pieces of data</b> to the CPU at once, because that would minimize the communication overhead between RAM and CPU and would also explot the CPU's IPC much better. That is because, the CPU always vectorizes operations at no cost. That is excactly what <b> vectorization </b> achieves: it sends multiple pieces of data to the CPU so that its operations on them are done in parallel!\n",
      "\n",
      "In effect we'd like to do the following:"
     ]
    },
    {
     "cell_type": "code",
     "collapsed": false,
     "input": [
      "def sum_unvectorised(a):\n",
      "    result = 0\n",
      "    for i in a:\n",
      "        result += i + (i+1) + (i+2) + ... (i+10) # not valid python code!! WILL produce errors. Only for demonstration purposes.\n",
      "        \n",
      "    return result"
     ],
     "language": "python",
     "metadata": {},
     "outputs": [
      {
       "ename": "SyntaxError",
       "evalue": "invalid syntax (<ipython-input-8-5febe4705564>, line 4)",
       "output_type": "pyerr",
       "traceback": [
        "\u001b[1;36m  File \u001b[1;32m\"<ipython-input-8-5febe4705564>\"\u001b[1;36m, line \u001b[1;32m4\u001b[0m\n\u001b[1;33m    result += i + (i+1) + (i+2) + ... (i+10) # not valid python code!! WILL produce errors. Only for demonstration purposes.\u001b[0m\n\u001b[1;37m                                  ^\u001b[0m\n\u001b[1;31mSyntaxError\u001b[0m\u001b[1;31m:\u001b[0m invalid syntax\n"
       ]
      }
     ],
     "prompt_number": 8
    },
    {
     "cell_type": "markdown",
     "metadata": {},
     "source": [
      "The good thing when we vectorise our code is that we don't actually have to explicitely define how data is being transfered between RAM and CPU, because that is taken care by the language itself. Helping us in this, is a Python package, called <b>NumPy</b>, which stands for Numerical Python."
     ]
    },
    {
     "cell_type": "heading",
     "level": 1,
     "metadata": {},
     "source": [
      "2. Introduction to Python NumPy"
     ]
    },
    {
     "cell_type": "markdown",
     "metadata": {},
     "source": [
      "NumPy is a standard python package for scientific computing, data analysis and high-performance computing. It comes with a list of useful things, such as:\n",
      "<ul>\n",
      "<li> <b> ndarray</b>, a fast and space-efficient multi-dimensional array that provides vectorised arithmetic operations\n",
      "<li> standard mathematical functions for fast operations on entire arrays of data (see example 2 above)\n",
      "<ul><li><b>Hint for assignment 3</b>: some of the functions NumPy includes is calculating average and standard deviations over entire arrays of data </ul>\n",
      "<li> fast linear algebra functions and operations.\n",
      "</ul>\n",
      "\n",
      "The full API for NumPy can be found <a href=\"http://docs.scipy.org/doc/numpy/reference/\">here</a>.\n",
      "\n",
      "\n",
      "Let's start by exploring the <b>ndarray</b> class. Full documentation <a href=\"http://docs.scipy.org/doc/numpy/reference/arrays.ndarray.html\"> here</a>."
     ]
    },
    {
     "cell_type": "code",
     "collapsed": false,
     "input": [
      "import numpy as np                               # standard import of package\n",
      "\n",
      "print '1D arrays'\n",
      "print '*********'\n",
      "\n",
      "vector = [index for index in xrange(10,5,-1)]   #create a standard list\n",
      "print 'vector:', vector\n",
      "print type(vector)\n",
      "\n",
      "np_vector = np.array(vector)     #convert the list to an ndarray. Note that the function the does the conversion is np.array()\n",
      "print 'np_vector:', np_vector\n",
      "print type(np_vector)"
     ],
     "language": "python",
     "metadata": {},
     "outputs": [
      {
       "output_type": "stream",
       "stream": "stdout",
       "text": [
        "1D arrays\n",
        "*********\n",
        "vector: [10, 9, 8, 7, 6]\n",
        "<type 'list'>\n",
        "np_vector: [10  9  8  7  6]\n",
        "<type 'numpy.ndarray'>\n"
       ]
      }
     ],
     "prompt_number": 17
    },
    {
     "cell_type": "code",
     "collapsed": false,
     "input": [
      "print '\\n2D arrays'\n",
      "print '*********'\n",
      "\n",
      "matrix = [[1,2,3,4],[5,6,7,8]]                   # define a standard 2D matrix\n",
      "print 'matrix:', matrix\n",
      "\n",
      "np_matrix = np.array(matrix)                     #convert matrix to ndarray\n",
      "print 'np_matrix:\\n', np_matrix\n",
      "print type(np_matrix)"
     ],
     "language": "python",
     "metadata": {},
     "outputs": [
      {
       "output_type": "stream",
       "stream": "stdout",
       "text": [
        "\n",
        "2D arrays\n",
        "*********\n",
        "matrix: [[1, 2, 3, 4], [5, 6, 7, 8]]\n",
        "np_matrix:\n",
        "[[1 2 3 4]\n",
        " [5 6 7 8]]\n",
        "<type 'numpy.ndarray'>\n"
       ]
      }
     ],
     "prompt_number": 13
    },
    {
     "cell_type": "markdown",
     "metadata": {},
     "source": [
      "Now that we have defined our ndarrays we can perform typical algebraic operations on them very easily and fast! For example:"
     ]
    },
    {
     "cell_type": "code",
     "collapsed": false,
     "input": [
      "length = 10\n",
      "\n",
      "# Define the vectors\n",
      "arr1 = [random.randint(0,10) for r in xrange(length)]\n",
      "mat1 = np.array(arr1)\n",
      "print mat1[0:10]\n",
      "\n",
      "arr2 = [random.randint(0,10) for r in xrange(length)]\n",
      "mat2 = np.array(arr2)\n",
      "print mat2[0:10]\n",
      "\n",
      "# Vector addition\n",
      "sum1 = mat1 + mat2\n",
      "print 'The sum of the two vectors is:', sum1\n",
      "\n",
      "# Vector subtraction\n",
      "sub1 = mat1 - mat2\n",
      "print 'The subtraction of the two vectors gives:', sub1\n"
     ],
     "language": "python",
     "metadata": {},
     "outputs": [
      {
       "output_type": "stream",
       "stream": "stdout",
       "text": [
        "[7 9 0 6 5 6 8 2 4 6]\n",
        "[ 0  2  2  4 10  6  0  8  7  7]\n",
        "The sum of the two vectors is: [ 7 11  2 10 15 12  8 10 11 13]\n",
        "The subtraction of the two vectors gives: [ 7  7 -2  2 -5  0  8 -6 -3 -1]\n"
       ]
      }
     ],
     "prompt_number": 15
    },
    {
     "cell_type": "markdown",
     "metadata": {},
     "source": [
      "In contrast if we did the same thing with the standard python lists we'd get:"
     ]
    },
    {
     "cell_type": "code",
     "collapsed": false,
     "input": [
      "sum2 = arr1 + arr2\n",
      "print 'Adding two standard arrays gives:',sum2                #concetenates the arrays"
     ],
     "language": "python",
     "metadata": {},
     "outputs": [
      {
       "output_type": "stream",
       "stream": "stdout",
       "text": [
        "Adding two standard arrays gives: [7, 9, 0, 6, 5, 6, 8, 2, 4, 6, 0, 2, 2, 4, 10, 6, 0, 8, 7, 7]\n"
       ]
      }
     ],
     "prompt_number": 16
    },
    {
     "cell_type": "markdown",
     "metadata": {},
     "source": [
      "So, as you can see we can perform standard algebraic calculations super-easily.... but are the faster than doing it manually??"
     ]
    },
    {
     "cell_type": "code",
     "collapsed": false,
     "input": [
      "long_length = 1000000\n",
      "long_arr1 = [random.randint(0,10) for r in xrange(long_length)]\n",
      "long_mat1 = np.array(long_arr1)\n",
      "print long_mat1[0:10]\n",
      "\n",
      "long_arr2 = [random.randint(0,10) for r in xrange(long_length)]\n",
      "long_mat2 = np.array(long_arr2)\n",
      "print long_mat2[0:10]\n",
      "\n",
      "def np_addition(m1, m2):                        #addition using np functionality\n",
      "    return m1 + m2\n",
      "\n",
      "def standard_addition(ar1, ar2):\n",
      "    result = [0]*len(ar1)                       # we initialize the result array to the right size so that\n",
      "                                                # we don't have to append elements to it in the for loop (much slower)\n",
      "    for index in xrange(len(ar1)):\n",
      "        result[index] = ar1[index] + ar2[index]\n",
      "        \n",
      "    return result\n",
      "\n",
      "%time np_result = np_addition(long_mat1, long_mat2)\n",
      "%time standard_result = standard_addition(long_arr1, long_arr2)\n",
      "\n",
      "# this just checks that both functions return the same result\n",
      "def verify_results(ndarray,standard_array):\n",
      "    converted_array = np.array(standard_array)        #converts the standard array into an ndarray so that we can compare them easier.\n",
      "    \n",
      "    if (ndarray==converted_array).all():              #checks if the two arrays are the same. Don't worry about the strange syntax.\n",
      "        print 'Results agree'\n",
      "    else:\n",
      "        print 'Results DO NOT agree'\n",
      "        \n",
      "verify_results(np_result,standard_result)    "
     ],
     "language": "python",
     "metadata": {},
     "outputs": [
      {
       "output_type": "stream",
       "stream": "stdout",
       "text": [
        "[0 8 0 8 5 3 3 2 2 3]\n",
        "[10  8  9  8  5  5  9  2  8 10]"
       ]
      },
      {
       "output_type": "stream",
       "stream": "stdout",
       "text": [
        "\n",
        "Wall time: 28 ms\n",
        "Wall time: 641 ms"
       ]
      },
      {
       "output_type": "stream",
       "stream": "stdout",
       "text": [
        "\n",
        "Results agree"
       ]
      },
      {
       "output_type": "stream",
       "stream": "stdout",
       "text": [
        "\n"
       ]
      }
     ],
     "prompt_number": 21
    },
    {
     "cell_type": "markdown",
     "metadata": {},
     "source": [
      "In my office machine, the np_addition takes 3ms while the standard_addition takes 136s for 1M elements.... almost 40 times faster! So, yes it is both faster and easier!"
     ]
    },
    {
     "cell_type": "heading",
     "level": 3,
     "metadata": {},
     "source": [
      "Workshop"
     ]
    },
    {
     "cell_type": "heading",
     "level": 4,
     "metadata": {},
     "source": [
      "Task 1"
     ]
    },
    {
     "cell_type": "markdown",
     "metadata": {},
     "source": [
      "Repeat the experiment above for a 2D matrix.\n",
      "You can create 2D matrices from 1D lists by reshaping them, using the <a href=\"http://docs.scipy.org/doc/numpy/reference/generated/numpy.reshape.html\">np.reshape()</a> function in the way below. We'll discuss the solutions afterwards in class. Use ndarrays in both cases (standard python lists can't be reshaped). The code far below explains the steps you should take."
     ]
    },
    {
     "cell_type": "code",
     "collapsed": false,
     "input": [
      "# initially create a 1D array\n",
      "one_d_np_array = np.array([random.randint(0,10) for r in xrange(long_length)]) # we can put the list comprehension inside the np.array()\n",
      "\n",
      "# Define the dimensions of the martrix we want to create: it will be dim1 x dim2\n",
      "# Careful here! \n",
      "# rows*columns must equal the length of the original array, that is 'long_length', for the reshaping to work\n",
      "rows = 100000\n",
      "columns = 10\n",
      "print one_d_np_array[:3]\n",
      "two_d_matrix = np.reshape(one_d_np_array, (rows, columns))\n",
      "print 'Number of dimensions:', two_d_matrix.ndim\n",
      "print 'Extract of the matrix'\n",
      "print two_d_matrix[:3][:]           # print the first 3 rows of the matrix"
     ],
     "language": "python",
     "metadata": {},
     "outputs": [
      {
       "output_type": "stream",
       "stream": "stdout",
       "text": [
        "[3 6 7]\n",
        "Number of dimensions: 2\n",
        "Extract of the matrix\n",
        "[[ 3  6  7 10  3  9  7  7  6  1]\n",
        " [ 0  8  6  5  2  9  4  2  7  8]\n",
        " [ 3 10  9  1  9  4  8  1  6  6]]\n"
       ]
      }
     ],
     "prompt_number": 20
    },
    {
     "cell_type": "code",
     "collapsed": false,
     "input": [
      "#Steps:\n",
      "#1) Create two 1D ndarrays, preferably large ones (>10000 elements)\n",
      "#2) Reshape them to 2D matrices\n",
      "#3) Complete the code in the functions below\n",
      "#4) Run both functions and time them\n",
      "#5) Compare the times\n",
      "#6) Make sure they both return the same result\n",
      "\n",
      "def add_matrices_using_np(mat1, mat2):\n",
      "    # return the sum of mat1 + mat2 using np functionality\n",
      "    return mat1 + mat2;\n",
      "\n",
      "def add_matrices_without_np(mat1, mat2):\n",
      "    \n",
      "    # return the sum of mat1 + mat2 without np functionality, going over the elements one-by-one\n",
      "    # if 'result' is the resulting matrix then result[i][j] = mat1[i][j]+mat2[i][j] (refer to Linear Algebra revision videos)\n",
      "    pass #you should replace this with return ...\n",
      "\n",
      "print add_matrices_using_np(mat1,mat2)[]"
     ],
     "language": "python",
     "metadata": {},
     "outputs": []
    },
    {
     "cell_type": "heading",
     "level": 4,
     "metadata": {},
     "source": [
      "Task 2 (easier)"
     ]
    },
    {
     "cell_type": "markdown",
     "metadata": {},
     "source": [
      "Repeat the above experiment for the multiplication of a scalar with a matrix. For example $5*A$ where A is a 2D matrix."
     ]
    },
    {
     "cell_type": "heading",
     "level": 4,
     "metadata": {},
     "source": [
      "Task 3 (more challenging)"
     ]
    },
    {
     "cell_type": "markdown",
     "metadata": {},
     "source": [
      "Repeat the previous experiment for the multiplication of two 2D matrices. Pay attention from the Linear Algebra videos how matrix multiplication is done. \n",
      "\n",
      "Concretely, if $A,B,C$ are all matrices of dimensions $m \\times m$ and $C=A*B$ then element $C_{i,j}$ (programmtically, $C[i][j]$) is calculated as: \n",
      "\n",
      "$C_{i,j} = \\sum_{k=0}^m  A_{i,k} \\times B_{k,j}$"
     ]
    },
    {
     "cell_type": "code",
     "collapsed": false,
     "input": [],
     "language": "python",
     "metadata": {},
     "outputs": []
    }
   ],
   "metadata": {}
  }
 ]
}