{
 "metadata": {
  "name": "",
  "signature": "sha256:cebfc773200d8e5339b8198a05ba82cc30a31ae36d9e1d4618da0df3658bdd4f"
 },
 "nbformat": 3,
 "nbformat_minor": 0,
 "worksheets": [
  {
   "cells": [
    {
     "cell_type": "heading",
     "level": 1,
     "metadata": {},
     "source": [
      "Lecture 3 Dictionaries"
     ]
    },
    {
     "cell_type": "markdown",
     "metadata": {},
     "source": [
      "What a dictionary does is let the programmer use <font color=\"blue\">anything</font>, <I>not just numbers</I>, to index items of data. Dictionaries are sets of <font color=\"red\">key-value</font> pairs. "
     ]
    },
    {
     "cell_type": "markdown",
     "metadata": {},
     "source": [
      "A dictionary associates one thing to another, no matter what it is, <I>ish</I>. The keys can be any non-mutable object type strings, integers, tuples, etc. The values can be of any object type including other dictionaries.<br><br>Generally you create a dictionary and access items by key."
     ]
    },
    {
     "cell_type": "code",
     "collapsed": false,
     "input": [
      "englishToSpanish = {} # An empty dictionary"
     ],
     "language": "python",
     "metadata": {},
     "outputs": [],
     "prompt_number": 1
    },
    {
     "cell_type": "markdown",
     "metadata": {},
     "source": [
      "In Python we use braces <I>(curly brackets)</I> to delimit a dictionary.  Above is an empty dictionary<br><br>\n",
      "A more interesting example populated with data is shown below."
     ]
    },
    {
     "cell_type": "code",
     "collapsed": false,
     "input": [
      "englishToSpanish = {'hello':'hola','goodbye':'adios'}"
     ],
     "language": "python",
     "metadata": {},
     "outputs": [],
     "prompt_number": 2
    },
    {
     "cell_type": "markdown",
     "metadata": {},
     "source": [
      "<b>Note:</b> each key-value pair is separated by a <font color=\"red\">comma</font> and a <font color=\"red\">colon</font> is used to separate the key and its value. "
     ]
    },
    {
     "cell_type": "code",
     "collapsed": false,
     "input": [
      "englishToSpanish['hello']"
     ],
     "language": "python",
     "metadata": {},
     "outputs": [
      {
       "metadata": {},
       "output_type": "pyout",
       "prompt_number": 3,
       "text": [
        "'hola'"
       ]
      }
     ],
     "prompt_number": 3
    },
    {
     "cell_type": "heading",
     "level": 4,
     "metadata": {},
     "source": [
      "Modifying an existing dictionary"
     ]
    },
    {
     "cell_type": "markdown",
     "metadata": {},
     "source": [
      "You can add new key-value pairs with statements such as:"
     ]
    },
    {
     "cell_type": "code",
     "collapsed": false,
     "input": [
      "englishToSpanish ['horse']='caballo'"
     ],
     "language": "python",
     "metadata": {},
     "outputs": [],
     "prompt_number": 4
    },
    {
     "cell_type": "heading",
     "level": 4,
     "metadata": {},
     "source": [
      "Retrieving Values"
     ]
    },
    {
     "cell_type": "markdown",
     "metadata": {},
     "source": [
      "Once you have a dictionary, you can retrieve items by supplying the key you are looking for. E.g. to find the Spanish word for 'horse':"
     ]
    },
    {
     "cell_type": "code",
     "collapsed": false,
     "input": [
      "print englishToSpanish['horse']"
     ],
     "language": "python",
     "metadata": {},
     "outputs": [
      {
       "output_type": "stream",
       "stream": "stdout",
       "text": [
        "caballo\n"
       ]
      }
     ],
     "prompt_number": 5
    },
    {
     "cell_type": "markdown",
     "metadata": {},
     "source": [
      "You will see that instead of just numbers we're using strings to say what we want from the stuff dictionary. We can also put new things into the dictionary with strings. It doesn't have to be strings though. We can also do this:"
     ]
    },
    {
     "cell_type": "code",
     "collapsed": false,
     "input": [
      "print englishToSpanish.get(\"lumberjack\", \"nada\")"
     ],
     "language": "python",
     "metadata": {},
     "outputs": [
      {
       "output_type": "stream",
       "stream": "stdout",
       "text": [
        "nada\n"
       ]
      }
     ],
     "prompt_number": 6
    },
    {
     "cell_type": "code",
     "collapsed": false,
     "input": [
      "englishToSpanish[1] = \"siento\"\n",
      "englishToSpanish[2] = \"feliz\"\n",
      "print englishToSpanish[1]"
     ],
     "language": "python",
     "metadata": {},
     "outputs": [
      {
       "output_type": "stream",
       "stream": "stdout",
       "text": [
        "siento\n"
       ]
      }
     ],
     "prompt_number": 32
    },
    {
     "cell_type": "code",
     "collapsed": false,
     "input": [
      "print englishToSpanish[2]"
     ],
     "language": "python",
     "metadata": {},
     "outputs": [
      {
       "output_type": "stream",
       "stream": "stdout",
       "text": [
        "feliz\n"
       ]
      }
     ],
     "prompt_number": 8
    },
    {
     "cell_type": "markdown",
     "metadata": {},
     "source": [
      "<b>Looping through all keys or values:</b><br> \n",
      "Dictionaries provide the methods <font color=\"blue\">keys</font> and <font color=\"blue\">values</font> which return lists.\n"
     ]
    },
    {
     "cell_type": "code",
     "collapsed": false,
     "input": [
      "print englishToSpanish.keys()"
     ],
     "language": "python",
     "metadata": {},
     "outputs": [
      {
       "output_type": "stream",
       "stream": "stdout",
       "text": [
        "[1, 'horse', 2, 'hello', 'goodbye']\n"
       ]
      }
     ],
     "prompt_number": 11
    },
    {
     "cell_type": "code",
     "collapsed": false,
     "input": [
      "print englishToSpanish.values()"
     ],
     "language": "python",
     "metadata": {},
     "outputs": [
      {
       "output_type": "stream",
       "stream": "stdout",
       "text": [
        "['siento', 'caballo', 'feliz', 'hola', 'adios']\n"
       ]
      }
     ],
     "prompt_number": 10
    },
    {
     "cell_type": "markdown",
     "metadata": {},
     "source": [
      "The following prints out all key-value pairs:"
     ]
    },
    {
     "cell_type": "code",
     "collapsed": false,
     "input": [
      "for key in englishToSpanish.keys():\n",
      "    print str(key)+\" : \"+englishToSpanish[key]"
     ],
     "language": "python",
     "metadata": {},
     "outputs": [
      {
       "output_type": "stream",
       "stream": "stdout",
       "text": [
        "1 : siento\n",
        "horse : caballo\n",
        "2 : feliz\n",
        "hello : hola\n",
        "goodbye : adios\n"
       ]
      }
     ],
     "prompt_number": 17
    },
    {
     "cell_type": "markdown",
     "metadata": {},
     "source": [
      "Although there is a more memory <b>efficient</b> method that makes use of a generator and Python\u2019s ability to return more than one value in a function.  "
     ]
    },
    {
     "cell_type": "code",
     "collapsed": false,
     "input": [
      "for key, value in englishToSpanish.iteritems():\n",
      "    print key,\" : \",value"
     ],
     "language": "python",
     "metadata": {},
     "outputs": [
      {
       "output_type": "stream",
       "stream": "stdout",
       "text": [
        "1  :  siento\n",
        "horse  :  caballo\n",
        "2  :  feliz\n",
        "hello  :  hola\n",
        "goodbye  :  adios\n"
       ]
      }
     ],
     "prompt_number": 20
    },
    {
     "cell_type": "markdown",
     "metadata": {},
     "source": [
      "You can find the number of entries (key-value pairs) in a dictionary using the len function"
     ]
    },
    {
     "cell_type": "code",
     "collapsed": false,
     "input": [
      "len(englishToSpanish)"
     ],
     "language": "python",
     "metadata": {},
     "outputs": [
      {
       "metadata": {},
       "output_type": "pyout",
       "prompt_number": 21,
       "text": [
        "5"
       ]
      }
     ],
     "prompt_number": 21
    },
    {
     "cell_type": "markdown",
     "metadata": {},
     "source": [
      "To test for a keys membership in a dictionary"
     ]
    },
    {
     "cell_type": "code",
     "collapsed": false,
     "input": [
      "englishToSpanish.has_key('lumberjack')"
     ],
     "language": "python",
     "metadata": {},
     "outputs": [
      {
       "metadata": {},
       "output_type": "pyout",
       "prompt_number": 22,
       "text": [
        "False"
       ]
      }
     ],
     "prompt_number": 22
    },
    {
     "cell_type": "markdown",
     "metadata": {},
     "source": [
      "You can also use the in operator to test for membership. Both return True or False value"
     ]
    },
    {
     "cell_type": "code",
     "collapsed": false,
     "input": [
      "'horse' in englishToSpanish"
     ],
     "language": "python",
     "metadata": {},
     "outputs": [
      {
       "metadata": {},
       "output_type": "pyout",
       "prompt_number": 28,
       "text": [
        "True"
       ]
      }
     ],
     "prompt_number": 28
    },
    {
     "cell_type": "markdown",
     "metadata": {},
     "source": [
      "Dictionaries are mutable collections so you can change the value of items of data as desired.<br><br><I>Say you lost your shirt on 2:30 at Haydock Park,</I> you might put"
     ]
    },
    {
     "cell_type": "code",
     "collapsed": false,
     "input": [
      "englishToSpanish ['horse']='burro'"
     ],
     "language": "python",
     "metadata": {},
     "outputs": [],
     "prompt_number": 29
    },
    {
     "cell_type": "heading",
     "level": 4,
     "metadata": {},
     "source": [
      "Removing an entry"
     ]
    },
    {
     "cell_type": "markdown",
     "metadata": {},
     "source": [
      "Items can be removed from a dictionary using the <font color=\"green\">del</font> keyword"
     ]
    },
    {
     "cell_type": "code",
     "collapsed": false,
     "input": [
      "del englishToSpanish[1]\n",
      "del englishToSpanish[2]\n",
      "print englishToSpanish"
     ],
     "language": "python",
     "metadata": {},
     "outputs": [
      {
       "output_type": "stream",
       "stream": "stdout",
       "text": [
        "{'horse': 'burro', 'hello': 'hola', 'goodbye': 'adios'}\n"
       ]
      }
     ],
     "prompt_number": 33
    },
    {
     "cell_type": "heading",
     "level": 4,
     "metadata": {},
     "source": [
      "Exercise 1."
     ]
    },
    {
     "cell_type": "code",
     "collapsed": false,
     "input": [
      "aboutBill = {'name': 'Bill', 'age': 39, 'height': 6 * 12 + 2}\n"
     ],
     "language": "python",
     "metadata": {},
     "outputs": [],
     "prompt_number": 35
    },
    {
     "cell_type": "markdown",
     "metadata": {},
     "source": [
      "Write the code to find bill's age "
     ]
    },
    {
     "cell_type": "code",
     "collapsed": false,
     "input": [
      "print aboutBill['age']"
     ],
     "language": "python",
     "metadata": {},
     "outputs": [
      {
       "output_type": "stream",
       "stream": "stdout",
       "text": [
        "39\n"
       ]
      }
     ],
     "prompt_number": 36
    },
    {
     "cell_type": "markdown",
     "metadata": {},
     "source": [
      "Write the code to find bill's height"
     ]
    },
    {
     "cell_type": "code",
     "collapsed": false,
     "input": [
      "print aboutBill.get('height')"
     ],
     "language": "python",
     "metadata": {},
     "outputs": [
      {
       "output_type": "stream",
       "stream": "stdout",
       "text": [
        "74\n"
       ]
      }
     ],
     "prompt_number": 37
    },
    {
     "cell_type": "markdown",
     "metadata": {},
     "source": [
      "Write the code to add the fact that bill lives in the city of wolverhampton"
     ]
    },
    {
     "cell_type": "code",
     "collapsed": false,
     "input": [
      "aboutBill['city'] = 'Wolverhampton'\n",
      "print 'Bill lives in '+ aboutBill['city']\n",
      "aboutBill['music'] = 'Knife Party'\n",
      "print 'Bill also listens to '+ aboutBill.get('music')"
     ],
     "language": "python",
     "metadata": {},
     "outputs": [
      {
       "output_type": "stream",
       "stream": "stdout",
       "text": [
        "Bill lives in Wolverhampton\n",
        "Bill also listens to Knife Party\n"
       ]
      }
     ],
     "prompt_number": 42
    },
    {
     "cell_type": "markdown",
     "metadata": {},
     "source": [
      "Dictionaries are also known as hash tables, hash maps and associative arrays in other programming languages."
     ]
    },
    {
     "cell_type": "markdown",
     "metadata": {},
     "source": [
      "Here's a definition of hash table from Wikipedia:<br><br>In computer science, a hash table, or a hash map, is a data structure that associates keys with values. The primary operation it supports <b>efficiently is a lookup</b>: given a key (e.g. a person's name), find the corresponding value (e.g. that person's telephone number). It works by transforming the key using a hash function into a hash, a number that is used as an index in an array to locate the desired location (\"bucket\") where the values should be."
     ]
    },
    {
     "cell_type": "markdown",
     "metadata": {},
     "source": [
      "So hash tables use a trick: they convert the key into an integer, which can then be used to index into a list. This is significantly more efficient then looking at every item in a list to find something."
     ]
    },
    {
     "cell_type": "code",
     "collapsed": false,
     "input": [
      "    def hash(self,key):\n",
      "        # loop through the characters of the key\n",
      "        #     convert the character to a number  (use ord(c))\n",
      "        #     add this number to running total\n",
      "        # return (total modulo sizeOfHashTable)   modulo is '%' in Python.\n"
     ],
     "language": "python",
     "metadata": {},
     "outputs": []
    },
    {
     "cell_type": "heading",
     "level": 4,
     "metadata": {},
     "source": [
      "Exercise 2."
     ]
    },
    {
     "cell_type": "markdown",
     "metadata": {},
     "source": [
      "Implement the hash given above in Python "
     ]
    },
    {
     "cell_type": "code",
     "collapsed": false,
     "input": [
      "sizeOfHashTable = 20\n",
      "def myHash(key):\n",
      "    total = 0;\n",
      "    for char in key:\n",
      "        total += ord(char)\n",
      "        return total % sizeOfHashTable"
     ],
     "language": "python",
     "metadata": {},
     "outputs": [],
     "prompt_number": 57
    },
    {
     "cell_type": "code",
     "collapsed": false,
     "input": [
      "print myHash(\"abc\")"
     ],
     "language": "python",
     "metadata": {},
     "outputs": [
      {
       "output_type": "stream",
       "stream": "stdout",
       "text": [
        "17\n"
       ]
      }
     ],
     "prompt_number": 58
    },
    {
     "cell_type": "heading",
     "level": 2,
     "metadata": {},
     "source": [
      "Big-O to Categories"
     ]
    },
    {
     "cell_type": "markdown",
     "metadata": {},
     "source": [
      "Although Big-O is mathematical notation, it involves relatively little calculation and is rather used to characterize the running times of programs and algorithms. The following Big-O characterizations are particularly useful:"
     ]
    },
    {
     "cell_type": "markdown",
     "metadata": {},
     "source": [
      "<b>O(1)</b>: This is called \"constant time\". Any time a program takes a constant number of instructions, regardless of the input, it is constant time.  For example, determining the size of a list is O(1), regardless of the size of the list, because the Python object stores the size as part of the list.\n",
      "Appending an element to a list or dictionary is O(1). Pushing an element onto the front of a list is O(1). Accessing any element of a list or dictionary is also O(1)."
     ]
    },
    {
     "cell_type": "code",
     "collapsed": false,
     "input": [
      "def myXRange(n):\n",
      "    count = 0\n",
      "    while count < n:\n",
      "        yield count\n",
      "        count += 1"
     ],
     "language": "python",
     "metadata": {},
     "outputs": [],
     "prompt_number": 59
    },
    {
     "cell_type": "code",
     "collapsed": false,
     "input": [
      "%matplotlib inline\n",
      "\n",
      "import time\n",
      "import matplotlib.pyplot as plt\n",
      "intervals = [20,50,100,200,500,1000,2000,5000]\n",
      "rangeTimes = []\n",
      "start = 0\n",
      "for test in intervals:\n",
      "    start = time.clock()\n",
      "    for i in xrange(100):\n",
      "        myXRange(test)\n",
      "    rangeTimes.append((time.clock() - start)*1000)\n",
      "plt.plot(rangeTimes, intervals, 'r--') ##, xrangeTimes, 'r--')\n",
      "plt.show()"
     ],
     "language": "python",
     "metadata": {},
     "outputs": [
      {
       "metadata": {},
       "output_type": "display_data",
       "png": "[encoded data removed]",
       "text": [
        "<matplotlib.figure.Figure at 0xac6b860>"
       ]
      }
     ],
     "prompt_number": 73
    },
    {
     "cell_type": "markdown",
     "metadata": {},
     "source": [
      "<font color=\"blue\">Note:</font> this plot is likely to be a little \u201crandom\u201d.  This is because all the values are within the same narrow range and if it were it were plotted on the same scale as the other plots it would appear as a straight line.<br><br><b>O(n)</b>: This is called \"linear\". This is when the program takes time that is directly proportional to size of its input. For example, creating a list with n elements is O(n). ?Of course, creating the vector is faster, but they are both linear, and their performance is directly proportional to n.? This is why we have the constant c in the definition of Big-O -- so that both of these are O(n), even though the vector version is faster.\n",
      "Traversing a list or dictionary with an iterator is also O(n). This confuses students, because the other operations on sets or map involve logarithms. So, memorize it. Hopefully, when you learn about AVL trees, you'll get a better feeling for that.\n",
      "\n",
      "And finally, deleting an element or inserting an element in the front of a vector is also O(n). This is why you don't want to use a vector for this operation.\n"
     ]
    },
    {
     "cell_type": "code",
     "collapsed": false,
     "input": [
      "def myRange(n):\n",
      "    result = []\n",
      "    count = 0\n",
      "    while count < n:\n",
      "        result.append(count)\n",
      "        count += 1\n",
      "    return result"
     ],
     "language": "python",
     "metadata": {},
     "outputs": [],
     "prompt_number": 62
    },
    {
     "cell_type": "code",
     "collapsed": false,
     "input": [
      "%matplotlib inline\n",
      "\n",
      "import time\n",
      "import matplotlib.pyplot as plt\n",
      "intervals = [20,50,100,200,500,1000,2000,5000]\n",
      "rangeTimes = []\n",
      "start = 0\n",
      "for test in intervals:\n",
      "    start = time.clock()\n",
      "    for i in xrange(100):\n",
      "        myRange(test)\n",
      "    rangeTimes.append((time.clock() - start)*1000)\n",
      "plt.plot(rangeTimes, intervals,  'b--') ##, xrangeTimes, 'r--')\n",
      "plt.show()"
     ],
     "language": "python",
     "metadata": {},
     "outputs": [
      {
       "metadata": {},
       "output_type": "display_data",
       "png": "[encoded data removed]",
       "text": [
        "<matplotlib.figure.Figure at 0xaab97f0>"
       ]
      }
     ],
     "prompt_number": 79
    },
    {
     "cell_type": "markdown",
     "metadata": {},
     "source": [
      "<br><br><b>O(n^2)</b>: This is called \"quadratic time\" and as the graphs above show, it does not scale well. In particular, when n hits a value of 10,000, n2 gets pretty big (100,000,000). That doubly nested loop that I've gone over in class so many time is O(n^2):\n",
      "for i in xrange(n):\n",
      "  for j in xrange(i):\n",
      "    pass\n",
      "\n",
      "Why? Recall that this loop is the summation of numbers from 0 to n-1, which is (n-1)n/2, which equals n2/2 - n/2. You could prove that this is O(n) by choosing c = 1, and x0 equal to 1.\n"
     ]
    },
    {
     "cell_type": "code",
     "collapsed": false,
     "input": [
      "def myNSquared(n):\n",
      "    count = 0\n",
      "    f = 0\n",
      "    for i in xrange(n):\n",
      "        for k in xrange(n):\n",
      "            count += 1\n",
      "            f = f * f + 1\n",
      "            j = f / 1000\n",
      "            f = f - j*1000"
     ],
     "language": "python",
     "metadata": {},
     "outputs": [],
     "prompt_number": 2
    },
    {
     "cell_type": "code",
     "collapsed": false,
     "input": [
      "%matplotlib inline\n",
      "\n",
      "import time\n",
      "import matplotlib.pyplot as plt\n",
      "intervals = [20,50,100,200,500]\n",
      "rangeTimes = []\n",
      "start = 0\n",
      "for test in intervals:\n",
      "    start = time.clock()\n",
      "    for i in xrange(100):\n",
      "        myNSquared(test)\n",
      "    rangeTimes.append((time.clock() - start)*1000)\n",
      "plt.plot(rangeTimes, intervals, 'g--') ##, xrangeTimes, 'r--')\n",
      "plt.show()"
     ],
     "language": "python",
     "metadata": {},
     "outputs": [
      {
       "metadata": {},
       "output_type": "display_data",
       "png": "[encoded data removed]",
       "text": [
        "<matplotlib.figure.Figure at 0xab8b518>"
       ]
      }
     ],
     "prompt_number": 9
    },
    {
     "cell_type": "markdown",
     "metadata": {},
     "source": [
      "<br><br><b>O(log(n))</b>: This is called \"log time\". Now, you may ask \"what base?\" The answer is that the base doesn't matter. Why is that? Because:\n",
      "\n",
      "logb(c) = loga(c) / loga(b).\n",
      "\n",
      "Since loga(b) is a constant, for the purposes of Big-O, it doesn't matter. That may seem confusing, so make it concrete. If a = log10(n), then log2(n) = log2(10)*a. Since log2(10) is a constant (a little greater than three), for the purposes of Big-O, logarithms in base 10 and base 2 are equivalent.\n",
      "\n",
      "Insertion, deletion, and finding elements in sets and maps are O(log(n)) operations.\n"
     ]
    },
    {
     "cell_type": "code",
     "collapsed": false,
     "input": [
      "def myLogfn(n):\n",
      "    count = 0\n",
      "    f = 0\n",
      "    i = 1\n",
      "    while i <= n:\n",
      "        count += 1\n",
      "        f = f * f + 1\n",
      "        j = f / 1000\n",
      "        f = f - j*1000\n",
      "        i *= 2"
     ],
     "language": "python",
     "metadata": {},
     "outputs": [],
     "prompt_number": 5
    },
    {
     "cell_type": "code",
     "collapsed": false,
     "input": [
      "%matplotlib inline\n",
      "\n",
      "import time\n",
      "import matplotlib.pyplot as plt\n",
      "intervals = [20,50,100,200,500,1000,2000,5000]\n",
      "rangeTimes = []\n",
      "start = 0\n",
      "for test in intervals:\n",
      "    start = time.clock()\n",
      "    for i in xrange(100):\n",
      "        myLogfn(test)\n",
      "    rangeTimes.append((time.clock() - start)*1000)\n",
      "plt.plot(rangeTimes, intervals, 'g--') ##, xrangeTimes, 'r--')\n",
      "plt.show()"
     ],
     "language": "python",
     "metadata": {},
     "outputs": [
      {
       "metadata": {},
       "output_type": "display_data",
       "png": "[encoded data removed]",
       "text": [
        "<matplotlib.figure.Figure at 0xab74278>"
       ]
      }
     ],
     "prompt_number": 12
    },
    {
     "cell_type": "markdown",
     "metadata": {},
     "source": [
      "<br><br><b>O(n*log(n))</b>: This is called \"N log N\". Creating maps and sets are O(n*log(n)) operations. So is sorting a vector with n elements.<br><br>\n"
     ]
    },
    {
     "cell_type": "heading",
     "level": 4,
     "metadata": {},
     "source": [
      "Below are tables of the asymptotic times for various list and dictionary methods in Python "
     ]
    },
    {
     "cell_type": "code",
     "collapsed": false,
     "input": [
      "Lists:\n",
      "                               Complexity\n",
      "Operation     | Example      | Class         | Notes\n",
      "--------------+--------------+---------------+-------------------------------\n",
      "Index         | l[i]         | O(1)\t         |\n",
      "Store         | l[i] = 0     | O(1)\t         |\n",
      "Length        | len(l)       | O(1)\t         |\n",
      "Append        | l.append(5)  | O(1)\t         |\n",
      "Clear         | l.clear()    | O(1)          | similar to l = []\n",
      "\n",
      "Slice         | l[a:b]       | O(b-a)\t     | l[1:5]:O(l)/l[:]:O(len(l)-0)=O(N)\n",
      "Extend        | l.extend(...)| O(len(...))   | depends only on len of extension\n",
      "Construction  | list(...)    | len(...)      | depends on lenghth of argument\n",
      "\n",
      "check ==, !=  | l1 == l2     | O(N)          |\n",
      "Insert        | l[a:b] = ... | O(N)\t         |\n",
      "Delete        | del l[i]     | O(N)  \t     | \n",
      "Remove        | l.remove(...)| O(N)\t         | \n",
      "Containment   | x in/not in l| O(N) \t     | searches list\n",
      "Copy          | l.copy()     | O(N) \t     | Same as l[:] which is O(N)\n",
      "Pop\t          | l.pop(...)   | O(N) \t     |\n",
      "Extreme value | min(l)/max(l)| O(N) \t     |\n",
      "Reverse\t      | l.reverse()  | O(N) \t     |\n",
      "Iteration     | for v in l:  | O(N)          |\n",
      "\n",
      "Sort          | l.sort()     | O(N Log N)    | key/reverse doesn't change this\n",
      "Multiply      | k*l          | O(k N)        | 5*l is O(N): len(l)*l is O(N**2)"
     ],
     "language": "python",
     "metadata": {},
     "outputs": []
    },
    {
     "cell_type": "code",
     "collapsed": false,
     "input": [
      "Dictionaries: dict and defaultdict\n",
      "                               Complexity\n",
      "Operation     | Example      | Class         | Notes\n",
      "--------------+--------------+---------------+-------------------------------\n",
      "Index         | d[k]         | O(1)\t         |\n",
      "Store         | d[k] = v     | O(1)\t         |\n",
      "Length        | len(d)       | O(1)\t         |\n",
      "Delete        | del d[k]     | O(1)\t         |\n",
      "get/setdefault| d.method     | O(1)\t         |\n",
      "Pop           | d.pop(k)     | O(1)\t         |\n",
      "Pop item      | d.popitem()  | O(1)\t         |\n",
      "Clear         | d.clear()    | O(1)\t         | similar to s = {} or = dict()\n",
      "Views         | d.keys()     | O(1)\t         |\n",
      "\n",
      "Construction  | dict(...)    | len(...)      |\n",
      "\n",
      "Iteration     | for k in d:  | O(N)          | all forms: keys, values, items"
     ],
     "language": "python",
     "metadata": {},
     "outputs": []
    },
    {
     "cell_type": "heading",
     "level": 4,
     "metadata": {},
     "source": [
      "Exercise 3"
     ]
    },
    {
     "cell_type": "markdown",
     "metadata": {},
     "source": [
      "Write a Python program that uses Python's built-in dictionary structure.<br><br> Your program should:"
     ]
    },
    {
     "cell_type": "markdown",
     "metadata": {},
     "source": [
      "<b>1.</b>creates a dictionary mapping company names to phone numbers. Put three items in your hash table to begin.<br><br><b>2.</b>Allows the end-user to 1) add new mappings to the table by entering a name and a number, or 2) enter a name to see the corresponding phone number. Within a loop, prompt the end-user to choose operation 1 or 2, then prompt for the necessary inputs, then call the chosen operation."
     ]
    },
    {
     "cell_type": "code",
     "collapsed": false,
     "input": [],
     "language": "python",
     "metadata": {},
     "outputs": []
    }
   ],
   "metadata": {}
  }
 ]
}