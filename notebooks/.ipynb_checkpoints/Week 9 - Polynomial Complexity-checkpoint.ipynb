{
 "metadata": {
  "name": "",
  "signature": "sha256:f9c28a58c39fbf9e80bb37632768668b1dee333722d3833268ee652efde9da7f"
 },
 "nbformat": 3,
 "nbformat_minor": 0,
 "worksheets": [
  {
   "cells": [
    {
     "cell_type": "heading",
     "level": 1,
     "metadata": {},
     "source": [
      "Introduction"
     ]
    },
    {
     "cell_type": "markdown",
     "metadata": {},
     "source": [
      "This week we will look at **complexity classes** and in particular the **polynomial** class. Next week we will look at problems which fall into the **non-polynomial** class and we'll see some much more interesting examples!"
     ]
    },
    {
     "cell_type": "heading",
     "level": 2,
     "metadata": {},
     "source": [
      "Big-O revision"
     ]
    },
    {
     "cell_type": "markdown",
     "metadata": {},
     "source": [
      "Big-O complexity is used to describe the running time of an algorithm. Why do we use Big-O? Because it *abstracts* some details which are to do with the implementation and execution of an algorithm and allows us to concentrate on the characteristics of the algorithm itself. If we *only* time our code, then the results we get and any conclusions we draw from those results may be influenced by:\n",
      "  \n",
      "  * The particular way we wrote the code\n",
      "  * The particular compiler, interpreter etc. we used and how it optimises code\n",
      "  * The CPU speed of the machine we ran the code on\n",
      "  * The width of the busses between memory and the CPU\n",
      "  * The size of any caches the machine has\n",
      "\n",
      "and so on. Big-O notation allows us to ignore these things and concentrate on the algorithm itself."
     ]
    },
    {
     "cell_type": "heading",
     "level": 2,
     "metadata": {},
     "source": [
      "Workshop exercise - big-O quiz"
     ]
    },
    {
     "cell_type": "heading",
     "level": 3,
     "metadata": {},
     "source": [
      "Example code"
     ]
    },
    {
     "cell_type": "code",
     "collapsed": false,
     "input": [
      "import math\n",
      "\n",
      "def maximum(mylist):\n",
      "    mymax = mylist[0]\n",
      "    for num in mylist:\n",
      "        if num > mymax:\n",
      "            mymax = num\n",
      "    return mymax\n",
      "\n",
      "print \"maximum([1, 2, 3]):\", maximum([1, 2, 3])\n",
      "print \"maximum([2, 99, 3, 6, 1, 1000]):\", maximum([2, 99, 3, 6, 1, 1000])\n",
      "\n",
      "def mult(list1, list2):\n",
      "    if len(list1) != len(list2): return -1\n",
      "    dot = 1\n",
      "    for i in xrange(len(list1)):\n",
      "        for j in xrange(len(list2)):\n",
      "            dot += (list1[i] * list2[j])\n",
      "    return dot\n",
      "\n",
      "print \"mult([1, 2, 3], [1, 2, 3]):\", mult([1, 2, 3], [1, 2, 3])\n",
      "print \"mult([1, 2, 3, 4], [5, 6, 7, 8]):\", mult([1, 2, 3, 4], [5, 6, 7, 8])"
     ],
     "language": "python",
     "metadata": {},
     "outputs": [
      {
       "output_type": "stream",
       "stream": "stdout",
       "text": [
        "maximum([1, 2, 3]): 3\n",
        "maximum([2, 99, 3, 6, 1, 1000]): 1000\n",
        "mult([1, 2, 3], [1, 2, 3]): 37\n",
        "mult([1, 2, 3, 4], [5, 6, 7, 8]): 261\n"
       ]
      }
     ],
     "prompt_number": 6
    },
    {
     "cell_type": "heading",
     "level": 3,
     "metadata": {},
     "source": [
      "Questions"
     ]
    },
    {
     "cell_type": "markdown",
     "metadata": {},
     "source": [
      "  1. What Big-O complexity does `maximum()` have? Why?\n",
      "  2. What Big-O complexity does `mult()` have? Why?"
     ]
    },
    {
     "cell_type": "heading",
     "level": 3,
     "metadata": {},
     "source": [
      "Your answers"
     ]
    },
    {
     "cell_type": "markdown",
     "metadata": {},
     "source": [
      "  1. Write your answer to 1. -- O(n) since the complexity will grow with n.\n",
      "  2. Write your answer to 2. -- O(n^2) The nested for loops are dependant on n so if n was 9 the program will have a complexity of 81."
     ]
    },
    {
     "cell_type": "heading",
     "level": 2,
     "metadata": {},
     "source": [
      "Workshop Exercise 1"
     ]
    },
    {
     "cell_type": "markdown",
     "metadata": {},
     "source": [
      "Common Big-O complexities are *O(n)*, *O(n^2)*, *O(log_2 n)* and *O(2^n)*. Complete the table below by replacing the question marks with correct values. Which Big-O complexity gives you the \"fastest\" algorithm?"
     ]
    },
    {
     "cell_type": "markdown",
     "metadata": {},
     "source": [
      "\n",
      "\n",
      "<table>\n",
      "<tr><th>n</th><th>n^2</th><th>log_2 n</th><th>2^n</th></tr>\n",
      "<tr><td>1</td><td>1</td><td>0</td><td>2</td></tr>\n",
      "<tr><td>2</td><td>4</td><td>1</td><td>4</td></tr>\n",
      "<tr><td>3</td><td>9</td><td>1.56</td><td>8</td></tr>\n",
      "<tr><td>4</td><td>?</td><td>?</td><td>?</td></tr>\n",
      "<tr><td>5</td><td>?</td><td>?</td><td>?</td></tr>\n",
      "<tr><td>6</td><td>?</td><td>?</td><td>?</td></tr>\n",
      "<tr><td>7</td><td>?</td><td>?</td><td>?</td></tr>\n",
      "<tr><td>8</td><td>?</td><td>?</td><td>?</td></tr>\n",
      "<tr><td>9</td><td>?</td><td>?</td><td>?</td></tr>\n",
      "<tr><td>10</td><td>?</td><td>?</td><td>?</td></tr>\n",
      "<tr><td>50</td><td>?</td><td>?</td><td>?</td></tr>\n",
      "<tr><td>100</td><td>?</td><td>?</td><td>?</td></tr>\n",
      "<tr><td>1000</td><td>?</td><td>?</td><td>?</td></tr>\n",
      "</table>\n",
      "\n"
     ]
    },
    {
     "cell_type": "heading",
     "level": 1,
     "metadata": {},
     "source": [
      "Complexity Classes (part 1 - we will continue this next week)"
     ]
    },
    {
     "cell_type": "markdown",
     "metadata": {},
     "source": [
      "Because complexity wants to avoid any issues relating to hardware or implementation that might affect an algorithm, we imagine that our code is being run on an *abstract machine* (AM). Later in the module we will learn more about what these abstract machines are like, but we can think of an AM as being like a real machine, in the sense that it has some data storage (memory) and it has some code to execute, instruction by instruction. The Big-O notation tells us how we describe the running time of the algorithm on the abstract machine, in terms of the length of its input. For example, an algorithm with Big-O complexity *O(n)* will have a running time *proportional* to the length of the input - i.e. the bigger the *n* the longer the algorithm runs. Think about the examples above! The O(n) is a bit of a simplification, the complexity will really be described by an equation like this:\n",
      "\n",
      "$$complexity = an + c$$\n",
      "\n",
      "were *a* and *c* are constant numbers. The reason we simplify this to *O(n)* is that even with large values for *a* and *c*, as *n* gets bigger it will be the *n* that determines how long the program takes to run.\n",
      "\n",
      "People who study complexity like to categorise programs into *complexity classes* -- those programs which all run with similar sorts of complexity. The **P** (Polynomial) class contains all those algorithms whose complexity can be described with an equation like this:\n",
      "\n",
      "$$complexity = c + a_1n + a_2n^2 +a_3n^3 + ...$$\n",
      "\n",
      "We can think of these problems as relatively \"easy\" for computers to deal with, because their running time grows slowly as *n* gets bigger.\n",
      "\n",
      "Can you think of a complexity from the table above that is *not* in **P**?"
     ]
    },
    {
     "cell_type": "code",
     "collapsed": false,
     "input": [
      "from IPython.display import YouTubeVideo\n",
      "YouTubeVideo(\"dJUEkjxylBw\")"
     ],
     "language": "python",
     "metadata": {},
     "outputs": [
      {
       "html": [
        "\n",
        "        <iframe\n",
        "            width=\"400\"\n",
        "            height=300\"\n",
        "            src=\"https://www.youtube.com/embed/dJUEkjxylBw\"\n",
        "            frameborder=\"0\"\n",
        "            allowfullscreen\n",
        "        ></iframe>\n",
        "        "
       ],
       "metadata": {},
       "output_type": "pyout",
       "prompt_number": 5,
       "text": [
        "<IPython.lib.display.YouTubeVideo at 0x42f4e48>"
       ]
      }
     ],
     "prompt_number": 5
    },
    {
     "cell_type": "heading",
     "level": 3,
     "metadata": {},
     "source": [
      "Next week..."
     ]
    },
    {
     "cell_type": "markdown",
     "metadata": {},
     "source": [
      "Next week we will look at another complexity class **NP** and we will talk about one of the most important open problems in Computer Science..."
     ]
    },
    {
     "cell_type": "heading",
     "level": 1,
     "metadata": {},
     "source": [
      "Workshop Exercise - algorithms in P"
     ]
    },
    {
     "cell_type": "heading",
     "level": 2,
     "metadata": {},
     "source": [
      "Part 1"
     ]
    },
    {
     "cell_type": "markdown",
     "metadata": {},
     "source": [
      "In this notebook write a Python function to check whether or not a number is prime. Call the function *is_prime()*. *is_prime()* should take a single argument which should be a postive integer (*n*). It should check every number from 1 to the square root of *n* to see whether that number divides *n* and return *false* if it does. If *is_prime()* gets all the way to the square root of *n* and does **not** find an integer factor then it can return *true*."
     ]
    },
    {
     "cell_type": "code",
     "collapsed": false,
     "input": [
      "def is_prime(n):\n",
      "    for i in range(2,int(math.sqrt(n))+1):\n",
      "        if(n%i == 0):\n",
      "            return False\n",
      "\n",
      "    return True\n",
      "        \n",
      "        \n",
      "print is_prime(11)"
     ],
     "language": "python",
     "metadata": {},
     "outputs": [
      {
       "output_type": "stream",
       "stream": "stdout",
       "text": [
        "True\n"
       ]
      }
     ],
     "prompt_number": 111
    },
    {
     "cell_type": "heading",
     "level": 2,
     "metadata": {},
     "source": [
      "Part 2 - timing an algorithm in P"
     ]
    },
    {
     "cell_type": "markdown",
     "metadata": {},
     "source": [
      "In this notebook, use the *is_prime()* function you wrote previously, and implement a function which takes a list of numbers as an argument and returns *true* if that list only contains prime numbers and *false* if it does not.\n",
      "\n",
      "Time your function on lists of lengths *1, 2, 4, 8, 16, 32, 64, 128, 256, 512, 1024* (the lists themselves can be randomly generated integers). Draw a table or chart in the notebook that shows how the running time of the function increases with *n*."
     ]
    },
    {
     "cell_type": "code",
     "collapsed": false,
     "input": [
      "  \n",
      "%matplotlib inline\n",
      "import matplotlib.pyplot as plt\n",
      "import time\n",
      "import random\n",
      "def run_items(list):\n",
      "    for i in list:\n",
      "        if(is_prime(i)):\n",
      "            return True\n",
      "        \n",
      "    return False\n",
      "\n",
      "times = [ i for i in range(0,11)]\n",
      "\n",
      "\n",
      "%timeit run_items([random.randint(0, 100) for c in range(2)])\n",
      "%timeit run_items([random.randint(0, 100) for c in range(4)])\n",
      "%timeit run_items([random.randint(0, 100) for c in range(8)])\n",
      "%timeit run_items([random.randint(0, 100) for c in range(16)])\n",
      "%timeit run_items([random.randint(0, 100) for c in range(32)])\n",
      "%timeit run_items([random.randint(0, 100) for c in range(64)])\n",
      "%timeit run_items([random.randint(0, 100) for c in range(128)])\n",
      "%timeit run_items([random.randint(0, 100) for c in range(256)])\n",
      "%timeit run_items([random.randint(0, 100) for c in range(512)])\n",
      "%timeit run_items([random.randint(0, 100) for c in range(1024)])\n",
      "%timeit run_items([random.randint(0, 100) for c in range(2048)])\n",
      "%timeit run_items([random.randint(0, 100) for c in range(4096)])\n",
      "\n",
      "\n",
      "for i in range(1,11):\n",
      "    start = time.clock()        \n",
      "    run_items([random.randint(0, 100) for c in range(2**i)])\n",
      "    times[i] = (time.clock() - start)*1000\n",
      "\n",
      "plt.plot([ 2**i for i in range(0,11)],times , 'r^')\n",
      "plt.show()\n",
      "print \"-- Y Axis shows time\"\n",
      "print \"-- X Axis shows items\"\n",
      "print \"As number of items increases the time increases at the linear rate\""
     ],
     "language": "python",
     "metadata": {},
     "outputs": [
      {
       "output_type": "stream",
       "stream": "stdout",
       "text": [
        "100000 loops, best of 3: 7.31 \u00b5s per loop\n",
        "100000 loops, best of 3: 12.5 \u00b5s per loop"
       ]
      },
      {
       "output_type": "stream",
       "stream": "stdout",
       "text": [
        "\n",
        "10000 loops, best of 3: 21.3 \u00b5s per loop"
       ]
      },
      {
       "output_type": "stream",
       "stream": "stdout",
       "text": [
        "\n",
        "10000 loops, best of 3: 36.9 \u00b5s per loop"
       ]
      },
      {
       "output_type": "stream",
       "stream": "stdout",
       "text": [
        "\n",
        "10000 loops, best of 3: 67.7 \u00b5s per loop"
       ]
      },
      {
       "output_type": "stream",
       "stream": "stdout",
       "text": [
        "\n",
        "10000 loops, best of 3: 127 \u00b5s per loop"
       ]
      },
      {
       "output_type": "stream",
       "stream": "stdout",
       "text": [
        "\n",
        "1000 loops, best of 3: 248 \u00b5s per loop"
       ]
      },
      {
       "output_type": "stream",
       "stream": "stdout",
       "text": [
        "\n",
        "1000 loops, best of 3: 493 \u00b5s per loop"
       ]
      },
      {
       "output_type": "stream",
       "stream": "stdout",
       "text": [
        "\n",
        "1000 loops, best of 3: 986 \u00b5s per loop"
       ]
      },
      {
       "output_type": "stream",
       "stream": "stdout",
       "text": [
        "\n",
        "1000 loops, best of 3: 1.93 ms per loop"
       ]
      },
      {
       "output_type": "stream",
       "stream": "stdout",
       "text": [
        "\n",
        "100 loops, best of 3: 3.89 ms per loop"
       ]
      },
      {
       "output_type": "stream",
       "stream": "stdout",
       "text": [
        "\n",
        "100 loops, best of 3: 7.68 ms per loop"
       ]
      },
      {
       "output_type": "stream",
       "stream": "stdout",
       "text": [
        "\n"
       ]
      },
      {
       "metadata": {},
       "output_type": "display_data",
       "png": "[encoded data removed]",
       "text": [
        "<matplotlib.figure.Figure at 0x8b24570>"
       ]
      },
      {
       "output_type": "stream",
       "stream": "stdout",
       "text": [
        "-- Y Axis shows time\n",
        "-- X Axis shows items\n",
        "As number of items increases the time increases at the linear rate\n"
       ]
      }
     ],
     "prompt_number": 186
    },
    {
     "cell_type": "code",
     "collapsed": false,
     "input": [],
     "language": "python",
     "metadata": {},
     "outputs": [],
     "prompt_number": 173
    },
    {
     "cell_type": "code",
     "collapsed": false,
     "input": [],
     "language": "python",
     "metadata": {},
     "outputs": [],
     "prompt_number": 117
    },
    {
     "cell_type": "code",
     "collapsed": false,
     "input": [],
     "language": "python",
     "metadata": {},
     "outputs": [],
     "prompt_number": 117
    },
    {
     "cell_type": "code",
     "collapsed": false,
     "input": [],
     "language": "python",
     "metadata": {},
     "outputs": []
    }
   ],
   "metadata": {}
  }
 ]
}