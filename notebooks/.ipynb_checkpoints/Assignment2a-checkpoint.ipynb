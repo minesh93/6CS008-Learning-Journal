{
 "metadata": {
  "name": "",
  "signature": "sha256:d2eefa2a2c22a9b87551fb825f1294abefcfcd76c7609d44bbc74301fa2a102d"
 },
 "nbformat": 3,
 "nbformat_minor": 0,
 "worksheets": [
  {
   "cells": [
    {
     "cell_type": "heading",
     "level": 1,
     "metadata": {},
     "source": [
      "Asssignment 2"
     ]
    },
    {
     "cell_type": "heading",
     "level": 5,
     "metadata": {},
     "source": [
      "When you have finished download this page as a IP Notebook file (File -> Download as -> IPython Notebook (.ipynb) ) and then upload to WOLF"
     ]
    },
    {
     "cell_type": "heading",
     "level": 4,
     "metadata": {},
     "source": [
      "1) In terms of asymptotic time (big-O notation) what is the running time of the code fragments below?"
     ]
    },
    {
     "cell_type": "code",
     "collapsed": false,
     "input": [
      "def foo(x):\n",
      "    y = x*77.3\n",
      "    return x/8.2"
     ],
     "language": "python",
     "metadata": {},
     "outputs": []
    },
    {
     "cell_type": "code",
     "collapsed": false,
     "input": [
      "O(1) - Constant time as it is just a calculation."
     ],
     "language": "python",
     "metadata": {},
     "outputs": []
    },
    {
     "cell_type": "code",
     "collapsed": false,
     "input": [
      "result = 0\n",
      "for i in range(z):\n",
      "    for j in range(z):\n",
      "        result += (i*j)"
     ],
     "language": "python",
     "metadata": {},
     "outputs": []
    },
    {
     "cell_type": "code",
     "collapsed": false,
     "input": [
      "O(n^2) - Quadratic time as nested loop is ran each time the outer loop iterates."
     ],
     "language": "python",
     "metadata": {},
     "outputs": []
    },
    {
     "cell_type": "code",
     "collapsed": false,
     "input": [
      "def isSubset(L1, L2):\n",
      "     for e1 in L1:\n",
      "          matched = False\n",
      "               for e2 in L2:\n",
      "                    if e1 == e2:\n",
      "                         matched = True\n",
      "                         break\n",
      "               if not matched:\n",
      "                    return False\n",
      "     return True"
     ],
     "language": "python",
     "metadata": {},
     "outputs": []
    },
    {
     "cell_type": "code",
     "collapsed": false,
     "input": [
      "O(n^k) - Polynomial time as K in this case could be L2 as a nested loop is ran everytime the e1 loop is iterated over."
     ],
     "language": "python",
     "metadata": {},
     "outputs": []
    },
    {
     "cell_type": "heading",
     "level": 4,
     "metadata": {},
     "source": [
      "2) Does O(100n^2)= O(n^2)?"
     ]
    },
    {
     "cell_type": "code",
     "collapsed": false,
     "input": [
      "If O(100n^2) means O(100 x n^2) then no as it would mean doing 100x more computations of n^2 so  no matter the value of n O(100n^2) \n",
      "will still take more time to complete due to the amount of computations, even though they are both Quadratic notations. \n",
      "\n",
      "If O(100n^2) means O(100 + n^2) however then when n is only a small size/has few number of items it would mean  O(100n^2)!= O(n^2) as there are\n",
      "+100 more compuations being done. But when n increases in size to a point where the +100 will not become relevant then yes O(100n^2)= O(n^2) \n",
      "as the +100 more compuations will become irrelevant compared to the other number of compuations being done."
     ],
     "language": "python",
     "metadata": {},
     "outputs": []
    },
    {
     "cell_type": "heading",
     "level": 4,
     "metadata": {},
     "source": [
      "3) Optimise the code below using list comprehension"
     ]
    },
    {
     "cell_type": "code",
     "collapsed": false,
     "input": [
      "new_list = []\n",
      "for i in old_list:\n",
      "    new_list.append(i * 2)"
     ],
     "language": "python",
     "metadata": {},
     "outputs": [],
     "prompt_number": 6
    },
    {
     "cell_type": "code",
     "collapsed": false,
     "input": [
      "old_list = [1,2,3,4,5,6,7,8,9,10]\n",
      "[i*2 for i in old_list]"
     ],
     "language": "python",
     "metadata": {},
     "outputs": [
      {
       "metadata": {},
       "output_type": "pyout",
       "prompt_number": 20,
       "text": [
        "[2, 4, 6, 8, 10, 12, 14, 16, 18, 20]"
       ]
      }
     ],
     "prompt_number": 20
    },
    {
     "cell_type": "code",
     "collapsed": false,
     "input": [
      "new_list = []\n",
      "for i in old_list:\n",
      "    if i % 2 == 0:\n",
      "        new_list.append(i)"
     ],
     "language": "python",
     "metadata": {},
     "outputs": [],
     "prompt_number": 21
    },
    {
     "cell_type": "code",
     "collapsed": false,
     "input": [
      "[i for i in old_list if i % 2 ==0]"
     ],
     "language": "python",
     "metadata": {},
     "outputs": [
      {
       "metadata": {},
       "output_type": "pyout",
       "prompt_number": 22,
       "text": [
        "[2, 4, 6, 8, 10]"
       ]
      }
     ],
     "prompt_number": 22
    },
    {
     "cell_type": "code",
     "collapsed": false,
     "input": [
      "new_list = []\n",
      "for i in old_list:\n",
      "    if i not in old_list:\n",
      "        new_list.append(i)"
     ],
     "language": "python",
     "metadata": {},
     "outputs": [],
     "prompt_number": 23
    },
    {
     "cell_type": "code",
     "collapsed": false,
     "input": [
      "[i for i in old_list if i not in old_list]"
     ],
     "language": "python",
     "metadata": {},
     "outputs": [
      {
       "metadata": {},
       "output_type": "pyout",
       "prompt_number": 29,
       "text": [
        "[]"
       ]
      }
     ],
     "prompt_number": 29
    },
    {
     "cell_type": "heading",
     "level": 4,
     "metadata": {},
     "source": [
      "4) Show your understanding of  list comprehension by refactor the following code into normal Python"
     ]
    },
    {
     "cell_type": "code",
     "collapsed": false,
     "input": [
      "primes = [x for x in range(2, 50) if x not in noprimes]\n",
      "print primes"
     ],
     "language": "python",
     "metadata": {},
     "outputs": [
      {
       "output_type": "stream",
       "stream": "stdout",
       "text": [
        "[2, 3, 5, 7, 11, 13, 17, 19, 23, 29, 31, 37, 41, 43, 47]\n"
       ]
      }
     ],
     "prompt_number": 59
    },
    {
     "cell_type": "code",
     "collapsed": false,
     "input": [
      "primes = []\n",
      "for x in range(2, 50):\n",
      "    if x not in noprimes:\n",
      "        primes.append(x)\n",
      "        \n",
      "print primes"
     ],
     "language": "python",
     "metadata": {},
     "outputs": [
      {
       "output_type": "stream",
       "stream": "stdout",
       "text": [
        "[2, 3, 5, 7, 11, 13, 17, 19, 23, 29, 31, 37, 41, 43, 47]\n"
       ]
      }
     ],
     "prompt_number": 60
    },
    {
     "cell_type": "code",
     "collapsed": false,
     "input": [
      "noprimes = [j for i in range(2, 8) for j in range(i*2, 50, i)]\n",
      "print noprimes"
     ],
     "language": "python",
     "metadata": {},
     "outputs": [
      {
       "output_type": "stream",
       "stream": "stdout",
       "text": [
        "[4, 6, 8, 10, 12, 14, 16, 18, 20, 22, 24, 26, 28, 30, 32, 34, 36, 38, 40, 42, 44, 46, 48, 6, 9, 12, 15, 18, 21, 24, 27, 30, 33, 36, 39, 42, 45, 48, 8, 12, 16, 20, 24, 28, 32, 36, 40, 44, 48, 10, 15, 20, 25, 30, 35, 40, 45, 12, 18, 24, 30, 36, 42, 48, 14, 21, 28, 35, 42, 49]\n"
       ]
      }
     ],
     "prompt_number": 61
    },
    {
     "cell_type": "code",
     "collapsed": false,
     "input": [
      "noprimes = []\n",
      "for i in range(2, 8):\n",
      "    for j in range(i*2, 50, i):\n",
      "        noprimes.append(j)\n",
      "        \n",
      "print noprimes"
     ],
     "language": "python",
     "metadata": {},
     "outputs": [
      {
       "output_type": "stream",
       "stream": "stdout",
       "text": [
        "[4, 6, 8, 10, 12, 14, 16, 18, 20, 22, 24, 26, 28, 30, 32, 34, 36, 38, 40, 42, 44, 46, 48, 6, 9, 12, 15, 18, 21, 24, 27, 30, 33, 36, 39, 42, 45, 48, 8, 12, 16, 20, 24, 28, 32, 36, 40, 44, 48, 10, 15, 20, 25, 30, 35, 40, 45, 12, 18, 24, 30, 36, 42, 48, 14, 21, 28, 35, 42, 49]\n"
       ]
      }
     ],
     "prompt_number": 62
    },
    {
     "cell_type": "heading",
     "level": 4,
     "metadata": {},
     "source": [
      "5) Write a Python application that compares the times of operation of various sorting routines.  It should then plot on a single pyplot graph the duration of each sort against the length of the data to be sorted. "
     ]
    },
    {
     "cell_type": "heading",
     "level": 4,
     "metadata": {},
     "source": [
      "Give the plots for at least 4 different sorting routines.  Choose a series of data lengths that are large enough to produce differential timings but will fit on a single plot. All the sorting, timing and plotting should be performed in a single program.   "
     ]
    },
    {
     "cell_type": "heading",
     "level": 5,
     "metadata": {},
     "source": [
      "Below is code to generate an array of random numbers, how pass that array to a sorting routine and how to time the duration  "
     ]
    },
    {
     "cell_type": "code",
     "collapsed": false,
     "input": [
      "import random\n",
      "import time\n",
      "import numpy as np\n",
      "import matplotlib.pyplot as plt\n",
      "t = np.arange(0., 2, 0.1)\n",
      "\n",
      "random_items = []\n",
      "for i in range(0,20):\n",
      "    # How can we change this to get arrays \n",
      "    # of different lengths?\n",
      "    #-- By adding the random int function in the range\n",
      "    #-- random_items.append([random.randint(-50, 100) for c in range(random.randint(0,50))])\n",
      "    #-- That does mess up the graph and causes no correlation to be made\n",
      "    \n",
      "    random_items.append([random.randint(-50, 100) for c in range(32)])\n",
      "    \n",
      "durationIS = []\n",
      "for x in random_items:\n",
      "    start = time.clock()\n",
      "    insertion_sort(x[:])  # [:] makes a copy of the original array for the sort\n",
      "    durationIS.append(time.clock() - start)\n",
      "    \n",
      "durationBS = []\n",
      "for x in random_items:\n",
      "    start = time.clock()\n",
      "    bubble_sort(x[:]) \n",
      "    durationBS.append(time.clock() - start)\n",
      " \n",
      "durationQS = []\n",
      "for x in random_items:\n",
      "    start = time.clock()\n",
      "    quick_sort(x[:]) \n",
      "    durationQS.append(time.clock() - start)    \n",
      "\n",
      "durationHS = []\n",
      "for x in random_items:\n",
      "    start = time.clock()\n",
      "    heap_sort(x[:]) \n",
      "    durationHS.append(time.clock() - start)      \n",
      "\n",
      "\n",
      "#-- durationIS #-- red triangle\n",
      "#-- durationBS #-- blue triangle\n",
      "#-- durationQS #-- green trinagle\n",
      "#-- durationHS #-- yellow triangle\n",
      "\n",
      "\n",
      "plt.plot(t, durationIS, 'r^', t, durationBS, 'b^', t, durationQS, 'g^',t, durationHS, 'y^')\n",
      "plt.show()\n",
      "\n",
      "\n",
      "#-- Heap sort ( Yellow Triangle) seems to be the quickest from the 4 I have chosen"
     ],
     "language": "python",
     "metadata": {},
     "outputs": [
      {
       "metadata": {},
       "output_type": "display_data",
       "png": "[encoded data removed]",
       "text": [
        "<matplotlib.figure.Figure at 0x58a9510>"
       ]
      }
     ],
     "prompt_number": 128
    },
    {
     "cell_type": "heading",
     "level": 5,
     "metadata": {},
     "source": [
      "Here is example code for plotting 3 different traces to a pyplot graph"
     ]
    },
    {
     "cell_type": "code",
     "collapsed": false,
     "input": [
      "%matplotlib inline\n",
      "\n",
      "import numpy as np\n",
      "import matplotlib.pyplot as plt\n",
      "# evenly sampled time at 200ms intervals\n",
      "t = np.arange(0., 5., 0.2)\n",
      "# red dashes, blue squares and green triangles\n",
      "plt.plot(t, t, 'r--', t, t**2, 'bs', t, t**3, 'g^')\n",
      "plt.show()"
     ],
     "language": "python",
     "metadata": {},
     "outputs": [
      {
       "metadata": {},
       "output_type": "display_data",
       "png": "[encoded data removed]",
       "text": [
        "<matplotlib.figure.Figure at 0x5974510>"
       ]
      }
     ],
     "prompt_number": 101
    },
    {
     "cell_type": "heading",
     "level": 5,
     "metadata": {},
     "source": [
      "Below are some sorting routines - there should be no reason to alter the code given here"
     ]
    },
    {
     "cell_type": "code",
     "collapsed": false,
     "input": [
      "def bubble_sort(items):\n",
      "    \"\"\" Implementation of bubble sort \"\"\"\n",
      "    for i in range(len(items)):\n",
      "        for j in range(len(items)-1-i):\n",
      "            if items[j] > items[j+1]:\n",
      "                items[j], items[j+1] = items[j+1], items[j]     # Swap!\n",
      "\n",
      "def insertion_sort(items):\n",
      "    \"\"\" Implementation of insertion sort \"\"\"\n",
      "    for i in range(1, len(items)):\n",
      "        j = i\n",
      "        while j > 0 and items[j] < items[j-1]:\n",
      "            items[j], items[j-1] = items[j-1], items[j]\n",
      "            j -= 1\n",
      "\n",
      "def merge_sort(items):\n",
      "    \"\"\" Implementation of mergesort \"\"\"\n",
      "    if len(items) > 1:\n",
      "\n",
      "        mid = len(items) / 2        # Determine the midpoint and split\n",
      "        left = items[0:mid]\n",
      "        right = items[mid:]\n",
      "\n",
      "        merge_sort(left)            # Sort left list in-place\n",
      "        merge_sort(right)           # Sort right list in-place\n",
      "\n",
      "        l, r = 0, 0\n",
      "        for i in range(len(items)):     # Merging the left and right list\n",
      "\n",
      "            lval = left[l] if l < len(left) else None\n",
      "            rval = right[r] if r < len(right) else None\n",
      "\n",
      "            if (lval and rval and lval < rval) or rval is None:\n",
      "                items[i] = lval\n",
      "                l += 1\n",
      "            elif (lval and rval and lval >= rval) or lval is None:\n",
      "                items[i] = rval\n",
      "                r += 1\n",
      "            else:\n",
      "                raise Exception('Could not merge, sub arrays sizes do not match the main array')\n",
      "\n",
      "def quick_sort(items):\n",
      "    \"\"\" Implementation of quick sort \"\"\"\n",
      "    if len(items) > 1:\n",
      "        pivot_index = len(items) / 2\n",
      "        smaller_items = []\n",
      "        larger_items = []\n",
      "\n",
      "        for i, val in enumerate(items):\n",
      "            if i != pivot_index:\n",
      "                if val < items[pivot_index]:\n",
      "                    smaller_items.append(val)\n",
      "                else:\n",
      "                    larger_items.append(val)\n",
      "\n",
      "        quick_sort(smaller_items)\n",
      "        quick_sort(larger_items)\n",
      "        items[:] = smaller_items + [items[pivot_index]] + larger_items\n",
      "\n",
      "import heapq\n",
      "\n",
      "def heap_sort(items):\n",
      "    \"\"\" Implementation of heap sort \"\"\"\n",
      "    heapq.heapify(items)\n",
      "    items[:] = [heapq.heappop(items) for i in range(len(items))]"
     ],
     "language": "python",
     "metadata": {},
     "outputs": [],
     "prompt_number": 30
    },
    {
     "cell_type": "code",
     "collapsed": false,
     "input": [],
     "language": "python",
     "metadata": {},
     "outputs": []
    }
   ],
   "metadata": {}
  }
 ]
}