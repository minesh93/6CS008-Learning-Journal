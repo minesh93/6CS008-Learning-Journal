{
 "metadata": {
  "name": "",
  "signature": "sha256:b5e3ef075b51ef24938f70b3f9b865bb6e79aec41477ea35f6e316f588220f13"
 },
 "nbformat": 3,
 "nbformat_minor": 0,
 "worksheets": [
  {
   "cells": [
    {
     "cell_type": "heading",
     "level": 1,
     "metadata": {},
     "source": [
      "Interview"
     ]
    },
    {
     "cell_type": "markdown",
     "metadata": {},
     "source": [
      "Some software development companies ask job candidates to design and / or implement programs as part of an interview process. The interviewer is not necessarily looking for you to produce a completely correct answer, they are looking to see how good your problem solving skills are. You can use what you have learned in 6CS008 to help you in this situation!\n",
      "\n",
      "Let's look at some interview questions that people have been asked in the past. Use the Big-O Complexity Cheat Sheet on WOLF to help. \n",
      "\n",
      "**Workshop task:**\n",
      "Write up your answers to these questions for your learning journal."
     ]
    },
    {
     "cell_type": "heading",
     "level": 2,
     "metadata": {},
     "source": [
      "Question 0: Fizz Buzz"
     ]
    },
    {
     "cell_type": "markdown",
     "metadata": {},
     "source": [
      "This is an easy question, but it has become quite famous in the blog-o-sphere. I've included it here because it is asked quite frequently.\n",
      "\n",
      "Write a program that prints the numbers from 1 to 100. But for multiples of three print \"Fizz\" instead of the number and for the multiples of five print \"Buzz\". For numbers which are multiples of both three and five print \"FizzBuzz\"."
     ]
    },
    {
     "cell_type": "raw",
     "metadata": {},
     "source": [
      "# FOR int i 1 to 100\n",
      "    #if i % 3 == 0\n",
      "        #printOnSameLine \"Buzz\"\n",
      "    #if i % 5 == 0\n",
      "        #printOnSameLine \"Fizz\"\n",
      "    #gotoNewLine"
     ]
    },
    {
     "cell_type": "heading",
     "level": 2,
     "metadata": {},
     "source": [
      "Question 1: Find all valid anagrams of a word"
     ]
    },
    {
     "cell_type": "markdown",
     "metadata": {},
     "source": [
      "Given an English word in the form of a string, how can you quickly find all valid anagrams for that string (all valid rearrangements of the letters that form valid English words)? You are allowed to pre\u2010compute whatever you want to and store whatever you optionally pre\u2010compute on disk.\n",
      "\n",
      "What is the Big-O complexity of your solution?"
     ]
    },
    {
     "cell_type": "markdown",
     "metadata": {},
     "source": [
      "**ANSWER**\n",
      "\n",
      "Pre-computed hash table containing the different anagrams of a word when it is sorted i.e anagrams of cat would be act,tac,cat.\n",
      "But that would stored under the key 'act' as they would only need to be sorted which would be if quicksort was used **o(n log(n))**\n",
      "\n",
      "which would mean **O(n) where n would be number of words to be stored in the hash table**\n",
      "\n",
      "From there when a word's possible anagrams needs to be found it will be sorted and then look up will be done for that key.\n",
      "Which means the **complexity is going to be o(1) since that is the big-o complexity of a hash table**"
     ]
    },
    {
     "cell_type": "heading",
     "level": 2,
     "metadata": {},
     "source": [
      "Question 2: Nearest neighbours"
     ]
    },
    {
     "cell_type": "markdown",
     "metadata": {},
     "source": [
      "Say you have an array containing information regarding *n* people. Each person is described using a string (their name) a number (their position along a number \n",
      "line). Each person has three friends, which are the three people whose number is\n",
      "nearest their own. Describe an algorithm to identify each person's three friends. What is the Big-O complexity of your algorithm?"
     ]
    },
    {
     "cell_type": "markdown",
     "metadata": {},
     "source": [
      "** ANSWER **\n",
      "Assuming that the storage could be made into an array of tuples so the format could be represent as:\n",
      "[ (\"Oli\",4), (\"Ben\",10), (\"James\",7), (\"Jon\",3)]\n",
      "The first task would be sort that list based of their numbers using the quicksort which would have a complexity of **O(n log(n))**\n",
      "Which would result in\n",
      "[ (\"Jon\",3), (\"Oli\",4), (\"James\",7), (\"Ben\",10) ]\n",
      "From there we could look a number say binary search which would be **O(n log(n))** and from there look at \n"
     ]
    },
    {
     "cell_type": "heading",
     "level": 2,
     "metadata": {},
     "source": [
      "Question 3: Reversing a string (or words in a string)"
     ]
    },
    {
     "cell_type": "markdown",
     "metadata": {},
     "source": [
      "Design an algorithm to reverse a string *in place* (i.e. without creating another string or allocating another buffer). What is the Big-O complexity of your algorithm?"
     ]
    },
    {
     "cell_type": "markdown",
     "metadata": {},
     "source": [
      "**ANSWER**\n",
      "\n",
      "Store the length of the string variable \n",
      "Take the last character of the string and append it to the end of the string \n",
      "From there do same for all the characters on the left until the start of the string has been reached \n",
      "\n",
      "**This would have a complexity of O(n) as this would depend on the size of the string **\n",
      "\n",
      "table would become tableelbat\n",
      "\n",
      "Once the length of this string has reached 2x the stored value  start deleting all the characters from the left until the length matches the stored value \n",
      "**Which would result in a complexity of O(n) which is the size of the original string**\n",
      "\n",
      "**Overall complexity would be O(2n)** \n",
      "\n",
      "End result is elbat"
     ]
    },
    {
     "cell_type": "heading",
     "level": 2,
     "metadata": {},
     "source": [
      "Question 4: Breaking the unbreakable"
     ]
    },
    {
     "cell_type": "markdown",
     "metadata": {},
     "source": [
      "You work for a company that manufactures unbreakable light bulbs. The company headquarters is in a one hundred floor building. Each floor in the building is 3 metres high. \n",
      "\n",
      "You have been hired to find out just how unbreakable the unbreakable light bulbs are and you are allowed to test the bulbs by dropping them out of the windows of the building. Your result should be something like \"The light bulbs can withstand a fall from a height of *n* metres (plus or minus *m* metres)\".\n",
      "\n",
      "How many light bulbs do you have to throw out of the building to reach a conclusion?\n",
      "\n",
      "**Hint:** think about an *equivalent* problem in software."
     ]
    },
    {
     "cell_type": "markdown",
     "metadata": {},
     "source": [
      "** ANSWER **\n",
      "\n",
      "** This problem can be approach by using a binary search algorithm ** \n",
      "\n",
      "** Based on the assumption that there are 33 floors but only 32 of those floors are droppable floors (the ground floor being the \n",
      "\n",
      "So starting off the first thing that would be done is to start from the **16th** foor and from there if it breaks go down to the **8th** floor otherwise go to the **24th** floor\n",
      "\n",
      "If it breaks from the **8th** floor go down to the **4th** floor \n",
      "If it does not break on the 4th floor then the answer may lay between the 5th floor and the 7th so go to the **6th** floor\n",
      "\n",
      "The idea of using a mid point between every throw based on the result is how this idea would replicate the binary search alogirthm.\n",
      "\n",
      "**The worst case scenario could be throwing 5 light bulbs as that would mean going to the 1st floor or the 32nd floor.**\n",
      "\n",
      "**From whatever floor has been as the threshold to break. (Plus or minus 3 metres as that would be the height of that current floor)**\n",
      "\n"
     ]
    },
    {
     "cell_type": "heading",
     "level": 2,
     "metadata": {},
     "source": [
      "Question 5: Duplicate numbers"
     ]
    },
    {
     "cell_type": "markdown",
     "metadata": {},
     "source": [
      "You have a list of *n+1* integers between *1* and *n*. You know there is at least one duplicated number, but there might be more. For example, if *n=3*, your list might be *3, 1, 1, 3* or it might be *1, 3, 2, 2*. Print out all numbers that appears in the list more than once. What is the Big-O complexity of your solution?"
     ]
    },
    {
     "cell_type": "heading",
     "level": 2,
     "metadata": {},
     "source": [
      "Question 6: Solving Hangman"
     ]
    },
    {
     "cell_type": "markdown",
     "metadata": {},
     "source": [
      "You are working for a company which writes small games for the web and mobile platforms. You have joined a team which is just about to start work on a game of Hangman for the web. Your role in the team will be to design and implement an AI player for Hangman. Given that the game will have a dictionary of words to work from, what data structures and algorithms would you use to design your Hangman player? Justify your answer with reference to the Big-O complexity of your choices?"
     ]
    },
    {
     "cell_type": "heading",
     "level": 2,
     "metadata": {},
     "source": [
      "Question 7: Spell checker"
     ]
    },
    {
     "cell_type": "markdown",
     "metadata": {},
     "source": [
      "What algorithms and data structures would you use to implement a spell checker for Microsoft Word, and why?"
     ]
    },
    {
     "cell_type": "code",
     "collapsed": false,
     "input": [],
     "language": "python",
     "metadata": {},
     "outputs": []
    }
   ],
   "metadata": {}
  }
 ]
}