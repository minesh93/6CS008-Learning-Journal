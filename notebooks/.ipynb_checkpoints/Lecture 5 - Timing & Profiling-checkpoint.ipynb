{
 "metadata": {
  "name": "",
  "signature": "sha256:122d554d8c3ea08c717e49e8d004843b1e5716305a98b4f7383088016a8ddb05"
 },
 "nbformat": 3,
 "nbformat_minor": 0,
 "worksheets": [
  {
   "cells": [
    {
     "cell_type": "heading",
     "level": 1,
     "metadata": {},
     "source": [
      "1. Introduction"
     ]
    },
    {
     "cell_type": "markdown",
     "metadata": {},
     "source": [
      "Welcome to the <b>2nd block</b> of 6CS008. My name is George Paltoglou (in case you weren't sure); my email is <a href=\"mailto:g.paltoglou@wlv.ac.uk\">g.paltoglou</a>; my office is in <b>MI136</b> (ring 8584 on the door phone). The next 4 sessions will focus on issues relating to <i>efficiency</i> in implementing algorithms.\n",
      "\n",
      "<i>Question:</i> What the difference between <b> effectiveness</b> and <b>efficiency</b>?\n",
      "\n",
      "Things we'll cover include: \n",
      "<ul>\n",
      "<li> timing & profiling your code (this session)\n",
      "<li> applying heuristics to speed-up calculations\n",
      "<li> code refactoring\n",
      "<li> vectorisation of calculations\n",
      "<li> etc.\n",
      "</ul>\n",
      "\n",
      "Although obviously we'll be using <i>Python</i> for this block, most of the things we'll discuss are applicable in a variety of other programming languages and environments, such as Java, C++, Matlab, Octave. \n",
      "\n",
      "In fact, we will <b>not</b> discuss some features that are <i>only</i> available in Python, such as compiling your code to C, <i>or</i> go beyond the scope of this module, such as multithreading, gpu programming, cluster/cloud computing, etc.\n",
      "\n",
      "<b>Note 1:</b> We'll be video-recording the lectures (screen-capture + my voice) and posting the links on the WOLF topic every week. Those videos should be your <b>1st</b> place to go when something taught in class isn't clear. Naturally, you can always ask questions :-)\n",
      "\n",
      "<b>Note 2:</b> Some of the things we discuss contain some math, mostly basic algebra!! To help you with this, we'll post a number of additional videos on the WOLF topic explaining some basic algebra (matrix addition/multiplication, etc.). If you are unsure about those concepts, you <strong>must</strong> go through those videos in your own time, in order to understand their application in class. We will <b>not</b> discuss them in detail in class. You'll be given appropriate time in advance. In addition, you are strongly encouraged to seek the guidance of the <a href=\"https://www.wlv.ac.uk/current-students/student-support/academic-and-other-support/maths-support-centre/\">Math Support Centre</a> for further clarifications.\n",
      "\n",
      "<b>Note 3:</b> This block has only <b>one</b> assessment, that will be released after the end of today's workshop. It'll count for 25% of your final module mark! Take your time to read through it... it is meant to be challenging! You'll find all the necessary details on the assessment brief.\n"
     ]
    },
    {
     "cell_type": "heading",
     "level": 1,
     "metadata": {},
     "source": [
      "2. Timing Code"
     ]
    },
    {
     "cell_type": "markdown",
     "metadata": {},
     "source": [
      "Obviously, the first thing we need to discuss when refering to <i>efficiency</i> is methods that we can use to <b>time</b> the execution of the code we write. So far, you've used code like this to time stuff:"
     ]
    },
    {
     "cell_type": "code",
     "collapsed": false,
     "input": [
      "import time\n",
      "start = time.time()\n",
      "# code we want to time\n",
      "elapsed_time = (time.time() - start) * 1000 # (current_time - start_time) * 1000 so that we get seconds\n",
      "print 'Operation took:', elapsed_time, ' ms'"
     ],
     "language": "python",
     "metadata": {},
     "outputs": [
      {
       "output_type": "stream",
       "stream": "stdout",
       "text": [
        "Operation took: 1.00016593933  ms\n"
       ]
      }
     ],
     "prompt_number": 2
    },
    {
     "cell_type": "markdown",
     "metadata": {},
     "source": [
      "<i>Sidenote:</i> See that <b><a style=\"color:#0B610B\">print</a></b> statement? You can print stuff using a more concise format, similar to <a href=\"http://www.cplusplus.com/reference/cstdio/printf/\">C's printf</a> like:"
     ]
    },
    {
     "cell_type": "code",
     "collapsed": false,
     "input": [
      "print 'Operation took: %f ms' % elapsed_time #similar to C's printf(\"Operation took: %f seconds\",elapsed_time)"
     ],
     "language": "python",
     "metadata": {},
     "outputs": [
      {
       "output_type": "stream",
       "stream": "stdout",
       "text": [
        "Operation took: 1.000166 ms\n"
       ]
      }
     ],
     "prompt_number": 3
    },
    {
     "cell_type": "markdown",
     "metadata": {},
     "source": [
      "It gives you much more control on how you print stuff because you can do things like:"
     ]
    },
    {
     "cell_type": "code",
     "collapsed": false,
     "input": [
      "print 'Operation took: %0.3f ms' % elapsed_time #we can define the number of decimals we want to print"
     ],
     "language": "python",
     "metadata": {},
     "outputs": [
      {
       "output_type": "stream",
       "stream": "stdout",
       "text": [
        "Operation took: 1.000 ms\n"
       ]
      }
     ],
     "prompt_number": 4
    },
    {
     "cell_type": "heading",
     "level": 5,
     "metadata": {},
     "source": [
      "Problem Statement"
     ]
    },
    {
     "cell_type": "markdown",
     "metadata": {},
     "source": [
      "Anyways, back to our main discussion. Let's see an example of the above timing functionality."
     ]
    },
    {
     "cell_type": "code",
     "collapsed": false,
     "input": [
      "names = ['foo', 'foobar', 'baz', 'qux', 'python', 'fooleo']*100000    #the '*10000' duplicates the original 'name' list 100 times\n",
      "len(names)                                                           #proof, in case you didn't believe me! :-)"
     ],
     "language": "python",
     "metadata": {},
     "outputs": [
      {
       "metadata": {},
       "output_type": "pyout",
       "prompt_number": 9,
       "text": [
        "600000"
       ]
      }
     ],
     "prompt_number": 9
    },
    {
     "cell_type": "markdown",
     "metadata": {},
     "source": [
      "We want to create a new list that contains only the elements from list <i>names</i> that start with 'foo'. We'll use <i> list comprehension</i>, just to remember it..."
     ]
    },
    {
     "cell_type": "code",
     "collapsed": false,
     "input": [
      "foo_names1 = [words for words in names if words.startswith('foo')]  #hopefully this should sense. If not, ask away!!\n",
      "print len(foo_names1)"
     ],
     "language": "python",
     "metadata": {},
     "outputs": [
      {
       "output_type": "stream",
       "stream": "stdout",
       "text": [
        "300000\n"
       ]
      }
     ],
     "prompt_number": 12
    },
    {
     "cell_type": "markdown",
     "metadata": {},
     "source": [
      "Let's now <i>time</i> how fast this works:"
     ]
    },
    {
     "cell_type": "code",
     "collapsed": false,
     "input": [
      "import time\n",
      "start = time.time()\n",
      "\n",
      "foo_names1 = [words for words in names if words.startswith('foo')] # that's the thing we want to time\n",
      "\n",
      "elapsed_time = (time.time() - start) * 1000 \n",
      "print 'Operation took: %2.3f ms' % elapsed_time"
     ],
     "language": "python",
     "metadata": {},
     "outputs": [
      {
       "output_type": "stream",
       "stream": "stdout",
       "text": [
        "Operation took: 357.000 ms\n"
       ]
      }
     ],
     "prompt_number": 20
    },
    {
     "cell_type": "markdown",
     "metadata": {},
     "source": [
      "Obviously, depending on your hardware, you'll get different timings than me - probably higher! :-)\n",
      "\n",
      "Try this with larger lists and see how long it takes."
     ]
    },
    {
     "cell_type": "heading",
     "level": 2,
     "metadata": {},
     "source": [
      "2.1 %time"
     ]
    },
    {
     "cell_type": "markdown",
     "metadata": {},
     "source": [
      "Thankfully, <i>iPython</i> provides a set of functions, called <b>magic functions</b>, that you can call from the command line/terminal/ipython, one of which does <i>excactly</i> that!! You can find the list of all magic functions <a href=\"http://ipython.org/ipython-doc/dev/interactive/magics.html\">here</a>.\n",
      "\n",
      "All magic functions start with the percentage symbol ('%'). Try typing it below and then press the 'tab' key; you'll get a list of all available magic functions. The one we want right now is the <b>%time</b>."
     ]
    },
    {
     "cell_type": "raw",
     "metadata": {},
     "source": [
      "%time code_we_want_to_time\n",
      "  "
     ]
    },
    {
     "cell_type": "markdown",
     "metadata": {},
     "source": [
      "So, timing our foo_name1 list comprehension above:"
     ]
    },
    {
     "cell_type": "code",
     "collapsed": false,
     "input": [
      "%time foo_names1 = [words for words in names if words.startswith('foo')]"
     ],
     "language": "python",
     "metadata": {},
     "outputs": [
      {
       "output_type": "stream",
       "stream": "stdout",
       "text": [
        "Wall time: 369 ms\n"
       ]
      }
     ],
     "prompt_number": 22
    },
    {
     "cell_type": "markdown",
     "metadata": {},
     "source": [
      "Using the above in Linux, will give you CPU time in addition to Wall Time.\n",
      "\n",
      "<b>CPU time</b>: is the time the CPU takes to process things (e.g., run the instructions we've set it to run)\n",
      "<br>\n",
      "<b>Wall time</b>: is the time from the start until the end as measured by an ordinary clock.\n",
      "\n",
      "<i>Question:</i> Why 'wall time' isn't always the best way to measure things? Always be aware of what you are timing!!\n",
      "\n",
      "If you run the above line a couple of times, you'll notice that the number changes. Sometimes it's higher, sometimes it's lower. Try running it while at the same time uncompressing a 1GB file and it will be much higher. \n",
      "\n",
      "Solution??"
     ]
    },
    {
     "cell_type": "heading",
     "level": 2,
     "metadata": {},
     "source": [
      "2.2 %timeit"
     ]
    },
    {
     "cell_type": "markdown",
     "metadata": {},
     "source": [
      "Thankfully, <i>Python</i> provides another magic function that can help! It's the <b>%timeit</b>. You can find the full documentation <a href=\"http://ipython.org/ipython-doc/dev/interactive/magics.html#magic-timeit\">here</a>. The general functionality is:"
     ]
    },
    {
     "cell_type": "raw",
     "metadata": {},
     "source": [
      "%timeit [optional parameters] code_we_want_to_time"
     ]
    },
    {
     "cell_type": "markdown",
     "metadata": {},
     "source": [
      "Optional parameters include:\n",
      "<ul>\n",
      "<li> <b>-n &lt;number&gt;</b>: number of times we want to repeat the code (e.g., -n 10) [default: fitting value that Python finds]\n",
      "<li> <b>-r &lt;number&gt;</b>: repeat the loop iteration as set by -n <R> times and take the best result (e.g., -r 10) [default: 3]\n",
      "<li> <b>-p &lt;number&gt;</b>: precision in digits (e.g., -p 5) [default: 3]\n",
      "<li> <b>-t OR -c</b>: type of measurement. \n",
      "    <ul>\n",
      "        <li> <b>-t</b> uses <a href=\"https://docs.python.org/2/library/time.html#time.time\">time.time</a> and is default in Unix; records wall time.\n",
      "        <li> <b>-c</b> uses <a href=\"https://docs.python.org/2/library/time.html#time.clock\">time.clock</a> and is default in Windows; records wall time. In Linux, it reports CPU user time.\n",
      "     </ul>\n",
      "     <li> <b>-o</b>: returns a <a href=\"http://ipython.org/ipython-doc/2/api/generated/IPython.core.magics.execution.html#IPython.core.magics.execution.TimeitResult\">TimeitResult</a> object from which we can get the individual times. We'll use that in a while to conduct a more precise analysis.\n",
      "<li> .... (read the documentation)\n",
      "</ul>\n",
      "\n",
      "So, let's see how things play out:"
     ]
    },
    {
     "cell_type": "code",
     "collapsed": false,
     "input": [
      "%timeit foo_names1 = [words for words in names if words.startswith('foo')] #this might take a while!!"
     ],
     "language": "python",
     "metadata": {},
     "outputs": [
      {
       "output_type": "stream",
       "stream": "stdout",
       "text": [
        "1 loops, best of 3: 284 ms per loop\n"
       ]
      }
     ],
     "prompt_number": 23
    },
    {
     "cell_type": "code",
     "collapsed": false,
     "input": [
      "%timeit -n 10 foo_names1 = [words for words in names if words.startswith('foo')] #only 10 loops"
     ],
     "language": "python",
     "metadata": {},
     "outputs": [
      {
       "output_type": "stream",
       "stream": "stdout",
       "text": [
        "10 loops, best of 3: 287 ms per loop\n"
       ]
      }
     ],
     "prompt_number": 24
    },
    {
     "cell_type": "markdown",
     "metadata": {},
     "source": [
      "<b>Attention</b>: Notice the difference between <b>-n</b> and <b>-r</b>: The former runs the code -n times (in a single loop). The latter repeats this loop -p times. So overall your code will run $(-n) \\times (-p)$ times. For example:\n",
      "\n",
      "%timeit -n 10 -r 3 ....\n",
      "\n",
      "means your code will run $10 \\times 3 = 30$ times: 3 loops of 10 code executions each."
     ]
    },
    {
     "cell_type": "code",
     "collapsed": false,
     "input": [
      "%timeit -n 10 -r 3 foo_names1 = [words for words in names if words.startswith('foo')] #only 10 loops"
     ],
     "language": "python",
     "metadata": {},
     "outputs": [
      {
       "output_type": "stream",
       "stream": "stdout",
       "text": [
        "10 loops, best of 3: 12.1 ms per loop\n"
       ]
      }
     ],
     "prompt_number": 10
    },
    {
     "cell_type": "markdown",
     "metadata": {},
     "source": [
      "And, if you really want higher accuracy in reporting:"
     ]
    },
    {
     "cell_type": "code",
     "collapsed": false,
     "input": [
      "%timeit -n 10 -r 3 -p 10 foo_names1 = [words for words in names if words.startswith('foo')]"
     ],
     "language": "python",
     "metadata": {},
     "outputs": [
      {
       "output_type": "stream",
       "stream": "stdout",
       "text": [
        "10 loops, best of 3: 283.5991595 ms per loop\n"
       ]
      }
     ],
     "prompt_number": 28
    },
    {
     "cell_type": "heading",
     "level": 4,
     "metadata": {},
     "source": [
      "2.2.2 Sidenote: Increasing efficiency"
     ]
    },
    {
     "cell_type": "markdown",
     "metadata": {},
     "source": [
      "At this stage, you might wonder how we can make the above functionality (i.e., create a list with words that only start with 'foo') faster. As an example of things to come in the next sessions, see the implementation below that uses <b>slicing</b>! We'll discuss this in much more detail in subsequent sessions"
     ]
    },
    {
     "cell_type": "code",
     "collapsed": false,
     "input": [
      "foo_names2 = [words for words in names if words[:3]=='foo']"
     ],
     "language": "python",
     "metadata": {},
     "outputs": [],
     "prompt_number": 25
    },
    {
     "cell_type": "code",
     "collapsed": false,
     "input": [
      "%timeit -n 10 -r 3 -p 10 foo_names2 = [words for words in names if words[:3]=='foo']"
     ],
     "language": "python",
     "metadata": {},
     "outputs": [
      {
       "output_type": "stream",
       "stream": "stdout",
       "text": [
        "10 loops, best of 3: 128.1913247 ms per loop\n"
       ]
      }
     ],
     "prompt_number": 27
    },
    {
     "cell_type": "markdown",
     "metadata": {},
     "source": [
      "Assuming everything's gone well, you should see a significant increase! In my office machine, <i>foo_names1</i> takes 12.06 ms while <i>foo_names2</i> takes 5.7 ms, a <b>60%</b> increase in efficiency!"
     ]
    },
    {
     "cell_type": "heading",
     "level": 2,
     "metadata": {},
     "source": [
      "2.3 Workshop 1"
     ]
    },
    {
     "cell_type": "markdown",
     "metadata": {},
     "source": [
      "Download the \"sorting.py\" file from the WOLF topic and place it in the same directory as this \".ipynb\" file. The file contains implementations for various sorting algorithms (credit: Danish Mujeeb).\n",
      "\n",
      "The purpose of this workshop is to time each sorting algorithm with lists of various sizes and see how they perform as the lists increase in size. What is the complexity (Big-O) of each sorting algorithm (<a href=\"http://bigocheatsheet.com/\">Hint</a> and another <a href=\"http://interactivepython.org/runestone/static/pythonds/AlgorithmAnalysis/analysis.html\">hint</a>)? What do you think will happen as the lists grow in  size? Let's find out!!\n",
      "\n",
      "So first of all, create a list with $size$ number of elements and populate it with numbers in the range $[0,size]$. Next shuffle the list!"
     ]
    },
    {
     "cell_type": "code",
     "collapsed": false,
     "input": [
      "# create list of size 'size' and populate it with integers\n",
      "size = 1000\n",
      "to_be_sorted = range(size)\n",
      "to_be_sorted10 = range(10) #-- 10\n",
      "to_be_sorted100 = range(100) #-- 100\n",
      "to_be_sorted1000 = range(1000) #-- 1000\n",
      "to_be_sorted10000 = range(10000) #-- 10000\n",
      "to_be_sorted100000 = range(100000) #-- 100000\n",
      "to_be_sorted1000000 = range(1000000) #-- 1000000\n",
      "\n",
      "\n",
      "#shuffle the list\n",
      "from random import shuffle\n",
      "shuffle(to_be_sorted10)\n",
      "shuffle(to_be_sorted100)\n",
      "shuffle(to_be_sorted1000)\n",
      "shuffle(to_be_sorted10000)\n",
      "shuffle(to_be_sorted100000)\n",
      "shuffle(to_be_sorted1000000)"
     ],
     "language": "python",
     "metadata": {},
     "outputs": [],
     "prompt_number": 1
    },
    {
     "cell_type": "markdown",
     "metadata": {},
     "source": [
      "Next we'll import the functions in \"sorting.py\" and time <i>bubble_sort</i> using %timeit."
     ]
    },
    {
     "cell_type": "code",
     "collapsed": false,
     "input": [
      "import sorting\n",
      "test_run_list = to_be_sorted10[:]             # we are copying 'to_be_sorted' to a temp list 'test_run_list'\n",
      "                                            # because all sorting algorithms should work on the same random shuffle.\n",
      "                                            # You should NOT run the code in the previous box while you are timing\n",
      "                                            # a specific list length with different sorting algorithms.\n",
      "            \n",
      "print 'Before sorting:', test_run_list[:10] #verify the list is unsorted\n",
      "\n",
      "%timeit -n 1 -r 10 sorting.bubble_sort(test_run_list)\n",
      "\n",
      "print 'After sorting: ', test_run_list[:10] #print part of the sorted list"
     ],
     "language": "python",
     "metadata": {},
     "outputs": [
      {
       "output_type": "stream",
       "stream": "stdout",
       "text": [
        "Before sorting: [1, 0, 2, 8, 9, 5, 6, 3, 7, 4]\n",
        "1 loops, best of 10: 22.7 \u00b5s per loop\n",
        "After sorting:  [0, 1, 2, 3, 4, 5, 6, 7, 8, 9]\n"
       ]
      }
     ],
     "prompt_number": 2
    },
    {
     "cell_type": "code",
     "collapsed": false,
     "input": [
      "print 'Running Bubble Sort'\n",
      "\n",
      "print '10 Elements'\n",
      "test_run_list = to_be_sorted10[:] \n",
      "%timeit -n 1 -r 10 sorting.bubble_sort(test_run_list)\n",
      "\n",
      "print '100 Elements'\n",
      "test_run_list = to_be_sorted100[:] \n",
      "%timeit -n 1 -r 10 sorting.bubble_sort(test_run_list)\n",
      "\n",
      "print '1000 Elements'\n",
      "test_run_list = to_be_sorted1000[:] \n",
      "%timeit -n 1 -r 10 sorting.bubble_sort(test_run_list)\n",
      "\n",
      "print '10000 Elements'\n",
      "test_run_list = to_be_sorted10000[:] \n",
      "%timeit -n 1 -r 10 sorting.bubble_sort(test_run_list)\n",
      "\n",
      "print '100000 Elements'\n",
      "test_run_list = to_be_sorted100000[:] \n",
      "%timeit -n 1 -r 10 sorting.bubble_sort(test_run_list)"
     ],
     "language": "python",
     "metadata": {},
     "outputs": [
      {
       "output_type": "stream",
       "stream": "stdout",
       "text": [
        "Running Bubble Sort\n",
        "10 Elements\n",
        "1 loops, best of 10: 23.1 \u00b5s per loop\n",
        "100 Elements\n",
        "1 loops, best of 10: 1.32 ms per loop\n",
        "1000 Elements\n",
        "1 loops, best of 10: 118 ms per loop"
       ]
      },
      {
       "output_type": "stream",
       "stream": "stdout",
       "text": [
        "\n",
        "10000 Elements\n",
        "1 loops, best of 10: 11.8 s per loop"
       ]
      },
      {
       "output_type": "stream",
       "stream": "stdout",
       "text": [
        "\n",
        "100000 Elements\n"
       ]
      },
      {
       "ename": "KeyboardInterrupt",
       "evalue": "",
       "output_type": "pyerr",
       "traceback": [
        "\u001b[1;31m---------------------------------------------------------------------------\u001b[0m\n\u001b[1;31mKeyboardInterrupt\u001b[0m                         Traceback (most recent call last)",
        "\u001b[1;32m<ipython-input-23-20d2dac4cd4f>\u001b[0m in \u001b[0;36m<module>\u001b[1;34m()\u001b[0m\n\u001b[0;32m     19\u001b[0m \u001b[1;32mprint\u001b[0m \u001b[1;34m'100000 Elements'\u001b[0m\u001b[1;33m\u001b[0m\u001b[0m\n\u001b[0;32m     20\u001b[0m \u001b[0mtest_run_list\u001b[0m \u001b[1;33m=\u001b[0m \u001b[0mto_be_sorted100000\u001b[0m\u001b[1;33m[\u001b[0m\u001b[1;33m:\u001b[0m\u001b[1;33m]\u001b[0m\u001b[1;33m\u001b[0m\u001b[0m\n\u001b[1;32m---> 21\u001b[1;33m \u001b[0mget_ipython\u001b[0m\u001b[1;33m(\u001b[0m\u001b[1;33m)\u001b[0m\u001b[1;33m.\u001b[0m\u001b[0mmagic\u001b[0m\u001b[1;33m(\u001b[0m\u001b[1;34mu'timeit -n 1 -r 10 sorting.bubble_sort(test_run_list)'\u001b[0m\u001b[1;33m)\u001b[0m\u001b[1;33m\u001b[0m\u001b[0m\n\u001b[0m",
        "\u001b[1;32mC:\\Python27\\lib\\site-packages\\IPython\\core\\interactiveshell.pyc\u001b[0m in \u001b[0;36mmagic\u001b[1;34m(self, arg_s)\u001b[0m\n\u001b[0;32m   2203\u001b[0m         \u001b[0mmagic_name\u001b[0m\u001b[1;33m,\u001b[0m \u001b[0m_\u001b[0m\u001b[1;33m,\u001b[0m \u001b[0mmagic_arg_s\u001b[0m \u001b[1;33m=\u001b[0m \u001b[0marg_s\u001b[0m\u001b[1;33m.\u001b[0m\u001b[0mpartition\u001b[0m\u001b[1;33m(\u001b[0m\u001b[1;34m' '\u001b[0m\u001b[1;33m)\u001b[0m\u001b[1;33m\u001b[0m\u001b[0m\n\u001b[0;32m   2204\u001b[0m         \u001b[0mmagic_name\u001b[0m \u001b[1;33m=\u001b[0m \u001b[0mmagic_name\u001b[0m\u001b[1;33m.\u001b[0m\u001b[0mlstrip\u001b[0m\u001b[1;33m(\u001b[0m\u001b[0mprefilter\u001b[0m\u001b[1;33m.\u001b[0m\u001b[0mESC_MAGIC\u001b[0m\u001b[1;33m)\u001b[0m\u001b[1;33m\u001b[0m\u001b[0m\n\u001b[1;32m-> 2205\u001b[1;33m         \u001b[1;32mreturn\u001b[0m \u001b[0mself\u001b[0m\u001b[1;33m.\u001b[0m\u001b[0mrun_line_magic\u001b[0m\u001b[1;33m(\u001b[0m\u001b[0mmagic_name\u001b[0m\u001b[1;33m,\u001b[0m \u001b[0mmagic_arg_s\u001b[0m\u001b[1;33m)\u001b[0m\u001b[1;33m\u001b[0m\u001b[0m\n\u001b[0m\u001b[0;32m   2206\u001b[0m \u001b[1;33m\u001b[0m\u001b[0m\n\u001b[0;32m   2207\u001b[0m     \u001b[1;31m#-------------------------------------------------------------------------\u001b[0m\u001b[1;33m\u001b[0m\u001b[1;33m\u001b[0m\u001b[0m\n",
        "\u001b[1;32mC:\\Python27\\lib\\site-packages\\IPython\\core\\interactiveshell.pyc\u001b[0m in \u001b[0;36mrun_line_magic\u001b[1;34m(self, magic_name, line)\u001b[0m\n\u001b[0;32m   2124\u001b[0m                 \u001b[0mkwargs\u001b[0m\u001b[1;33m[\u001b[0m\u001b[1;34m'local_ns'\u001b[0m\u001b[1;33m]\u001b[0m \u001b[1;33m=\u001b[0m \u001b[0msys\u001b[0m\u001b[1;33m.\u001b[0m\u001b[0m_getframe\u001b[0m\u001b[1;33m(\u001b[0m\u001b[0mstack_depth\u001b[0m\u001b[1;33m)\u001b[0m\u001b[1;33m.\u001b[0m\u001b[0mf_locals\u001b[0m\u001b[1;33m\u001b[0m\u001b[0m\n\u001b[0;32m   2125\u001b[0m             \u001b[1;32mwith\u001b[0m \u001b[0mself\u001b[0m\u001b[1;33m.\u001b[0m\u001b[0mbuiltin_trap\u001b[0m\u001b[1;33m:\u001b[0m\u001b[1;33m\u001b[0m\u001b[0m\n\u001b[1;32m-> 2126\u001b[1;33m                 \u001b[0mresult\u001b[0m \u001b[1;33m=\u001b[0m \u001b[0mfn\u001b[0m\u001b[1;33m(\u001b[0m\u001b[1;33m*\u001b[0m\u001b[0margs\u001b[0m\u001b[1;33m,\u001b[0m\u001b[1;33m**\u001b[0m\u001b[0mkwargs\u001b[0m\u001b[1;33m)\u001b[0m\u001b[1;33m\u001b[0m\u001b[0m\n\u001b[0m\u001b[0;32m   2127\u001b[0m             \u001b[1;32mreturn\u001b[0m \u001b[0mresult\u001b[0m\u001b[1;33m\u001b[0m\u001b[0m\n\u001b[0;32m   2128\u001b[0m \u001b[1;33m\u001b[0m\u001b[0m\n",
        "\u001b[1;32mC:\\Python27\\lib\\site-packages\\IPython\\core\\magics\\execution.pyc\u001b[0m in \u001b[0;36mtimeit\u001b[1;34m(self, line, cell)\u001b[0m\n",
        "\u001b[1;32mC:\\Python27\\lib\\site-packages\\IPython\\core\\magic.pyc\u001b[0m in \u001b[0;36m<lambda>\u001b[1;34m(f, *a, **k)\u001b[0m\n\u001b[0;32m    191\u001b[0m     \u001b[1;31m# but it's overkill for just that one bit of state.\u001b[0m\u001b[1;33m\u001b[0m\u001b[1;33m\u001b[0m\u001b[0m\n\u001b[0;32m    192\u001b[0m     \u001b[1;32mdef\u001b[0m \u001b[0mmagic_deco\u001b[0m\u001b[1;33m(\u001b[0m\u001b[0marg\u001b[0m\u001b[1;33m)\u001b[0m\u001b[1;33m:\u001b[0m\u001b[1;33m\u001b[0m\u001b[0m\n\u001b[1;32m--> 193\u001b[1;33m         \u001b[0mcall\u001b[0m \u001b[1;33m=\u001b[0m \u001b[1;32mlambda\u001b[0m \u001b[0mf\u001b[0m\u001b[1;33m,\u001b[0m \u001b[1;33m*\u001b[0m\u001b[0ma\u001b[0m\u001b[1;33m,\u001b[0m \u001b[1;33m**\u001b[0m\u001b[0mk\u001b[0m\u001b[1;33m:\u001b[0m \u001b[0mf\u001b[0m\u001b[1;33m(\u001b[0m\u001b[1;33m*\u001b[0m\u001b[0ma\u001b[0m\u001b[1;33m,\u001b[0m \u001b[1;33m**\u001b[0m\u001b[0mk\u001b[0m\u001b[1;33m)\u001b[0m\u001b[1;33m\u001b[0m\u001b[0m\n\u001b[0m\u001b[0;32m    194\u001b[0m \u001b[1;33m\u001b[0m\u001b[0m\n\u001b[0;32m    195\u001b[0m         \u001b[1;32mif\u001b[0m \u001b[0mcallable\u001b[0m\u001b[1;33m(\u001b[0m\u001b[0marg\u001b[0m\u001b[1;33m)\u001b[0m\u001b[1;33m:\u001b[0m\u001b[1;33m\u001b[0m\u001b[0m\n",
        "\u001b[1;32mC:\\Python27\\lib\\site-packages\\IPython\\core\\magics\\execution.pyc\u001b[0m in \u001b[0;36mtimeit\u001b[1;34m(self, line, cell)\u001b[0m\n\u001b[0;32m   1014\u001b[0m                     \u001b[1;32mbreak\u001b[0m\u001b[1;33m\u001b[0m\u001b[0m\n\u001b[0;32m   1015\u001b[0m                 \u001b[0mnumber\u001b[0m \u001b[1;33m*=\u001b[0m \u001b[1;36m10\u001b[0m\u001b[1;33m\u001b[0m\u001b[0m\n\u001b[1;32m-> 1016\u001b[1;33m         \u001b[0mall_runs\u001b[0m \u001b[1;33m=\u001b[0m \u001b[0mtimer\u001b[0m\u001b[1;33m.\u001b[0m\u001b[0mrepeat\u001b[0m\u001b[1;33m(\u001b[0m\u001b[0mrepeat\u001b[0m\u001b[1;33m,\u001b[0m \u001b[0mnumber\u001b[0m\u001b[1;33m)\u001b[0m\u001b[1;33m\u001b[0m\u001b[0m\n\u001b[0m\u001b[0;32m   1017\u001b[0m         \u001b[0mbest\u001b[0m \u001b[1;33m=\u001b[0m \u001b[0mmin\u001b[0m\u001b[1;33m(\u001b[0m\u001b[0mall_runs\u001b[0m\u001b[1;33m)\u001b[0m \u001b[1;33m/\u001b[0m \u001b[0mnumber\u001b[0m\u001b[1;33m\u001b[0m\u001b[0m\n\u001b[0;32m   1018\u001b[0m         \u001b[1;32mif\u001b[0m \u001b[1;32mnot\u001b[0m \u001b[0mquiet\u001b[0m \u001b[1;33m:\u001b[0m\u001b[1;33m\u001b[0m\u001b[0m\n",
        "\u001b[1;32mC:\\Python27\\Lib\\timeit.pyc\u001b[0m in \u001b[0;36mrepeat\u001b[1;34m(self, repeat, number)\u001b[0m\n\u001b[0;32m    221\u001b[0m         \u001b[0mr\u001b[0m \u001b[1;33m=\u001b[0m \u001b[1;33m[\u001b[0m\u001b[1;33m]\u001b[0m\u001b[1;33m\u001b[0m\u001b[0m\n\u001b[0;32m    222\u001b[0m         \u001b[1;32mfor\u001b[0m \u001b[0mi\u001b[0m \u001b[1;32min\u001b[0m \u001b[0mrange\u001b[0m\u001b[1;33m(\u001b[0m\u001b[0mrepeat\u001b[0m\u001b[1;33m)\u001b[0m\u001b[1;33m:\u001b[0m\u001b[1;33m\u001b[0m\u001b[0m\n\u001b[1;32m--> 223\u001b[1;33m             \u001b[0mt\u001b[0m \u001b[1;33m=\u001b[0m \u001b[0mself\u001b[0m\u001b[1;33m.\u001b[0m\u001b[0mtimeit\u001b[0m\u001b[1;33m(\u001b[0m\u001b[0mnumber\u001b[0m\u001b[1;33m)\u001b[0m\u001b[1;33m\u001b[0m\u001b[0m\n\u001b[0m\u001b[0;32m    224\u001b[0m             \u001b[0mr\u001b[0m\u001b[1;33m.\u001b[0m\u001b[0mappend\u001b[0m\u001b[1;33m(\u001b[0m\u001b[0mt\u001b[0m\u001b[1;33m)\u001b[0m\u001b[1;33m\u001b[0m\u001b[0m\n\u001b[0;32m    225\u001b[0m         \u001b[1;32mreturn\u001b[0m \u001b[0mr\u001b[0m\u001b[1;33m\u001b[0m\u001b[0m\n",
        "\u001b[1;32mC:\\Python27\\Lib\\timeit.pyc\u001b[0m in \u001b[0;36mtimeit\u001b[1;34m(self, number)\u001b[0m\n\u001b[0;32m    193\u001b[0m         \u001b[0mgc\u001b[0m\u001b[1;33m.\u001b[0m\u001b[0mdisable\u001b[0m\u001b[1;33m(\u001b[0m\u001b[1;33m)\u001b[0m\u001b[1;33m\u001b[0m\u001b[0m\n\u001b[0;32m    194\u001b[0m         \u001b[1;32mtry\u001b[0m\u001b[1;33m:\u001b[0m\u001b[1;33m\u001b[0m\u001b[0m\n\u001b[1;32m--> 195\u001b[1;33m             \u001b[0mtiming\u001b[0m \u001b[1;33m=\u001b[0m \u001b[0mself\u001b[0m\u001b[1;33m.\u001b[0m\u001b[0minner\u001b[0m\u001b[1;33m(\u001b[0m\u001b[0mit\u001b[0m\u001b[1;33m,\u001b[0m \u001b[0mself\u001b[0m\u001b[1;33m.\u001b[0m\u001b[0mtimer\u001b[0m\u001b[1;33m)\u001b[0m\u001b[1;33m\u001b[0m\u001b[0m\n\u001b[0m\u001b[0;32m    196\u001b[0m         \u001b[1;32mfinally\u001b[0m\u001b[1;33m:\u001b[0m\u001b[1;33m\u001b[0m\u001b[0m\n\u001b[0;32m    197\u001b[0m             \u001b[1;32mif\u001b[0m \u001b[0mgcold\u001b[0m\u001b[1;33m:\u001b[0m\u001b[1;33m\u001b[0m\u001b[0m\n",
        "\u001b[1;32m<magic-timeit>\u001b[0m in \u001b[0;36minner\u001b[1;34m(_it, _timer)\u001b[0m\n",
        "\u001b[1;32mC:\\Users\\Minesh Mitha\\Documents\\GitHub\\6CS008-Learning-Journal\\notebooks\\sorting.pyc\u001b[0m in \u001b[0;36mbubble_sort\u001b[1;34m(items)\u001b[0m\n\u001b[0;32m      5\u001b[0m     \u001b[1;32mfor\u001b[0m \u001b[0mi\u001b[0m \u001b[1;32min\u001b[0m \u001b[0mrange\u001b[0m\u001b[1;33m(\u001b[0m\u001b[0mlen\u001b[0m\u001b[1;33m(\u001b[0m\u001b[0mitems\u001b[0m\u001b[1;33m)\u001b[0m\u001b[1;33m)\u001b[0m\u001b[1;33m:\u001b[0m\u001b[1;33m\u001b[0m\u001b[0m\n\u001b[0;32m      6\u001b[0m         \u001b[1;32mfor\u001b[0m \u001b[0mj\u001b[0m \u001b[1;32min\u001b[0m \u001b[0mrange\u001b[0m\u001b[1;33m(\u001b[0m\u001b[0mlen\u001b[0m\u001b[1;33m(\u001b[0m\u001b[0mitems\u001b[0m\u001b[1;33m)\u001b[0m\u001b[1;33m-\u001b[0m\u001b[1;36m1\u001b[0m\u001b[1;33m-\u001b[0m\u001b[0mi\u001b[0m\u001b[1;33m)\u001b[0m\u001b[1;33m:\u001b[0m\u001b[1;33m\u001b[0m\u001b[0m\n\u001b[1;32m----> 7\u001b[1;33m             \u001b[1;32mif\u001b[0m \u001b[0mitems\u001b[0m\u001b[1;33m[\u001b[0m\u001b[0mj\u001b[0m\u001b[1;33m]\u001b[0m \u001b[1;33m>\u001b[0m \u001b[0mitems\u001b[0m\u001b[1;33m[\u001b[0m\u001b[0mj\u001b[0m\u001b[1;33m+\u001b[0m\u001b[1;36m1\u001b[0m\u001b[1;33m]\u001b[0m\u001b[1;33m:\u001b[0m\u001b[1;33m\u001b[0m\u001b[0m\n\u001b[0m\u001b[0;32m      8\u001b[0m                 \u001b[0mitems\u001b[0m\u001b[1;33m[\u001b[0m\u001b[0mj\u001b[0m\u001b[1;33m]\u001b[0m\u001b[1;33m,\u001b[0m \u001b[0mitems\u001b[0m\u001b[1;33m[\u001b[0m\u001b[0mj\u001b[0m\u001b[1;33m+\u001b[0m\u001b[1;36m1\u001b[0m\u001b[1;33m]\u001b[0m \u001b[1;33m=\u001b[0m \u001b[0mitems\u001b[0m\u001b[1;33m[\u001b[0m\u001b[0mj\u001b[0m\u001b[1;33m+\u001b[0m\u001b[1;36m1\u001b[0m\u001b[1;33m]\u001b[0m\u001b[1;33m,\u001b[0m \u001b[0mitems\u001b[0m\u001b[1;33m[\u001b[0m\u001b[0mj\u001b[0m\u001b[1;33m]\u001b[0m     \u001b[1;31m# Swap!\u001b[0m\u001b[1;33m\u001b[0m\u001b[0m\n\u001b[0;32m      9\u001b[0m \u001b[1;33m\u001b[0m\u001b[0m\n",
        "\u001b[1;31mKeyboardInterrupt\u001b[0m: "
       ]
      }
     ],
     "prompt_number": 23
    },
    {
     "cell_type": "code",
     "collapsed": false,
     "input": [
      "print 'Running Heap Sort'\n",
      "\n",
      "print '10 Elements'\n",
      "test_run_list = to_be_sorted10[:] \n",
      "%timeit -n 1 -r 10 sorting.heap_sort(test_run_list)\n",
      "\n",
      "print '100 Elements'\n",
      "test_run_list = to_be_sorted100[:] \n",
      "%timeit -n 1 -r 10 sorting.heap_sort(test_run_list)\n",
      "\n",
      "print '1000 Elements'\n",
      "test_run_list = to_be_sorted1000[:] \n",
      "%timeit -n 1 -r 10 sorting.heap_sort(test_run_list)\n",
      "\n",
      "print '10000 Elements'\n",
      "test_run_list = to_be_sorted10000[:] \n",
      "%timeit -n 1 -r 10 sorting.heap_sort(test_run_list)\n",
      "\n",
      "print '100000 Elements'\n",
      "test_run_list = to_be_sorted100000[:] \n",
      "%timeit -n 1 -r 10 sorting.heap_sort(test_run_list)"
     ],
     "language": "python",
     "metadata": {},
     "outputs": []
    },
    {
     "cell_type": "code",
     "collapsed": false,
     "input": [
      "print 'Running Insertion Sort'\n",
      "\n",
      "print '10 Elements'\n",
      "test_run_list = to_be_sorted10[:] \n",
      "%timeit -n 1 -r 10 sorting.insertion_sort(test_run_list)\n",
      "\n",
      "print '100 Elements'\n",
      "test_run_list = to_be_sorted100[:] \n",
      "%timeit -n 1 -r 10 sorting.insertion_sort(test_run_list)\n",
      "\n",
      "print '1000 Elements'\n",
      "test_run_list = to_be_sorted1000[:] \n",
      "%timeit -n 1 -r 10 sorting.insertion_sort(test_run_list)\n",
      "\n",
      "print '10000 Elements'\n",
      "test_run_list = to_be_sorted10000[:] \n",
      "%timeit -n 1 -r 10 sorting.insertion_sort(test_run_list)\n",
      "\n",
      "print '100000 Elements'\n",
      "test_run_list = to_be_sorted100000[:] \n",
      "%timeit -n 1 -r 10 sorting.insertion_sort(test_run_list)"
     ],
     "language": "python",
     "metadata": {},
     "outputs": [
      {
       "output_type": "stream",
       "stream": "stdout",
       "text": [
        "Running Insertion Sort\n",
        "10 Elements\n",
        "1 loops, best of 10: 4.28 \u00b5s per loop\n",
        "100 Elements\n",
        "1 loops, best of 10: 31.2 \u00b5s per loop\n",
        "1000 Elements\n",
        "1 loops, best of 10: 195 \u00b5s per loop"
       ]
      },
      {
       "output_type": "stream",
       "stream": "stdout",
       "text": [
        "\n",
        "10000 Elements\n",
        "1 loops, best of 10: 1.98 ms per loop"
       ]
      }
     ]
    },
    {
     "cell_type": "heading",
     "level": 3,
     "metadata": {},
     "source": [
      "Task"
     ]
    },
    {
     "cell_type": "markdown",
     "metadata": {},
     "source": [
      "Your task for this workshop is the following: Based on the code given above, time different sorting algorithms (i.e., call different functions from the 'sorting.py') with different list sizes. You should try this with lists of: $10, 100, 10^3, 10^4, 10^5, 10^6$ number of elements (i.e., change the value of $size$). You are free to add extra list lengths in your experiments. Be aware that for larger lists, some algorithms (e.g., bubble_sort) will take several seconds to complete!\n",
      "\n",
      "For each list size and sorting algorithm, record the results in an excel spreadsheet. Create a graph like the one below to show your results (<a href=\"http://www.cs.toronto.edu/~yaroslav/teaching/w09/aps101/lectures.shtml\">credit</a>).\n",
      "\n",
      "<img src=\"time.png\" width=\"50%\">"
     ]
    },
    {
     "cell_type": "heading",
     "level": 2,
     "metadata": {},
     "source": [
      "2.4 Making the best of %timeit"
     ]
    },
    {
     "cell_type": "markdown",
     "metadata": {},
     "source": [
      "So, we've seen <b>%timeit</b> can help us in running code multiple times and getting an estimation of the time it takes to run.\n",
      "\n",
      "Unfortunately, this is still <i>quick and dirty</i>. Why? Because, we don't actually have access to the time every single code execution took.... for example, what if the OS was doing a background virus scan while heap_sort was running, but not while bubble_sort was running?\n",
      "\n",
      "<i>Question</i>: Why would be want to have access and compare all code executions?\n",
      "\n",
      ".... hmmm, but now that I think about it....Maybe we do!! Remember the <b>-o</b> parameter of %timeit?"
     ]
    },
    {
     "cell_type": "code",
     "collapsed": false,
     "input": [
      "#the -o parameter will return a TimeitResult object which we store in variable 'detailed_info'\n",
      "detailed_info = %timeit -n 1 -r 5 -o foo_names1 = [words for words in names if words.startswith('foo')]"
     ],
     "language": "python",
     "metadata": {},
     "outputs": [
      {
       "output_type": "stream",
       "stream": "stdout",
       "text": [
        "1 loops, best of 5: 11.9 ms per loop\n"
       ]
      }
     ],
     "prompt_number": 16
    },
    {
     "cell_type": "markdown",
     "metadata": {},
     "source": [
      "One of the useful properties of the TimeitResult is the <i>all_runs</i> which returns a list with all the timings"
     ]
    },
    {
     "cell_type": "code",
     "collapsed": false,
     "input": [
      "detailed_info.all_runs"
     ],
     "language": "python",
     "metadata": {},
     "outputs": [
      {
       "metadata": {},
       "output_type": "pyout",
       "prompt_number": 17,
       "text": [
        "[0.012363297349863522,\n",
        " 0.011951664996958655,\n",
        " 0.012579596523418779,\n",
        " 0.012565968627185065,\n",
        " 0.011930699002753009]"
       ]
      }
     ],
     "prompt_number": 17
    },
    {
     "cell_type": "markdown",
     "metadata": {},
     "source": [
      "<b>Attention</b>: Note that if we run %timeit with -n 10 then the TimeitResult will have the times of all the 10 runs:"
     ]
    },
    {
     "cell_type": "code",
     "collapsed": false,
     "input": [
      "detailed_info_2 = %timeit -n 10 -r 5 -o foo_names1 = [words for words in names if words.startswith('foo')]"
     ],
     "language": "python",
     "metadata": {},
     "outputs": []
    },
    {
     "cell_type": "code",
     "collapsed": false,
     "input": [
      "detailed_info_2.all_runs #results below will be x10 in magnitude than the ones reported above."
     ],
     "language": "python",
     "metadata": {},
     "outputs": [
      {
       "metadata": {},
       "output_type": "pyout",
       "prompt_number": 19,
       "text": [
        "[0.12678835562659163,\n",
        " 0.12141686791109141,\n",
        " 0.12415048412227847,\n",
        " 0.12129526514469902,\n",
        " 0.12234111882232579]"
       ]
      }
     ],
     "prompt_number": 19
    },
    {
     "cell_type": "markdown",
     "metadata": {},
     "source": [
      "Now, that we have stored the individual run times, we can do some <i>proper</i> analysis of the results by calculating the <b>mean</b> time of our code execution and the <b>deviation</b>.\n",
      "\n",
      "<ul>\n",
      "<li> <b>mean</b>: is the average time our code takes to run.\n",
      "<li> <b>deviation</b>: indicates how <i>spread</i> the individual run times are.\n",
      "</ul>\n",
      "\n",
      "Why are those two important? Why don't we just focus on the <i>mean</i> or <i>best</i>??\n",
      "\n",
      "Hopefully, the example below will help you understand the importance. Assume you have two algorithms that do the same thing (e.g., list sorting). Below we have a couple of graphs that show the might time they take to complete the task:"
     ]
    },
    {
     "cell_type": "code",
     "collapsed": false,
     "input": [
      "# ignore the math below. Focus on the graphs\n",
      "%matplotlib inline               \n",
      "import numpy as np\n",
      "import matplotlib.pyplot as plt\n",
      "\n",
      "# experiment settings\n",
      "repetitions = 100\n",
      "\n",
      "# first algorithm\n",
      "mean1 = 50\n",
      "sigma1 = 5\n",
      "y1 = np.random.normal(mean1, sigma1,repetitions)\n",
      "\n",
      "# second algorithm\n",
      "mean2 = 50\n",
      "sigma2 = 10\n",
      "y2 = np.random.normal(mean2, sigma2,repetitions)\n",
      "\n",
      "#plotting algorithm 1\n",
      "plt.hist(y1,20)\n",
      "plt.title(\"Histogram for algorithm 1\")\n",
      "plt.xlabel(\"Timings\")\n",
      "plt.ylabel(\"Frequency\")\n",
      "plt.show()\n",
      "\n",
      "#plotting algorithm 2\n",
      "plt.hist(y2,20)\n",
      "plt.title(\"Histogram for algorithm 2\")\n",
      "plt.xlabel(\"Timings\")\n",
      "plt.ylabel(\"Frequency\")\n",
      "plt.show()"
     ],
     "language": "python",
     "metadata": {},
     "outputs": [
      {
       "metadata": {},
       "output_type": "display_data",
       "png": "[encoded data removed]",
       "text": [
        "<matplotlib.figure.Figure at 0x7916810>"
       ]
      },
      {
       "metadata": {},
       "output_type": "display_data",
       "png": "[encoded data removed]",
       "text": [
        "<matplotlib.figure.Figure at 0x7ad9ff0>"
       ]
      }
     ],
     "prompt_number": 12
    },
    {
     "cell_type": "markdown",
     "metadata": {},
     "source": [
      "Both algorithms perform the task in 50 seconds on average. Nonetheless, algorithm 1 tends to perform within a range of $[40,60]$ while algorithm 2 has a much wider variety in its performance (i.e., $[20,70]$). In most cases, operational needs will prefer algorithm 1 because it is more <i>stable</i>, that is has a smaller deviation!\n",
      "\n",
      "\n",
      "Pragmatically, what this means is that apart from mean values we want some reassurance that the results of our experiments will be within a specific range. We call these: <b>confidence intervals</b>\n",
      "\n",
      "Simply, a confidence interval will provide  a range of values, rather than a single value (like average), in which we expect our results to lie most of the times you conduct your experiment. Typically, we use an interval value $95\\%$; that is, we range of values your experiment will take (e.g., number of seconds) $95\\%$ of the times you run the experiment.\n",
      "\n",
      "The code below implements a function that calculates confidence intervals (<a href=\"http://stackoverflow.com/questions/15033511/compute-a-confidence-interval-from-sample-data\">credit</a>). <b>Don't</b> worry about the code, just be aware of what it does."
     ]
    },
    {
     "cell_type": "code",
     "collapsed": false,
     "input": [
      "import numpy as np\n",
      "import scipy as sp\n",
      "import scipy.stats\n",
      "\n",
      "def mean_confidence_interval(data, confidence=0.95):\n",
      "    a = 1.0*np.array(data)\n",
      "    n = len(a)\n",
      "    m, se = np.mean(a), scipy.stats.sem(a)\n",
      "    h = se * sp.stats.t._ppf((1+confidence)/2., n-1)\n",
      "    return m, m-h, m+h\n",
      "\n",
      "# confidence interval for algorithm 1\n",
      "m1, low1, high1 = mean_confidence_interval(y1)\n",
      "print 'Algorithm\\'s 1 results range from %0.3f to %0.3f seconds with 95 percent confidence. The average is: %0.3f' % (low1, high1, m1)\n",
      "\n",
      "# confidence interval for algorithm 2\n",
      "m2, low2,high2 = mean_confidence_interval(y2)\n",
      "print 'Algorithm\\'s 2 results range from %0.3f to %0.3f seconds with 95 percent confidence. The average is: %0.3f' % (low2, high2, m2)\n",
      "\n"
     ],
     "language": "python",
     "metadata": {},
     "outputs": [
      {
       "output_type": "stream",
       "stream": "stdout",
       "text": [
        "Algorithm's 1 results range from 48.813 to 51.056 seconds with 95 percent confidence. The average is: 49.935\n",
        "Algorithm's 2 results range from 47.833 to 51.644 seconds with 95 percent confidence. The average is: 49.738\n"
       ]
      }
     ],
     "prompt_number": 13
    },
    {
     "cell_type": "heading",
     "level": 3,
     "metadata": {},
     "source": [
      "2.4.1 Applying confidence intervals in our setting"
     ]
    },
    {
     "cell_type": "markdown",
     "metadata": {},
     "source": [
      "So, to go back into our original problem, we'll apply the idea of <i>confidence intervals</i> to the issue we started with, creating lists of words that start with 'foo'!"
     ]
    },
    {
     "cell_type": "code",
     "collapsed": false,
     "input": [
      "# using 'startswith' method\n",
      "#apply method\n",
      "detailed_info_algo_1 = %timeit -n 1 -r 100 -o -q foo_names1 = [words for words in names if words.startswith('foo')]  \n",
      "#calculate and print confidence intervals\n",
      "print 'Mean: %f , lower bound: %f, upper bound: %f' % mean_confidence_interval(detailed_info_algo_1.all_runs)\n",
      "\n",
      "# using slicing\n",
      "detailed_info_algo_2 = %timeit -n 1 -r 100 -o -q foo_names2 = [words for words in names if words[:3]=='foo']\n",
      "#calculate and print confidence intervals\n",
      "print 'Mean: %f , lower bound: %f, upper bound: %f' % mean_confidence_interval(detailed_info_algo_2.all_runs)"
     ],
     "language": "python",
     "metadata": {},
     "outputs": [
      {
       "output_type": "stream",
       "stream": "stdout",
       "text": [
        "Mean: 0.305916 , lower bound: 0.300199, upper bound: 0.311632\n",
        "Mean: 0.133666 , lower bound: 0.131452, upper bound: 0.135880"
       ]
      },
      {
       "output_type": "stream",
       "stream": "stdout",
       "text": [
        "\n"
       ]
      }
     ],
     "prompt_number": 14
    },
    {
     "cell_type": "code",
     "collapsed": false,
     "input": [
      "print 'Running Bubble Sort'\n",
      "\n",
      "print '10 Elements'\n",
      "test_run_list = to_be_sorted10[:] \n",
      "bubble_result = %timeit -n 1 -r 10 -o -q sorting.bubble_sort(test_run_list)\n",
      "print 'Mean: %f , lower bound: %f, upper bound: %f' % mean_confidence_interval(bubble_result.all_runs)\n",
      "\n",
      "print '100 Elements'\n",
      "test_run_list = to_be_sorted100[:] \n",
      "bubble_result = %timeit -n 1 -r 10 -o -q sorting.bubble_sort(test_run_list)\n",
      "print 'Mean: %f , lower bound: %f, upper bound: %f' % mean_confidence_interval(bubble_result.all_runs)\n",
      "\n",
      "print '1000 Elements'\n",
      "test_run_list = to_be_sorted1000[:] \n",
      "bubble_result = %timeit -n 1 -r 10 -o -q sorting.bubble_sort(test_run_list)\n",
      "print 'Mean: %f , lower bound: %f, upper bound: %f' % mean_confidence_interval(bubble_result.all_runs)\n",
      "\n",
      "\n",
      "print '10000 Elements'\n",
      "test_run_list = to_be_sorted10000[:] \n",
      "bubble_result = %timeit -n 1 -r 10 -o -q sorting.bubble_sort(test_run_list)\n",
      "print 'Mean: %f , lower bound: %f, upper bound: %f' % mean_confidence_interval(bubble_result.all_runs)\n"
     ],
     "language": "python",
     "metadata": {},
     "outputs": []
    },
    {
     "cell_type": "markdown",
     "metadata": {},
     "source": [
      "In conclusion, we can see that the slicing method is not not only faster but has a much smaller deviation! Therefore, it should be preferable!!"
     ]
    },
    {
     "cell_type": "heading",
     "level": 2,
     "metadata": {},
     "source": [
      "2.4 Workshop 2"
     ]
    },
    {
     "cell_type": "markdown",
     "metadata": {},
     "source": [
      "Combine the code above with the code we examined before that times different sorting algorithms in the box below and print confidence intervals for all the algorithms, sorting lists of $10, 100, 10^3, 10^4, 10^5, 10^6$ elements. Put the numbers at a second spreadsheet."
     ]
    },
    {
     "cell_type": "heading",
     "level": 1,
     "metadata": {},
     "source": [
      "<font color=\"red\">Bonus</font>"
     ]
    },
    {
     "cell_type": "markdown",
     "metadata": {},
     "source": [
      "Complete workshop exercises 1 and 2; put your results in a single excel file (one spreadsheet each) and upload to WOLF by next Sunday. Doing so will grant you a <b>10 percentile point</b> bonus to your assessment 3 marks. <i>Note:</i> you need to complete both workshops to get the full bonus. No points will be given for half-completed workshop exercises.\n",
      "\n",
      "<b>Note:</b> If any trace of collusion or plagiarism is found in your submissions, the bonus will be cancelled for the <b> whole </b> class!"
     ]
    },
    {
     "cell_type": "heading",
     "level": 1,
     "metadata": {},
     "source": [
      "3. Profiling code [self-study]"
     ]
    },
    {
     "cell_type": "markdown",
     "metadata": {},
     "source": [
      "<i>Profiling code</i> is closely relating with <i>timing</i> but focuses on determing <b>where</b> (i.e., in which lines of code) time spent. That is, it helps us determine the parts of our code that are particularly slow, and thus indicate where we should spend our efforts.\n",
      "\n",
      "As previously, <i>iPython</i> provide a <b>magic function</b> that helps with this: <b>%prun</b>. Let's see how that plays, using the sorting functions as examples. You can find the full documentation of the function <a href=\"http://ipython.org/ipython-doc/2/api/generated/IPython.core.magics.execution.html#IPython.core.magics.execution.ExecutionMagics.prun\">here</a>."
     ]
    },
    {
     "cell_type": "code",
     "collapsed": false,
     "input": [
      "test_run_list = to_be_sorted[:]\n",
      "print 'Length of unsorted list is: %d' % len(test_run_list)\n",
      "print test_run_list[:10]\n",
      "%prun sorting.bubble_sort(test_run_list)"
     ],
     "language": "python",
     "metadata": {},
     "outputs": [
      {
       "output_type": "stream",
       "stream": "stdout",
       "text": [
        "Length of unsorted list is: 1000\n",
        "[0, 1, 2, 3, 4, 5, 6, 7, 8, 9]\n"
       ]
      },
      {
       "output_type": "stream",
       "stream": "stdout",
       "text": [
        " "
       ]
      }
     ],
     "prompt_number": 6
    },
    {
     "cell_type": "markdown",
     "metadata": {},
     "source": [
      "Lastly, <i>iPython</i> provides another magic function <b>%lprun</b> that provides slightly more intuitive and easy-to-read results. <b>Note</b>: for this work you need to have the <b>line_profiler</b> iPython extension downloaded and enabled! Instructions on downloading can be found <a href=\"https://github.com/rkern/line_profiler\">here</a> (we are naturally assuming that you've already installed the <a href=\"http://continuum.io/downloads\">Anaconda Python distribution</a>). See how it works below:"
     ]
    },
    {
     "cell_type": "raw",
     "metadata": {},
     "source": [
      "%lprun -f [functon to profile] -f [another function to profile] statement_to_run"
     ]
    },
    {
     "cell_type": "code",
     "collapsed": false,
     "input": [
      "%load_ext line_profiler\n",
      "\n",
      "test_run_list = to_be_sorted[:]\n",
      "%lprun -f sorting.bubble_sort sorting.bubble_sort(test_run_list)\n",
      "%lprun -f sorting.bubble_sort sorting.bubble_sort(test_run_list)"
     ],
     "language": "python",
     "metadata": {},
     "outputs": [
      {
       "output_type": "stream",
       "stream": "stdout",
       "text": [
        "The line_profiler extension is already loaded. To reload it, use:\n",
        "  %reload_ext line_profiler\n"
       ]
      }
     ],
     "prompt_number": 5
    },
    {
     "cell_type": "code",
     "collapsed": false,
     "input": [
      "#-- Bubble 10\n",
      "test_run_list = to_be_sorted10[:] \n",
      "%lprun -f sorting.bubble_sort sorting.bubble_sort(test_run_list)"
     ],
     "language": "python",
     "metadata": {},
     "outputs": [],
     "prompt_number": 7
    },
    {
     "cell_type": "heading",
     "level": 2,
     "metadata": {},
     "source": [
      "3.1 Workshop 3"
     ]
    },
    {
     "cell_type": "markdown",
     "metadata": {},
     "source": [
      "Try profiling some of the sorting functions we saw before. Which lines of code were the slowest?"
     ]
    },
    {
     "cell_type": "code",
     "collapsed": false,
     "input": [],
     "language": "python",
     "metadata": {},
     "outputs": [],
     "prompt_number": 24
    }
   ],
   "metadata": {}
  }
 ]
}